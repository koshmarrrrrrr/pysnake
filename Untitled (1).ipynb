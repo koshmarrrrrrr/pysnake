{
 "cells": [
  {
   "cell_type": "markdown",
   "id": "513d50d0",
   "metadata": {},
   "source": [
    "# Установка библиотек"
   ]
  },
  {
   "cell_type": "code",
   "execution_count": 1,
   "id": "93edbb2b",
   "metadata": {},
   "outputs": [],
   "source": [
    "import requests\n",
    "from bs4 import BeautifulSoup"
   ]
  },
  {
   "cell_type": "markdown",
   "id": "fb5bd5c0",
   "metadata": {},
   "source": [
    "# Разработка парсера для сбора данных с рекомендованных веб-ресурсов"
   ]
  },
  {
   "cell_type": "code",
   "execution_count": 2,
   "id": "64f61856",
   "metadata": {},
   "outputs": [],
   "source": [
    "def get_pages_links(url:str, lists:list = [])->list:#Метод извлекает все ссылки с начальной страницы\n",
    "    response = requests.get(url)\n",
    "    soup = BeautifulSoup(response.content, 'html.parser')\n",
    "    try:\n",
    "        lists.append(url)\n",
    "        next_page_link = \"https://habr.com\" + soup.find('a', id='pagination-next-page')[\"href\"]\n",
    "        get_pages_links(next_page_link, lists)\n",
    "    except:\n",
    "        pass\n",
    "    return lists"
   ]
  },
  {
   "cell_type": "code",
   "execution_count": 3,
   "id": "07810819",
   "metadata": {},
   "outputs": [],
   "source": [
    "def get_posts_links_by_page_url(page_url: str)-> list: #Метод выполняет обход всех публикаций по извлеченным ссылкам\n",
    "    posts_links = []\n",
    "    response = requests.get(page_url)\n",
    "    soup = BeautifulSoup(response.content, 'html.parser')\n",
    "    for post_link in soup.find_all('a', class_='tm-title__link'):\n",
    "        link = \"https://habr.com\" + post_link[\"href\"]\n",
    "        posts_links.append(link)\n",
    "    return posts_links"
   ]
  },
  {
   "cell_type": "code",
   "execution_count": 4,
   "id": "2ab5e83f",
   "metadata": {},
   "outputs": [],
   "source": [
    "def get_all_posts_links(company_url):#Метод извлекает все ссылки с постов\n",
    "    pages_links = get_pages_links(company_url)\n",
    "    linkes = []\n",
    "    for link in pages_links:\n",
    "        linkes.append(get_posts_links_by_page_url(link))\n",
    "    flat_list = [item for sublist in linkes for item in sublist]\n",
    "    return list(set(flat_list))"
   ]
  },
  {
   "cell_type": "code",
   "execution_count": 5,
   "id": "709d3754",
   "metadata": {},
   "outputs": [],
   "source": [
    "def get_profile_info(profile_url)->dict:\n",
    "    response = requests.get(profile_url)\n",
    "    soup = BeautifulSoup(response.content, 'html.parser')\n",
    "    \n",
    "    categories = soup.findAll(\"a\", class_ = \"tm-company-profile__categories-text\")\n",
    "    category_list = []\n",
    "    for category in categories:\n",
    "        category_list.append(category.get_text())\n",
    "        \n",
    "    data = {\n",
    "        \"rating_company\" : soup.find(\"span\", class_ = \"tm-votes-lever__score-counter\").get_text(),\n",
    "        \"desc_company\" : soup.find(\"div\", class_ = \"tm-company-card__description\").get_text(),\n",
    "        \"category_list_company\" : category_list,\n",
    "        \"about_company\" : soup.find(\"span\", class_ = \"tm-company-profile__content\").get_text()\n",
    "    }\n",
    "    return data"
   ]
  },
  {
   "cell_type": "markdown",
   "id": "f7f4d8ee",
   "metadata": {},
   "source": [
    "В набор включены все предоставленные данные Набор данных дополнен информацией из аналитических статей Интернет-источников Определены и обоснованы наиболее значимые атрибуты"
   ]
  },
  {
   "cell_type": "code",
   "execution_count": 6,
   "id": "4d2c7dbd",
   "metadata": {},
   "outputs": [],
   "source": [
    "import re\n",
    "def get_company_post_info(post_url):\n",
    "    response = requests.get(post_url)\n",
    "    soup = BeautifulSoup(response.content, 'html.parser')\n",
    "    \n",
    "    tags_post = []\n",
    "    tags = soup.findAll(\"a\", class_ = \"tm-article-snippet__hubs-item-link\") \n",
    "    for tag in tags:\n",
    "        tags_post.append(tag.get_text())\n",
    "        \n",
    "    labels_post = []\n",
    "    labels = soup.findAll(\"div\", class_ = \"tm-article-snippet__label\") \n",
    "    for label in labels:\n",
    "        labels_post.append(label.get_text()) \n",
    "    tag = soup.find(\"span\", class_=\"tm-article-complexity__label\")\n",
    "    if tag is not None:\n",
    "        difficulty_post = tag.get_text()\n",
    "    else:\n",
    "        difficulty_post = \"No label found\"\n",
    "    reading_time = soup.find(\"span\", class_=\"tm-article-reading-time__label\")\n",
    "    if reading_time is not None:\n",
    "        reading_time_post = re.findall(r'\\d+', reading_time.get_text())[0]\n",
    "    else:\n",
    "        reading_time_post = \"N/A\"\n",
    "        \n",
    "    views_count = soup.find(\"span\", class_=\"tm-icon-counter__value\")\n",
    "    if views_count is not None:\n",
    "        views_count_post = re.findall(r'\\d+\\.\\d+|\\d+', views_count.get_text())[0]\n",
    "    else:\n",
    "        views_count_post = \"N/A\"\n",
    "    data = {\n",
    "        \"name_post\": soup.find(\"h1\", class_ = \"tm-title tm-title_h1\").get_text(),\n",
    "         \"difficulty_post\" : difficulty_post,\n",
    "        \"reading_time_post\" : reading_time_post,\n",
    "        \"views_count_post\" : views_count_post,\n",
    "        \"tags_post\" : tags_post,\n",
    "        \"text_post\" : soup.find(\"div\", class_=\"tm-article-body\").get_text()\n",
    "\n",
    "    }\n",
    "    return data"
   ]
  },
  {
   "cell_type": "markdown",
   "id": "873c2449",
   "metadata": {},
   "source": [
    "# Парсер выполняет обход всех публикаций по извлеченным ссылкам с начальной страницы"
   ]
  },
  {
   "cell_type": "code",
   "execution_count": 8,
   "id": "1ea8da10",
   "metadata": {},
   "outputs": [],
   "source": [
    "companies_urls = [\n",
    "    \"https://habr.com/ru/companies/avito\"\n",
    "]\n",
    "posts = []\n",
    "for company_url in companies_urls:\n",
    "    urls_posts = get_all_posts_links(company_url + \"/blog/\")\n",
    "    profile_company = get_profile_info(company_url +\"/profile/\")\n",
    "    \n",
    "    for url in urls_posts:\n",
    "        post = get_company_post_info(url)\n",
    "        post.update(profile_company)\n",
    "        posts.append(post)"
   ]
  },
  {
   "cell_type": "code",
   "execution_count": 9,
   "id": "a56405a9",
   "metadata": {},
   "outputs": [
    {
     "data": {
      "text/html": [
       "<div>\n",
       "<style scoped>\n",
       "    .dataframe tbody tr th:only-of-type {\n",
       "        vertical-align: middle;\n",
       "    }\n",
       "\n",
       "    .dataframe tbody tr th {\n",
       "        vertical-align: top;\n",
       "    }\n",
       "\n",
       "    .dataframe thead th {\n",
       "        text-align: right;\n",
       "    }\n",
       "</style>\n",
       "<table border=\"1\" class=\"dataframe\">\n",
       "  <thead>\n",
       "    <tr style=\"text-align: right;\">\n",
       "      <th></th>\n",
       "      <th>name_post</th>\n",
       "      <th>difficulty_post</th>\n",
       "      <th>reading_time_post</th>\n",
       "      <th>views_count_post</th>\n",
       "      <th>tags_post</th>\n",
       "      <th>text_post</th>\n",
       "      <th>rating_company</th>\n",
       "      <th>desc_company</th>\n",
       "      <th>category_list_company</th>\n",
       "      <th>about_company</th>\n",
       "    </tr>\n",
       "  </thead>\n",
       "  <tbody>\n",
       "    <tr>\n",
       "      <th>0</th>\n",
       "      <td>Материалы с казанского Go-митапа: разбор XML, ...</td>\n",
       "      <td>No label found</td>\n",
       "      <td>3</td>\n",
       "      <td>3.8</td>\n",
       "      <td>[Блог компании AvitoTech , XML *, Администриро...</td>\n",
       "      <td>Привет! Мы вернулись из Казани, где проводили...</td>\n",
       "      <td>\\n        195.22\\n</td>\n",
       "      <td>У нас живут ваши объявления</td>\n",
       "      <td>[\\n              Веб-разработка\\n            ,...</td>\n",
       "      <td>Мы команда инженеров Авито. В блоге рассказыва...</td>\n",
       "    </tr>\n",
       "    <tr>\n",
       "      <th>1</th>\n",
       "      <td>Для чего и как мы скрываем госномера автомобил...</td>\n",
       "      <td>No label found</td>\n",
       "      <td>7</td>\n",
       "      <td>86</td>\n",
       "      <td>[Блог компании AvitoTech , Python *, Программи...</td>\n",
       "      <td>Привет. В конце прошлого года мы стали автома...</td>\n",
       "      <td>\\n        195.22\\n</td>\n",
       "      <td>У нас живут ваши объявления</td>\n",
       "      <td>[\\n              Веб-разработка\\n            ,...</td>\n",
       "      <td>Мы команда инженеров Авито. В блоге рассказыва...</td>\n",
       "    </tr>\n",
       "    <tr>\n",
       "      <th>2</th>\n",
       "      <td>Как не ошибиться с конкурентностью в Go</td>\n",
       "      <td>No label found</td>\n",
       "      <td>12</td>\n",
       "      <td>27</td>\n",
       "      <td>[Блог компании AvitoTech , Высокая производите...</td>\n",
       "      <td>Почему мы вообще хотим писать конкурентный ко...</td>\n",
       "      <td>\\n        195.22\\n</td>\n",
       "      <td>У нас живут ваши объявления</td>\n",
       "      <td>[\\n              Веб-разработка\\n            ,...</td>\n",
       "      <td>Мы команда инженеров Авито. В блоге рассказыва...</td>\n",
       "    </tr>\n",
       "    <tr>\n",
       "      <th>3</th>\n",
       "      <td>Как собрать свой Lighthouse</td>\n",
       "      <td>No label found</td>\n",
       "      <td>11</td>\n",
       "      <td>5</td>\n",
       "      <td>[Блог компании Конференции Олега Бунина (Онтик...</td>\n",
       "      <td>Чем интенсивнее наш feature delivering, тем б...</td>\n",
       "      <td>\\n        195.22\\n</td>\n",
       "      <td>У нас живут ваши объявления</td>\n",
       "      <td>[\\n              Веб-разработка\\n            ,...</td>\n",
       "      <td>Мы команда инженеров Авито. В блоге рассказыва...</td>\n",
       "    </tr>\n",
       "    <tr>\n",
       "      <th>4</th>\n",
       "      <td>Введение в Puppet</td>\n",
       "      <td>No label found</td>\n",
       "      <td>26</td>\n",
       "      <td>53</td>\n",
       "      <td>[Блог компании AvitoTech , Системное администр...</td>\n",
       "      <td>Puppet — это система управления конфигурацией...</td>\n",
       "      <td>\\n        195.22\\n</td>\n",
       "      <td>У нас живут ваши объявления</td>\n",
       "      <td>[\\n              Веб-разработка\\n            ,...</td>\n",
       "      <td>Мы команда инженеров Авито. В блоге рассказыва...</td>\n",
       "    </tr>\n",
       "  </tbody>\n",
       "</table>\n",
       "</div>"
      ],
      "text/plain": [
       "                                           name_post difficulty_post  \\\n",
       "0  Материалы с казанского Go-митапа: разбор XML, ...  No label found   \n",
       "1  Для чего и как мы скрываем госномера автомобил...  No label found   \n",
       "2            Как не ошибиться с конкурентностью в Go  No label found   \n",
       "3                        Как собрать свой Lighthouse  No label found   \n",
       "4                                  Введение в Puppet  No label found   \n",
       "\n",
       "  reading_time_post views_count_post  \\\n",
       "0                 3              3.8   \n",
       "1                 7               86   \n",
       "2                12               27   \n",
       "3                11                5   \n",
       "4                26               53   \n",
       "\n",
       "                                           tags_post  \\\n",
       "0  [Блог компании AvitoTech , XML *, Администриро...   \n",
       "1  [Блог компании AvitoTech , Python *, Программи...   \n",
       "2  [Блог компании AvitoTech , Высокая производите...   \n",
       "3  [Блог компании Конференции Олега Бунина (Онтик...   \n",
       "4  [Блог компании AvitoTech , Системное администр...   \n",
       "\n",
       "                                           text_post  \\\n",
       "0   Привет! Мы вернулись из Казани, где проводили...   \n",
       "1   Привет. В конце прошлого года мы стали автома...   \n",
       "2   Почему мы вообще хотим писать конкурентный ко...   \n",
       "3   Чем интенсивнее наш feature delivering, тем б...   \n",
       "4   Puppet — это система управления конфигурацией...   \n",
       "\n",
       "             rating_company                 desc_company  \\\n",
       "0  \\n        195.22\\n        У нас живут ваши объявления   \n",
       "1  \\n        195.22\\n        У нас живут ваши объявления   \n",
       "2  \\n        195.22\\n        У нас живут ваши объявления   \n",
       "3  \\n        195.22\\n        У нас живут ваши объявления   \n",
       "4  \\n        195.22\\n        У нас живут ваши объявления   \n",
       "\n",
       "                               category_list_company  \\\n",
       "0  [\\n              Веб-разработка\\n            ,...   \n",
       "1  [\\n              Веб-разработка\\n            ,...   \n",
       "2  [\\n              Веб-разработка\\n            ,...   \n",
       "3  [\\n              Веб-разработка\\n            ,...   \n",
       "4  [\\n              Веб-разработка\\n            ,...   \n",
       "\n",
       "                                       about_company  \n",
       "0  Мы команда инженеров Авито. В блоге рассказыва...  \n",
       "1  Мы команда инженеров Авито. В блоге рассказыва...  \n",
       "2  Мы команда инженеров Авито. В блоге рассказыва...  \n",
       "3  Мы команда инженеров Авито. В блоге рассказыва...  \n",
       "4  Мы команда инженеров Авито. В блоге рассказыва...  "
      ]
     },
     "execution_count": 9,
     "metadata": {},
     "output_type": "execute_result"
    }
   ],
   "source": [
    "import pandas as pd\n",
    "df = pd.DataFrame(posts)\n",
    "df.head()"
   ]
  },
  {
   "cell_type": "code",
   "execution_count": null,
   "id": "f4dcf872",
   "metadata": {},
   "outputs": [],
   "source": [
    "import pandas as pd\n",
    "import json\n",
    "\n",
    "with open('Gett.json',errors=\"ignore\")as project_file: \n",
    "    data = json.load(project_file)  \n",
    "with open('skillbox.json',errors=\"ignore\")as project_file: \n",
    "    data = json.load(project_file)\n",
    "with open('Здоровье.ру.json',errors=\"ignore\")as project_file: \n",
    "    data = json.load(project_file)\n",
    "with open('Иннотех.json',errors=\"ignore\")as project_file: \n",
    "    data = json.load(project_file)\n",
    "with open('gg.json',errors=\"ignore\")as project_file: \n",
    "    data = json.load(project_file)\n",
    "with open('Промобот.json',errors=\"ignore\")as project_file: \n",
    "    data = json.load(project_file)\n",
    "\n",
    "df2 = pd.json_normalize(data)"
   ]
  },
  {
   "cell_type": "code",
   "execution_count": null,
   "id": "54d12f80",
   "metadata": {},
   "outputs": [],
   "source": [
    "import pandas as pd\n",
    "frames = [df1, df2]\n",
    "  \n",
    "df = pd.concat(frames)"
   ]
  },
  {
   "cell_type": "markdown",
   "id": "f6b2d9d7",
   "metadata": {},
   "source": [
    "# Парсинг веб-сайтов сохраняет полученные интернет-данные в файлы"
   ]
  },
  {
   "cell_type": "code",
   "execution_count": 9,
   "id": "62562891",
   "metadata": {},
   "outputs": [
    {
     "name": "stdout",
     "output_type": "stream",
     "text": [
      "Данные сохранены в файл example.html\n"
     ]
    }
   ],
   "source": [
    "import requests\n",
    "\n",
    "# Выполняем GET-запрос к веб-сайту\n",
    "response = requests.get('https://habr.com/ru/companies/avito')\n",
    "\n",
    "# Проверяем успешность запроса\n",
    "if response.status_code == 200:\n",
    "    # Сохраняем содержимое ответа в текстовый файлЫ\n",
    "    with open('example.html', 'w', encoding='utf-8') as f:\n",
    "        f.write(response.text)\n",
    "        print('Данные сохранены в файл example.html')\n",
    "else:\n",
    "    print('Ошибка при выполнении запроса:', response.status_code)"
   ]
  },
  {
   "cell_type": "markdown",
   "id": "4e3ac769",
   "metadata": {},
   "source": [
    "# В набор включены все предоставленные данные"
   ]
  },
  {
   "cell_type": "code",
   "execution_count": 10,
   "id": "42313bf2",
   "metadata": {},
   "outputs": [
    {
     "data": {
      "text/plain": [
       "Index(['name_post', 'difficulty_post', 'reading_time_post', 'views_count_post',\n",
       "       'tags_post', 'text_post', 'rating_company', 'desc_company',\n",
       "       'category_list_company', 'about_company'],\n",
       "      dtype='object')"
      ]
     },
     "execution_count": 10,
     "metadata": {},
     "output_type": "execute_result"
    }
   ],
   "source": [
    "df.columns"
   ]
  },
  {
   "cell_type": "code",
   "execution_count": 11,
   "id": "359dbe07",
   "metadata": {},
   "outputs": [
    {
     "data": {
      "text/plain": [
       "array(['Материалы с казанского Go-митапа: разбор XML, gopls, drone.io и работа с миграциями',\n",
       "       'Для чего и как мы скрываем госномера автомобилей в объявлениях Авито',\n",
       "       'Как не ошибиться с конкурентностью в Go',\n",
       "       'Как собрать свой Lighthouse', 'Введение в Puppet',\n",
       "       'PHP жив. PHP 7 на практике',\n",
       "       'Как не отказаться от тестирования фича-веток при переходе на микросервисы',\n",
       "       'PG Metricus — сбор метрик из plpgsql кода или как три строчки кода упростили жизнь',\n",
       "       'Как можно тестировать платформенные сервисы',\n",
       "       'Как мы решали задачу продолжения плейлистов на RecSys Challenge и заняли 3 место',\n",
       "       'Обзор докладов с конференции Hydra 2021',\n",
       "       'И снова 256-й день года',\n",
       "       'Tornado vs Aiohttp: путешествие в дебри асинхронных фреймворков',\n",
       "       'Тесты на знание Python, PHP, Golang и DevOps: разбор викторины AvitoQuiz на Highload',\n",
       "       'Путешествие внутрь Avito: платформа',\n",
       "       'FPS не падай, девайс не грейся',\n",
       "       'Выкуп подержанных смартфонов на Авито: как мы запустили пилот за три месяца',\n",
       "       'Как и зачем тестировать код на бэкенде: рекомендации для новичков',\n",
       "       'Unit-тестирование скриншотами: преодолеваем звуковой барьер. Расшифровка доклада',\n",
       "       'Машинное обучение в Avito. Видеозаписи со встречи кейс-клуба Data Science 14 марта',\n",
       "       'Видеозаписи с Avito Data Science meetup',\n",
       "       'Академия Аналитиков Авито: новый набор',\n",
       "       'Как data science Авито Доставке помогал',\n",
       "       'Персонализируй это. Отчёт с Avito Data Science Meetup: Personalization',\n",
       "       'Четыре реальные истории работы с микросервисной архитектурой — отчёт с митапа Backend United 3: Холодец',\n",
       "       'Как я сделал дизайн для Брендспейса Авито за две недели, а потом дважды его переделывал',\n",
       "       'Mosdroid #6 — отчёт',\n",
       "       'Стажировки для разработчиков в Авито: боевые задачи и работа с опытными наставниками',\n",
       "       'Материалы митапа GOnline: дизайн библиотек, кодогенерация, машинное обучение',\n",
       "       'Микросервисы для чайников: как на них перейти с монолита с нуля',\n",
       "       'Avito Design Talk: точки роста, краудсорсинг, сайд-проекты',\n",
       "       'SPA Meetup 5: интеграция Jest с QA, мощный UIKit, библиотеки компонентов, DI для масштабирования, платформенные команды',\n",
       "       'Приоритизация в Scrum по ICE. Опыт Авито',\n",
       "       'Масштабируем WebSocket соединения на Go',\n",
       "       'Поддержка mTLS в своём Service Mesh: чему мы научились',\n",
       "       'Backend United 3: Холодец',\n",
       "       'Встреча #RuPostgres — викторина и the last call',\n",
       "       'Kafka и микросервисы: обзор',\n",
       "       'Мы два года развивали свою систему мониторинга. Кликай, чтобы…',\n",
       "       'Paparazzo. Мощный, стильный, свой. Часть I',\n",
       "       'Как работать с Postgres в Go: практики, особенности, нюансы',\n",
       "       'Open source: CI/CD и тестовая инфраструктура Авито для Android',\n",
       "       'Материалы Avito Design Talk: видео и презентации',\n",
       "       'Go после Python: как я учу новый язык',\n",
       "       'Эволюция архитектуры Авито, или Как мы монолит в Kubernetes затолкали',\n",
       "       'Vertica+Anchor Modeling = запусти рост своей грибницы',\n",
       "       'Backend United #1. Винегрет — видео, фотоотчёт, презентации и отзывы слушателей',\n",
       "       'Разрабы работают медленно и дорого — и люди считают нас лентяями. Просто в разработке всё сложно',\n",
       "       'devleads meetup: собираем эффективную команду, оптимизируем разработку, обсуждаем актуальные вопросы',\n",
       "       'Встреча #RuPostgres: масштабирование приложений на PostgreSQL',\n",
       "       'Материалы с митапа по Кафке: СDC коннекторы, проблемы роста, Kubernetes',\n",
       "       'Backend United #5: Шаурма — микросервисы, распределенные системы и Кафка',\n",
       "       'Управление секретами при помощи HashiCorp Vault',\n",
       "       'Читаем, слушаем, используем. Гайд по источникам для саморазвития Android-разработчика',\n",
       "       'Как расти менеджерам: подробная инструкция на примере менеджерской линейки Авито',\n",
       "       'Kotlin Night Moscow — видео, фото, презентации',\n",
       "       'Прямой эфир: инфраструктура фронтенда',\n",
       "       'Бесплатная Академия Аналитиков Авито для начинающих',\n",
       "       'HighLoad++: презентации от докладчиков Авито, конспекты, фото и впечатления',\n",
       "       'Материалы PaaS-митапа: как платформа улучшает опыт разработчиков',\n",
       "       'Avito Kafka meetup: коннекторы, интеграция, облака',\n",
       "       'Приключения одного бага или как починить pgx чужими руками',\n",
       "       'Умные тесты производительности своими руками',\n",
       "       'Расставляем точки над микросервисами. Секция Avito на РИТ++ 2017 (Видео)',\n",
       "       'Использование faiss для поиска по многомерным пространствам',\n",
       "       'Версионирование и деплой кода PostgreSQL',\n",
       "       'Как тестируют в Автотеке: MindMap’s, статический анализ кода и MockServer',\n",
       "       'Строим эффективный сетевой обмен в PHP-микросервисах',\n",
       "       'Moscow SPA №4: краткое содержание, видео, презентации, фотоотчёт',\n",
       "       'Материалы со встречи #RuPostgres — видеозаписи, презентации, разбор викторины и фотоотчёт',\n",
       "       'РИТ++ 2020: консультации с инженерами Авито в Зуме',\n",
       "       'Backend United #1. Винегрет. Анонс',\n",
       "       'Как осознать себя в роли руководителя тимлидов',\n",
       "       'Как запустить Istio, используя Kubernetes в production. Часть 1',\n",
       "       'Один день в роли сотрудника поддержки пользователей. Что это меняет?',\n",
       "       'Прямой эфир: производительность фронтенда',\n",
       "       'Развитие стажёра через OKR',\n",
       "       'Backend United #6: Табаско — разработчики о безопасности',\n",
       "       'Чего ждать от NeoVim: особенности редактора',\n",
       "       'Centrifugo — новости не в реальном времени',\n",
       "       'Дизайн-система Авито: как всё устроено',\n",
       "       'Как мы в Авито обучаем UX-редакторов',\n",
       "       'Работа с инцидентами, улучшение incident response и ценность техдолга. Материалы митапа Backend United 4: Окрошка',\n",
       "       'Звонки в приложениях Авито',\n",
       "       'Исследование про исследователей: что мы узнали',\n",
       "       'Avito Data Science Meetup: Personalization',\n",
       "       'Версионирование данных в Инфомодели Авито',\n",
       "       'Митап Общества анонимных тестировщиков #7 — отчёт со встречи',\n",
       "       'Чемпионат #PGHACK. Платформа', 'Avito Analytics meetup',\n",
       "       'Критерий Манна-Уитни — самый главный враг A/B-тестов',\n",
       "       'Avito Playbook: initial commit',\n",
       "       'Эволюция обзора спринта в Agile-команде',\n",
       "       'Bioyino — распределённый, масштабируемый агрегатор метрик',\n",
       "       'Фича-тогглы: инструкция по применению',\n",
       "       'Ни GA, ни ЯМ. Как мы сделали собственный кликстрим',\n",
       "       'Материалы с android-митапа: инструменты для автотестов | Yandex Mapkit 3 | дизайн приложений | Server Driven UI',\n",
       "       'Istio и Kubernetes в production. Часть 2. Tracing',\n",
       "       'Видеозаписи со встречи CocoaHeads 1 марта 2017',\n",
       "       'Материалы митапа для аналитиков: кейс с A/B-тестами и продвижение Доставки',\n",
       "       'Оптимизация микросервиса на Go на живом примере',\n",
       "       'История хранилища картинок Avito',\n",
       "       'Работаем с Atlassian Service Desk, получаем максимум от плагина Riada Insight — отчёт со встречи Atlassian User Group',\n",
       "       'FullStack 2017 в Лондоне: детали',\n",
       "       'Как мы боремся с копированием контента, или первая adversarial attack в проде',\n",
       "       'Data Science meetup в офисе Avito 24 июня',\n",
       "       'Программировать хочу, пусть меня научат! Образовательные проекты Avito',\n",
       "       'DWH как продукт: платформа, инструменты, масштабирование команды',\n",
       "       'Как написать плагин для Фигмы: проблема, MVP, решение',\n",
       "       'Avito iOS meetup #8: CI-лайфхаки, санитайзеры, IndexStore, перформанс',\n",
       "       'Что нового в PHP 7.2?',\n",
       "       'Мутационное тестирование: опыт внедрения на 1500 сервисов',\n",
       "       'Атомик дизайн-митап — буквы, цвета, форма, команда и деньги',\n",
       "       'Backend United #2: Фарш',\n",
       "       'Конкурс Topcoder «Konica-Minolta Pathological Image Segmentation Challenge». Заметки участника',\n",
       "       'Видеозаписи всех докладов с восьми конференций Онтико',\n",
       "       'Ядро автоматизации тестирования в микросервисной архитектуре',\n",
       "       'Современная веб-разработка: выбери себе приключение',\n",
       "       'Hacktoberfest Open Hack Day в Avito — 7 октября',\n",
       "       'Пуши Авито: как сделать самый навязчивый формат не таким раздражающим',\n",
       "       'Видео докладов с Go 1.8 release party Moscow',\n",
       "       'Как мы научили тексты на вебе жить по правилам',\n",
       "       'Эволюция поиска — как купить пианино в три клика',\n",
       "       'Run, Test, Run. Рассказываем, как прошел Mobile Testing Meetup',\n",
       "       'Детальный разбор двух сложных тестовых заданий на роль UX-исследователя',\n",
       "       'Trunk Based Development — кто такой и зачем нужен',\n",
       "       'Багодельня — марафон по убийству престарелых багов',\n",
       "       'Состав табаско: материалы с митапа Backend United #6 по безопасности',\n",
       "       'Hack. Sleep. Repeat',\n",
       "       'Прокачиваем WebDriverAgent, или как тестировать iOS-приложения после ядерного взрыва. Расшифровка доклада',\n",
       "       'Middle или Senior: какой ваш уровень в аналитике?',\n",
       "       'Moscow JS 40 — отчёт, отзывы гостей и видеозаписи',\n",
       "       'Как выполнять много UI-тестов параллельно, используя Selenium Grid?',\n",
       "       'ML-критерии для A/B-тестов',\n",
       "       'Как мы закрыли все объявления частных пользователей защитными номерами',\n",
       "       'May the Code Review be with you',\n",
       "       'Как запустить доставку для миллионов пользователей',\n",
       "       'Второе почетное. Заметки участника конкурса Dstl Satellite Imagery Feature Detection',\n",
       "       'Go на десяточку: видео и фото с юбилейного митапа',\n",
       "       'Avito Product Analytics Meetup 9 декабря: анонс',\n",
       "       'Highload-магистратура: качаем матчасть',\n",
       "       'Чего ждут коллеги разных уровней от тимлида',\n",
       "       'Эволюция хранилища данных в Авито',\n",
       "       'Материалы с митапа для аналитиков: модель роста, A/B-тесты, управление стоком и доставкой товаров',\n",
       "       'Путь разработчика от исполнителя до тимлида',\n",
       "       'Мамин архитектор: как мы собирали мобильные архитектуры и радовали родителей',\n",
       "       'Разбираем iOS-приложение Avito: Ask Me Anything',\n",
       "       'Kotlin Night Moscow в Avito 25 ноября',\n",
       "       'Как устроено A/B-тестирование в Авито',\n",
       "       'Материалы Avito Design Talk #3: видео и презентации',\n",
       "       'Материалы дизайн-митапа Атомик: буквы, цвета, форма, команда и деньги',\n",
       "       'Avito iOS Winter Edition — видео, фото, слайды, отзывы',\n",
       "       'Кроссфункциональность, менеджер зависимостей, мониторинг в iOS и UI-тесты. Как прошел Avito iOS Summer Edition',\n",
       "       'AMA, или спроси бэкендера из Avito: анонс',\n",
       "       'ClickHouse для продвинутых пользователей в вопросах и ответах',\n",
       "       'Как улучшить ваши A/B-тесты: лайфхаки аналитиков Авито. Часть 2',\n",
       "       'Centrifugo v2 — будущее сервера real-time сообщений и библиотека для Go',\n",
       "       'Как устроена библиотека дизайн-системы Авито в Фигме',\n",
       "       'Материалы с VLDB, конференции о будущем баз данных',\n",
       "       'Свой инструмент в Tableau для scrum-команд с Bug Policy и Scope Drop',\n",
       "       'Golang Moscow: встреча в Avito',\n",
       "       'Junior-разработчики — почему мы их нанимаем и как мы с ними работаем',\n",
       "       'Swift 5.0. Что нового?', 'Mosdroid в Avito — анонс',\n",
       "       'Мониторинг как сервис: модульная система для микросервисной архитектуры',\n",
       "       '$ ls -l /home/avitotech/new_year',\n",
       "       'Делимся знаниями: магистратура, StudentTalks, онлайн-курсы и другие учебные инициативы',\n",
       "       'Автоматизация тестирования в микросервисной архитектуре',\n",
       "       'Remote cache для iOS, feature toggles, тёмные темы и карьера разработчика — отчёт с Avito iOS Meetup #7',\n",
       "       'Инструменты для автотестов, интеграция Yandex Mapkit 3, крутой дизайн и подход Server Driven UI — анонс Android-митапа',\n",
       "       'Как вместить данные в холодное хранилище',\n",
       "       'Организация инфраструктуры с помощью Kubernetes и Helm. Видеозаписи докладов с Kubernetes meetup 22 марта 2017',\n",
       "       'Почему результаты UX-исследований не идут в работу',\n",
       "       'Подготовка продуктовой стратегии',\n",
       "       'Ультимативный гайд по HTTP. Часть 1. Структура запроса и ответа',\n",
       "       'Зачем Авито «облачные» UX-исследователи и как с ними работать',\n",
       "       'Как PaaS Авито помогает регулировать потребление ресурсов CPU и RAM',\n",
       "       'Как напечатать float',\n",
       "       'Материалы митапа для продакт-менеджеров: ожидания от роли, дискавери-команды Авито, синхронизация целей',\n",
       "       'Бэкендеры всех стран объединились. Рассказываем, как прошел Backend United #2',\n",
       "       'Офис Avito: work hard, play hard',\n",
       "       'Многорукие бандиты в рекомендациях',\n",
       "       'Avito Automation meetup — слайды, видео, отзывы, фото',\n",
       "       'Самый мягкий и пушистый путь в Machine Learning и Deep Neural Networks',\n",
       "       'Как построить надёжную шину данных на\\xa0Apache Kafka',\n",
       "       'Как подружить разработчиков\\xa0и тестировщиков с помощью кастомной TMS: опыт Авито',\n",
       "       'Apache Pulsar как основа для системы очередей',\n",
       "       'Backend United 4: Окрошка. Инциденты',\n",
       "       'Что мы знаем о микросервисах',\n",
       "       'Android Academy в Москве: Advanced Course',\n",
       "       'Куда пойти, что читать, с кем общаться на профессиональные темы: дорожная карта для iOS-разработчика',\n",
       "       'Целостность данных в микросервисной архитектуре — как её обеспечить без распределенных транзакций и жёсткой связности',\n",
       "       'Заповеди тимлида Авито',\n",
       "       'Оркестрируемая сага или как построить бизнес-транзакции в сервисах с паттерном database per service',\n",
       "       'Живой митап #RuPostgres: вопросы и ответы с экспертами Avito. Расшифровка прямого эфира',\n",
       "       'Go To Memory', 'Стажировка в Авито глазами стажёра',\n",
       "       'Как мы нарисовали на карте несколько тысяч интерактивных объектов без вреда для перформанса',\n",
       "       'Молчание вентиляторов. Google Colab, Javascript и TensorflowJS',\n",
       "       'Avito Android meetup: работа с Gradle и проблемы при сборке проектов',\n",
       "       'Что внутри шаурмы: микросервисы, распределенные системы и Кафка. Делимся материалами со встречи Backend United #5',\n",
       "       'Живой митап #RuPostgres: вопросы и ответы с экспертами Avito',\n",
       "       'Как на React две кнопки переводить полтора года',\n",
       "       'Moscow JS 44 — анонс',\n",
       "       'Анонс Avito iOS Meetup #7: feature toggles, remote cache, тёмные темы и карьера iOS-разработчика',\n",
       "       'Sheldon: бот для автоматизации командной рутины',\n",
       "       'Objectives and Key Results: инструкция по применению',\n",
       "       'ClickHouse в Авито: посиделки в прямом эфире с Алексеем Миловидовым',\n",
       "       'Student Talks: Аналитика. Материалы для начинающих',\n",
       "       'Зачем инженерам тратить время на перформанс',\n",
       "       'Avito Analytics meetup: продуктовая разработка, поиск точек роста и быстрые настройки',\n",
       "       'Как устроены технические стажировки Авито',\n",
       "       'Почему люди покупают и продают в группах в соцсетях и мессенджерах',\n",
       "       'Разбор тестовых заданий на стажировку в UX-редакцию Авито',\n",
       "       'Посуточная аренда в Авито: как мы делаем сервис надёжным с помощью MLP онлайн-бронирования',\n",
       "       'Как мы переделали структуру собеседований, и что из этого вышло',\n",
       "       'Материалы с казанского митапа по фронтенду: Phoenix LiveView, фронтопс, JSON:API',\n",
       "       'Как мы использовали айтрекер для количественного эксперимента',\n",
       "       'Пятничная PHP-викторина: немного приключений программиста Брэда, одна странная последовательность и призы',\n",
       "       'Шесть проблем UX-редакции, которые поможет решить планирование',\n",
       "       'Встречаем PostgreSQL 10. Перевод Release Notes',\n",
       "       'Как мы внедряли Agile-testing',\n",
       "       'Возможности развития для UX-исследователей в Авито',\n",
       "       'Вырастаем над проблемами Python',\n",
       "       'Смешно и странно: собрали поисковые запросы, которые нам нравятся',\n",
       "       'Межкластерная репликация Apache Kafka между тремя дата-центрами',\n",
       "       'Avito в русскоязычном PostgreSQL комьюнити: открываем 2018, вспоминаем 2017',\n",
       "       'Материалы митапа для аналитиков: ценообразование, дашборд для SCRUM-команд, построение процессов',\n",
       "       'Где живут ваши объявления?',\n",
       "       'Раннер Emcee. Всем айосерам по тестовой ферме',\n",
       "       'Как улучшить ваши A/B-тесты: лайфхаки аналитиков Авито. Часть 1',\n",
       "       'Как написать симпатичный чейнджлог: опыт Авито',\n",
       "       'Детектирование и оценка сбоев',\n",
       "       'Типичные ошибки в тестовых заданиях стажёров-исследователей',\n",
       "       'Как QA-инженер может влиять на unit-тесты',\n",
       "       'Организация кодовой базы и тестирования в монорепозитории',\n",
       "       'Как работают исследователи Авито',\n",
       "       'Хранение метрик: как мы перешли с Graphite+Whisper на Graphite+ClickHouse',\n",
       "       'Багодельня: BUgHunting. Как найти 200 багов за день',\n",
       "       'Паттерны и практики написания кода: новый сезон',\n",
       "       'Материалы с нижегородского Android-митапа. MotionLayout, Kotlin Coroutines, CI/CD инфраструктура и дизайн-системы',\n",
       "       'Как мы улучшили типографику на сайте Авито',\n",
       "       'Материалы Panda Frontend Meetup #22: плагины, «сложные» данные, тестирование, декларативный Angular',\n",
       "       'Прямой эфир: как обуздать iOS-разработку в больших командах',\n",
       "       'Moscow JS 40 в Avito — анонс',\n",
       "       'Материалы с митапа для аналитиков: роль аналитика в развитии продуктов',\n",
       "       'От мониторинга до инцидент-менеджмента. Отчет с DevOps Moscow Meetup',\n",
       "       'Эволюция CI в команде мобильной разработки',\n",
       "       'Платформа как сервис в Авито: как это устроено',\n",
       "       'Must see: видеозаписи митапа MoscowJS 37',\n",
       "       'Avito на Highload++ 2017',\n",
       "       \"Отчет и материалы SPA meetup'а 8 апреля 2017\",\n",
       "       'Вам показалось! Все о Perceived Performance',\n",
       "       'Паттерны асинхронных обменов на\\xa0платформе Авито',\n",
       "       'PGHACK. Соревнование в офисе Avito 2 сентября',\n",
       "       'Мобильному тестировщику приготовиться. Приглашаем на Avito Mobile Testing Meetup',\n",
       "       'Как Авито выявляет мошенников и борется с фродом',\n",
       "       'Crash-crash, baby. Автоматический мониторинг фатальных ошибок мобильных приложений',\n",
       "       'Материалы митапа для андроид-инженеров: поиск проблем сборки, защита от них и работа с Gradle',\n",
       "       'Как мы используем item2vec для рекомендаций похожих товаров',\n",
       "       'Ошибка.log(): как логируются ошибки в мобильном приложении Авито',\n",
       "       'Avito Quiz: Golang',\n",
       "       'Концепция персистентной ткани для контроля IT-инфраструктуры',\n",
       "       'OSCP: как я сдавал самый известный экзамен по информационной безопасности',\n",
       "       'Сколько нужно времени, чтобы переписать объявление?',\n",
       "       'Улучшая performance review', 'AMA. Avito. Backend',\n",
       "       'Как мы повысили честность Авито Аукциона с помощью базовой визуализации',\n",
       "       'DevOps Moscow meetup: Мониторинг',\n",
       "       'Плагины vue-cli, работа со «сложными» данными и тестирование на основе свойств — анонс Panda-Meetup Frontend',\n",
       "       'Приглашение на Meetup по компьютерному зрению в Avito, 28 октября',\n",
       "       'Продуктовые процессы в Авито',\n",
       "       'Как посчитать длину текста и не привлекать внимание санитаров',\n",
       "       'Avokado Project',\n",
       "       'Android Academy в Москве — рассказываем о том, как это было и делимся материалами курса',\n",
       "       'Как и почему перешли с Python на Go в основном сервисе рекомендаций Авито',\n",
       "       'Разминка для тех, кто умеет в Python',\n",
       "       'CI/CD монолита Авито: от коммита до моржа',\n",
       "       '«Ну, покати!» или CI/CD мобильных приложений на основе контракта',\n",
       "       'Экспресс Купертино — Москва. Новые фичи iOS 11, обсуждение Apple Special Event и конкурс от Avito',\n",
       "       'Модель зрелости: как оценивать и растить инженерные команды',\n",
       "       'Moscow SPA Meetup #5 — анонс встречи',\n",
       "       'Инфраструктура как код в Авито: уроки, которые мы извлекли',\n",
       "       'Эволюция алгоритма фильтрации модификаций товаров в Авито',\n",
       "       'Very Special Event: как мы смотрели презентацию Apple и что об этом думаем',\n",
       "       'Простое руководство по дистилляции BERT',\n",
       "       'РИТ++, Tech RaDarts и все-все-все',\n",
       "       'О чем говорили на Avito.iOS? Отчет, отзывы гостей и видеозаписи',\n",
       "       'Анонс Moscow Kubernetes Online: мы собрали подводные камни k8s',\n",
       "       'Live site review. Разбираем инциденты',\n",
       "       'Flower: конструктор Авито для создания чат-ботов',\n",
       "       'Аналитики данных в Авито: ожидания и спектр задач',\n",
       "       'Netramesh – легковесное service mesh решение',\n",
       "       'Прокачиваем Atlassian Service Desk — анонс митапа и прямой трансляции',\n",
       "       'Ask me anything. Avito. Android',\n",
       "       'Zero Bug Policy. Нет багов — нет проблем?',\n",
       "       'Avito на GopherCon Russia 2018',\n",
       "       'Сроки доставки заказов: как в Авито сделали прогноз более точным',\n",
       "       'Куда катится техничка с полторашкой: хакатоны в Avito',\n",
       "       'AvitoTech On Tour: митапы по Go и фронтенду в Казани',\n",
       "       'Как в Авито используют продуктовый подход к разработке технических фич',\n",
       "       'Митап: stay home and GOnline',\n",
       "       'Смена платежного сервиса с помощью A/B теста через HAProxy',\n",
       "       'Как развивать внутренние сообщества с пользой для компании и людей',\n",
       "       'Avito X: люди — людям',\n",
       "       'Табличные тесты в Go с использованием Gomock',\n",
       "       'Мы сократили время разработки нового сценария публикации объявления с 6 дней до 42 секунд',\n",
       "       'Прямой эфир: СI/CD в iOS и Android',\n",
       "       'Материалы Avito iOS meetup #8: видео и презентации',\n",
       "       'Работаем с PostgreSQL в Go. Опыт Авито',\n",
       "       'Первые дни в команде разработки — как это бывает у нас',\n",
       "       'Делимся технологическим контентом: собрали все наши материалы на одном сайте',\n",
       "       'На чем писать Android UI-тесты',\n",
       "       'Автоматизируй мне тестирование полностью, дёшево, навсегда: анонс QA-митапа в Avito 26 августа',\n",
       "       'Самые страшные ошибки, которые допускают DS. Встреча в офисе Авито 24 апреля',\n",
       "       'Фантастические тимлиды и где они обитают',\n",
       "       'Paparazzo. Мощный, стильный, свой. Часть II',\n",
       "       'Рекомендации на Avito',\n",
       "       'Avito Product Analytics Meetup — видео, фото, слайды',\n",
       "       'Астрологи объявили неделю iOS-разработки в Авито',\n",
       "       'AvitoTech On Tour: Android meetup в Нижнем Новгороде',\n",
       "       'Экспресс Москва — Сан-Хосе: совместный просмотр WWDC 2018 в офисе Авито 4 июня',\n",
       "       'Как мы сделали хакатон в поезде и что из этого получилось',\n",
       "       'Dependency Injection в мире Software Engineering',\n",
       "       'Avito iOS Meetup: Winter Edition',\n",
       "       'Масло и водка: как мы избавляем ноутбуки от стикеров',\n",
       "       'На что обращать внимание на алгоритмических секциях собеседований',\n",
       "       'Автотесты на Android. Картина целиком',\n",
       "       'Встреча Общества Анонимных Тестировщиков: TMS, мониторинг мониторинга, оценка качества поиска и нативные iOS-тесты',\n",
       "       'Оптимизация работы с PostgreSQL в Go: от 50 до 5000 RPS',\n",
       "       'Совместный просмотр Google I/O в офисе Avito'], dtype=object)"
      ]
     },
     "execution_count": 11,
     "metadata": {},
     "output_type": "execute_result"
    }
   ],
   "source": [
    "unique_names = df[\"name_post\"].unique()\n",
    "unique_names"
   ]
  },
  {
   "cell_type": "markdown",
   "id": "fdc7e742",
   "metadata": {},
   "source": [
    "# Дополняем набор данных информацией из аналитических статей Интернет-источников"
   ]
  },
  {
   "cell_type": "code",
   "execution_count": null,
   "id": "728ce231",
   "metadata": {},
   "outputs": [],
   "source": [
    "len(unique_names)"
   ]
  },
  {
   "cell_type": "markdown",
   "id": "db222b66",
   "metadata": {},
   "source": [
    "# Преобразуем набор данных в требуемый формат"
   ]
  },
  {
   "cell_type": "code",
   "execution_count": 13,
   "id": "a159b6cf",
   "metadata": {},
   "outputs": [],
   "source": [
    "df.to_csv(\"init_dataset.csv\", index=False)"
   ]
  },
  {
   "cell_type": "markdown",
   "id": "7320ca4d",
   "metadata": {},
   "source": [
    "# Формируем структуры набора данных"
   ]
  },
  {
   "cell_type": "markdown",
   "id": "fb870004",
   "metadata": {},
   "source": [
    "Для определения наиболее значимых атрибутов можно выделать два подхода:\n",
    "\n",
    "1) выделение целвой перменной (номинация премии Рунета) и использование алгоритмов на основе деревьев (Random Forest, Gradient Boosting)\n",
    "\n",
    "2) анализ корреляции (Correlation Analysis)\n",
    "\n",
    "3) Знание предметной области и опыт\n",
    "\n",
    "4) Исследовательский анализ данных (EDA) т.е. визуализация\n",
    "\n",
    "Так как использвоание 1-2 и 4 пунктов невозиожно без подготовки данных, то впоспользуемся третьим способом.\n",
    "\n",
    "Основной массив данных для определения тематика - это текст статей, опубликованных компаниями. В то же время, заголовок статьи и ее категории наиболее емко отражают сожержание.\n",
    "\n",
    "Поэтому логично, что наиболее важными атрибутами являются:\n",
    "\n",
    "-текст статьи (text_post)\n",
    "\n",
    "-название статьи (name_post)\n",
    "\n",
    "-категории статьи (category_list_company)"
   ]
  },
  {
   "cell_type": "code",
   "execution_count": 14,
   "id": "b449a150",
   "metadata": {},
   "outputs": [],
   "source": [
    "NOMINATIONS = [\n",
    "    \"Государство и Общество\",\n",
    "    \"Культурные проекты в сети\",\n",
    "    \"Народов много - Родина одна\",\n",
    "    \"Образование и Кадры\",\n",
    "    \"Наука, технологии и инновации\",\n",
    "    \"Туризм и индустрия гостеприимства\",\n",
    "    \"Экономика и Бизнес\",\n",
    "    \"Здоровье и медицина\",\n",
    "    \"Туризм и индустрия гостеприимства\",\n",
    "    \"Подкасты и цифровой контент\"\n",
    "    ]"
   ]
  },
  {
   "cell_type": "markdown",
   "id": "6cbc242f",
   "metadata": {},
   "source": [
    "В датасет дополнительно были добавлены следующие атрибуты:\n",
    "\n",
    "difficulty_post - сложность понимания поста\n",
    "\n",
    "reading_time_post - время чтения поста\n",
    "\n",
    "views_count_post - кол-во просмотров\n",
    "\n",
    "tags_post - теги постов\n",
    "\n",
    "rating_company - райтинг постов\n",
    "\n",
    "desc_company - описание комапнии\n",
    "\n",
    "category_list_company - категории компании\n",
    "\n",
    "Атрибуты difficulty_post, reading_time_post, views_count_post, rating_company не окажут сильного влияния на целевую переменную, тем не менее будет интресно посмотреть на различные зависимости кластеров от этих атрибутов.\n",
    "\n",
    "category_list_company, desc_company могут оказать влияние на целевую переменную"
   ]
  },
  {
   "cell_type": "markdown",
   "id": "1749cad3",
   "metadata": {},
   "source": [
    "\n",
    "# Предварительная обработка данных"
   ]
  },
  {
   "cell_type": "markdown",
   "id": "69c700c8",
   "metadata": {},
   "source": [
    "Выполняем разведочный анализ данных для составления плана предварительной обработки данных\n",
    "\n",
    "Удалим пока аттрибуты представленные списками"
   ]
  },
  {
   "cell_type": "code",
   "execution_count": 10,
   "id": "cf501a03",
   "metadata": {},
   "outputs": [],
   "source": [
    "df_explore = df[['name_post', 'difficulty_post', 'reading_time_post', 'views_count_post',\n",
    "       'text_post', 'rating_company',\n",
    "       'desc_company', 'about_company']]"
   ]
  },
  {
   "cell_type": "code",
   "execution_count": 237,
   "id": "d712070f",
   "metadata": {},
   "outputs": [
    {
     "name": "stdout",
     "output_type": "stream",
     "text": [
      "Requirement already satisfied: wordcloud in c:\\programdata\\anaconda3\\lib\\site-packages (1.8.2.2)\n",
      "Requirement already satisfied: matplotlib in c:\\programdata\\anaconda3\\lib\\site-packages (from wordcloud) (3.4.3)\n",
      "Requirement already satisfied: pillow in c:\\programdata\\anaconda3\\lib\\site-packages (from wordcloud) (8.4.0)\n",
      "Requirement already satisfied: numpy>=1.6.1 in c:\\programdata\\anaconda3\\lib\\site-packages (from wordcloud) (1.22.4)\n",
      "Requirement already satisfied: cycler>=0.10 in c:\\programdata\\anaconda3\\lib\\site-packages (from matplotlib->wordcloud) (0.10.0)\n",
      "Requirement already satisfied: python-dateutil>=2.7 in c:\\programdata\\anaconda3\\lib\\site-packages (from matplotlib->wordcloud) (2.8.2)\n",
      "Requirement already satisfied: kiwisolver>=1.0.1 in c:\\programdata\\anaconda3\\lib\\site-packages (from matplotlib->wordcloud) (1.3.1)\n",
      "Requirement already satisfied: pyparsing>=2.2.1 in c:\\programdata\\anaconda3\\lib\\site-packages (from matplotlib->wordcloud) (3.0.4)\n",
      "Requirement already satisfied: six in c:\\programdata\\anaconda3\\lib\\site-packages (from cycler>=0.10->matplotlib->wordcloud) (1.16.0)\n",
      "Note: you may need to restart the kernel to use updated packages.\n"
     ]
    },
    {
     "name": "stderr",
     "output_type": "stream",
     "text": [
      "WARNING: Ignoring invalid distribution -umpy (c:\\programdata\\anaconda3\\lib\\site-packages)\n",
      "WARNING: Ignoring invalid distribution - (c:\\programdata\\anaconda3\\lib\\site-packages)\n",
      "WARNING: Ignoring invalid distribution -umpy (c:\\programdata\\anaconda3\\lib\\site-packages)\n",
      "WARNING: Ignoring invalid distribution - (c:\\programdata\\anaconda3\\lib\\site-packages)\n",
      "WARNING: Ignoring invalid distribution -umpy (c:\\programdata\\anaconda3\\lib\\site-packages)\n",
      "WARNING: Ignoring invalid distribution - (c:\\programdata\\anaconda3\\lib\\site-packages)\n",
      "WARNING: Ignoring invalid distribution -umpy (c:\\programdata\\anaconda3\\lib\\site-packages)\n",
      "WARNING: Ignoring invalid distribution - (c:\\programdata\\anaconda3\\lib\\site-packages)\n",
      "WARNING: Ignoring invalid distribution -umpy (c:\\programdata\\anaconda3\\lib\\site-packages)\n",
      "WARNING: Ignoring invalid distribution - (c:\\programdata\\anaconda3\\lib\\site-packages)\n",
      "WARNING: Ignoring invalid distribution -umpy (c:\\programdata\\anaconda3\\lib\\site-packages)\n",
      "WARNING: Ignoring invalid distribution - (c:\\programdata\\anaconda3\\lib\\site-packages)\n"
     ]
    }
   ],
   "source": [
    "pip install wordcloud"
   ]
  },
  {
   "cell_type": "code",
   "execution_count": 12,
   "id": "51b7d129",
   "metadata": {},
   "outputs": [
    {
     "name": "stderr",
     "output_type": "stream",
     "text": [
      "[nltk_data] Downloading package stopwords to\n",
      "[nltk_data]     C:\\Users\\profi\\AppData\\Roaming\\nltk_data...\n",
      "[nltk_data]   Package stopwords is already up-to-date!\n"
     ]
    },
    {
     "name": "stdout",
     "output_type": "stream",
     "text": [
      "Shape of the DataFrame: (332, 10)\n",
      "Columns in the DataFrame: Index(['name_post', 'difficulty_post', 'reading_time_post', 'views_count_post',\n",
      "       'tags_post', 'text_post', 'rating_company', 'desc_company',\n",
      "       'category_list_company', 'about_company'],\n",
      "      dtype='object')\n",
      "Data types of the columns:\n",
      " name_post                object\n",
      "difficulty_post          object\n",
      "reading_time_post        object\n",
      "views_count_post         object\n",
      "tags_post                object\n",
      "text_post                object\n",
      "rating_company           object\n",
      "desc_company             object\n",
      "category_list_company    object\n",
      "about_company            object\n",
      "dtype: object\n",
      "Summary statistics of the DataFrame:\n",
      "                       name_post difficulty_post reading_time_post  \\\n",
      "count                       332             332               332   \n",
      "unique                      331               3                28   \n",
      "top     И снова 256-й день года  No label found                 2   \n",
      "freq                          2             330                65   \n",
      "\n",
      "       views_count_post                                          tags_post  \\\n",
      "count               332                                                332   \n",
      "unique              121                                                266   \n",
      "top                  12  [Блог компании AvitoTech , Управление проектам...   \n",
      "freq                 12                                                  5   \n",
      "\n",
      "                                                text_post  \\\n",
      "count                                                 332   \n",
      "unique                                                332   \n",
      "top      Привет! Мы вернулись из Казани, где проводили...   \n",
      "freq                                                    1   \n",
      "\n",
      "                  rating_company                 desc_company  \\\n",
      "count                        332                          332   \n",
      "unique                         1                            1   \n",
      "top     \\n        195.22\\n        У нас живут ваши объявления   \n",
      "freq                         332                          332   \n",
      "\n",
      "                                    category_list_company  \\\n",
      "count                                                 332   \n",
      "unique                                                  1   \n",
      "top     [\\n              Веб-разработка\\n            ,...   \n",
      "freq                                                  332   \n",
      "\n",
      "                                            about_company  \n",
      "count                                                 332  \n",
      "unique                                                  1  \n",
      "top     Мы команда инженеров Авито. В блоге рассказыва...  \n",
      "freq                                                  332  \n",
      "Word count statistics:\n",
      " count      332.000000\n",
      "mean      1542.876506\n",
      "std       1370.787832\n",
      "min        103.000000\n",
      "25%        520.750000\n",
      "50%       1257.000000\n",
      "75%       2028.000000\n",
      "max      10420.000000\n",
      "Name: word_count, dtype: float64\n",
      "Unique word count statistics:\n",
      " count     332.000000\n",
      "mean      865.045181\n",
      "std       595.241753\n",
      "min        85.000000\n",
      "25%       372.000000\n",
      "50%       790.500000\n",
      "75%      1128.500000\n",
      "max      3723.000000\n",
      "Name: unique_word_count, dtype: float64\n",
      "Stopword count statistics:\n",
      " count     332.000000\n",
      "mean      443.430723\n",
      "std       426.096210\n",
      "min        20.000000\n",
      "25%       138.750000\n",
      "50%       350.500000\n",
      "75%       593.250000\n",
      "max      3690.000000\n",
      "Name: stopword_count, dtype: float64\n"
     ]
    },
    {
     "data": {
      "image/png": "[encoded data removed]",
      "text/plain": [
       "<Figure size 720x360 with 1 Axes>"
      ]
     },
     "metadata": {
      "needs_background": "light"
     },
     "output_type": "display_data"
    }
   ],
   "source": [
    "import nltk\n",
    "nltk.download('stopwords')\n",
    "import pandas as pd\n",
    "import matplotlib.pyplot as plt\n",
    "from nltk.corpus import stopwords\n",
    "from wordcloud import WordCloud\n",
    "\n",
    "\n",
    "\n",
    "# Исследование базовых данных\n",
    "print(\"Shape of the DataFrame:\", df.shape)  # Получиаем количество строк и столбцов\n",
    "print(\"Columns in the DataFrame:\", df.columns)  # Получиаем имена столбцов\n",
    "print(\"Data types of the columns:\\n\", df.dtypes)  # Получаем типы данных столбцов\n",
    "print(\"Summary statistics of the DataFrame:\\n\", df.describe())  # Получаем сводную статистику\n",
    "\n",
    "# Исследуем текстовые данные\n",
    "# Выполняем задачи поиска текстовых данных, такие как подсчет слов, количество уникальных слов и т.д.\n",
    "# Количество слов\n",
    "df['word_count'] = df['text_post'].apply(lambda x: len(str(x).split()))\n",
    "print(\"Word count statistics:\\n\", df['word_count'].describe())\n",
    "\n",
    "# Количество уникальных слов\n",
    "df['unique_word_count'] = df['text_post'].apply(lambda x: len(set(str(x).split())))\n",
    "print(\"Unique word count statistics:\\n\", df['unique_word_count'].describe())\n",
    "\n",
    "# Количество стоп-слов\n",
    "stopwords_list = set(stopwords.words('russian'))  # Update with appropriate language\n",
    "df['stopword_count'] = df['text_post'].apply(lambda x: len([word for word in str(x).lower().split() if word in stopwords_list]))\n",
    "print(\"Stopword count statistics:\\n\", df['stopword_count'].describe())\n",
    "\n",
    "# Визуализация данных\n",
    "# Используя различные библиотеки построения графиков, такие как Matplotlib и WordCloud, для визуализации текстовых данных\n",
    "# Примеры графиков:\n",
    "# Облако слов\n",
    "text = ' '.join(str(df['text_post'].values))\n",
    "wordcloud = WordCloud(width=800, height=400, background_color='white').generate(text)\n",
    "plt.figure(figsize=(10, 5))\n",
    "plt.imshow(wordcloud, interpolation='bilinear')\n",
    "plt.axis('off')\n",
    "plt.title('Word Cloud of Text Attributes')\n",
    "plt.show()"
   ]
  },
  {
   "cell_type": "markdown",
   "id": "28bcab1b",
   "metadata": {},
   "source": [
    "Как видно, разведочный анализ показвает, что в тексте мнодество стом слов. В среднем примерно 1200 слов в каждом посте при этом окло 400 стоп-слов в кажом посте."
   ]
  },
  {
   "cell_type": "markdown",
   "id": "2d9dfd56",
   "metadata": {},
   "source": [
    "# Выявяем и обработываем пропуски данных"
   ]
  },
  {
   "cell_type": "markdown",
   "id": "87116057",
   "metadata": {},
   "source": [
    "Посмотрим наличик пустых значений и визуализируем"
   ]
  },
  {
   "cell_type": "code",
   "execution_count": 13,
   "id": "a9e08eb5",
   "metadata": {},
   "outputs": [
    {
     "data": {
      "text/plain": [
       "name_post                0\n",
       "difficulty_post          0\n",
       "reading_time_post        0\n",
       "views_count_post         0\n",
       "tags_post                0\n",
       "text_post                0\n",
       "rating_company           0\n",
       "desc_company             0\n",
       "category_list_company    0\n",
       "about_company            0\n",
       "word_count               0\n",
       "unique_word_count        0\n",
       "stopword_count           0\n",
       "dtype: int64"
      ]
     },
     "execution_count": 13,
     "metadata": {},
     "output_type": "execute_result"
    }
   ],
   "source": [
    "df.isna().sum()"
   ]
  },
  {
   "cell_type": "code",
   "execution_count": 14,
   "id": "3caf6ed1",
   "metadata": {},
   "outputs": [
    {
     "data": {
      "text/plain": [
       "<function matplotlib.pyplot.show(close=None, block=None)>"
      ]
     },
     "execution_count": 14,
     "metadata": {},
     "output_type": "execute_result"
    },
    {
     "data": {
      "image/png": "[encoded data removed]",
      "text/plain": [
       "<Figure size 432x288 with 1 Axes>"
      ]
     },
     "metadata": {
      "needs_background": "light"
     },
     "output_type": "display_data"
    }
   ],
   "source": [
    "import matplotlib.pyplot as plt\n",
    "\n",
    "df.isna().sum().plot(kind='bar')\n",
    "plt.show\n"
   ]
  },
  {
   "cell_type": "markdown",
   "id": "49abbb9f",
   "metadata": {},
   "source": [
    "# Выбираем методы предварительной обработки данных"
   ]
  },
  {
   "cell_type": "markdown",
   "id": "31325cf4",
   "metadata": {},
   "source": [
    "Так как мы работаем с текстовыми данными необходимо для них выполнить:\n",
    "\n",
    "очистку данных\n",
    "\n",
    "удаление стоп-слов\n",
    "\n",
    "леммитизацию\n",
    "\n",
    "векторизацию\n",
    "\n",
    "Для отсальных колонок:\n",
    "\n",
    "числа представленные в виде типа object перевести в численный вид данных\n",
    "\n",
    "кодировать категории для дальшейшего обучения моделей"
   ]
  },
  {
   "cell_type": "markdown",
   "id": "22bc35ed",
   "metadata": {},
   "source": [
    "# Удаляем все лишние символы, кроме букв из текстов публикаций, Выполняем токенизацию текстов публикаций, Выполняем лемматизация текстов публикаций, Выполняем удаление спецсимволов из текстов публикаций, Удаляем все стоп-слова в тектах публикаций"
   ]
  },
  {
   "cell_type": "markdown",
   "id": "38cd2218",
   "metadata": {},
   "source": [
    "В представленном коде используются несколько алгоритмов для предобработки текстов:\n",
    "\n",
    "Удаление цифр: re.sub(r'\\d+', '', text) - это регулярное выражение, которое удаляет все цифры из текста.\n",
    "\n",
    "Удаление знаков пунктуации: re.sub(r'[^\\w\\s]', '', text) - это регулярное выражение, которое удаляет все знаки пунктуации из текста, кроме букв и пробелов.\n",
    "\n",
    "Удаление лишних пробелов: re.sub(r'\\s+', ' ', text) - это регулярное выражение, которое заменяет последовательности из одного или более пробелов одним пробелом.\n",
    "\n",
    "Удаление стоп-слов: text = [word for word in text.split() if word not in stop_words] - это код, который удаляет стоп-слова из текста. Список стоп-слов загружается из библиотеки NLTK с использованием stopwords.words('russian')."
   ]
  },
  {
   "cell_type": "code",
   "execution_count": 15,
   "id": "d8a83d22",
   "metadata": {},
   "outputs": [],
   "source": [
    "import string\n",
    "def text_preprocessing(text):\n",
    "    stop_words = set(stopwords.words('russian'))\n",
    "    exclude = set(string.punctuation)\n",
    "\n",
    "    text = text.rstrip().lower()\n",
    "    text = re.sub(r'\\n',' ', text) # удалить /n\n",
    "    text = re.sub(r'\\d+', '', text) # удалить цифры\n",
    "    text = re.sub(r'[^\\w\\s]', '', text)# убрать знаки препинания\n",
    "    text = re.sub(r'\\s+', ' ', text) # удалите лишние пробелы\n",
    "    text = [word for word in text.split() if word not in stop_words] # Удаляем стоп-слова\n",
    "\n",
    "    return text\n",
    "sentences = list(df['text_post'].apply(text_preprocessing))"
   ]
  },
  {
   "cell_type": "code",
   "execution_count": 16,
   "id": "91f478b6",
   "metadata": {},
   "outputs": [
    {
     "data": {
      "text/html": [
       "<div>\n",
       "<style scoped>\n",
       "    .dataframe tbody tr th:only-of-type {\n",
       "        vertical-align: middle;\n",
       "    }\n",
       "\n",
       "    .dataframe tbody tr th {\n",
       "        vertical-align: top;\n",
       "    }\n",
       "\n",
       "    .dataframe thead th {\n",
       "        text-align: right;\n",
       "    }\n",
       "</style>\n",
       "<table border=\"1\" class=\"dataframe\">\n",
       "  <thead>\n",
       "    <tr style=\"text-align: right;\">\n",
       "      <th></th>\n",
       "      <th>name_post</th>\n",
       "      <th>difficulty_post</th>\n",
       "      <th>reading_time_post</th>\n",
       "      <th>views_count_post</th>\n",
       "      <th>tags_post</th>\n",
       "      <th>text_post</th>\n",
       "      <th>rating_company</th>\n",
       "      <th>desc_company</th>\n",
       "      <th>category_list_company</th>\n",
       "      <th>about_company</th>\n",
       "      <th>word_count</th>\n",
       "      <th>unique_word_count</th>\n",
       "      <th>stopword_count</th>\n",
       "    </tr>\n",
       "  </thead>\n",
       "  <tbody>\n",
       "    <tr>\n",
       "      <th>0</th>\n",
       "      <td>Материалы с казанского Go-митапа: разбор XML, ...</td>\n",
       "      <td>No label found</td>\n",
       "      <td>3</td>\n",
       "      <td>3.8</td>\n",
       "      <td>[Блог компании AvitoTech , XML *, Администриро...</td>\n",
       "      <td>Привет! Мы вернулись из Казани, где проводили...</td>\n",
       "      <td>\\n        195.22\\n</td>\n",
       "      <td>У нас живут ваши объявления</td>\n",
       "      <td>[\\n              Веб-разработка\\n            ,...</td>\n",
       "      <td>Мы команда инженеров Авито. В блоге рассказыва...</td>\n",
       "      <td>587</td>\n",
       "      <td>377</td>\n",
       "      <td>144</td>\n",
       "    </tr>\n",
       "    <tr>\n",
       "      <th>1</th>\n",
       "      <td>Для чего и как мы скрываем госномера автомобил...</td>\n",
       "      <td>No label found</td>\n",
       "      <td>7</td>\n",
       "      <td>86</td>\n",
       "      <td>[Блог компании AvitoTech , Python *, Программи...</td>\n",
       "      <td>Привет. В конце прошлого года мы стали автома...</td>\n",
       "      <td>\\n        195.22\\n</td>\n",
       "      <td>У нас живут ваши объявления</td>\n",
       "      <td>[\\n              Веб-разработка\\n            ,...</td>\n",
       "      <td>Мы команда инженеров Авито. В блоге рассказыва...</td>\n",
       "      <td>1506</td>\n",
       "      <td>955</td>\n",
       "      <td>432</td>\n",
       "    </tr>\n",
       "    <tr>\n",
       "      <th>2</th>\n",
       "      <td>Как не ошибиться с конкурентностью в Go</td>\n",
       "      <td>No label found</td>\n",
       "      <td>12</td>\n",
       "      <td>27</td>\n",
       "      <td>[Блог компании AvitoTech , Высокая производите...</td>\n",
       "      <td>Почему мы вообще хотим писать конкурентный ко...</td>\n",
       "      <td>\\n        195.22\\n</td>\n",
       "      <td>У нас живут ваши объявления</td>\n",
       "      <td>[\\n              Веб-разработка\\n            ,...</td>\n",
       "      <td>Мы команда инженеров Авито. В блоге рассказыва...</td>\n",
       "      <td>2862</td>\n",
       "      <td>1440</td>\n",
       "      <td>847</td>\n",
       "    </tr>\n",
       "    <tr>\n",
       "      <th>3</th>\n",
       "      <td>Как собрать свой Lighthouse</td>\n",
       "      <td>No label found</td>\n",
       "      <td>11</td>\n",
       "      <td>5</td>\n",
       "      <td>[Блог компании Конференции Олега Бунина (Онтик...</td>\n",
       "      <td>Чем интенсивнее наш feature delivering, тем б...</td>\n",
       "      <td>\\n        195.22\\n</td>\n",
       "      <td>У нас живут ваши объявления</td>\n",
       "      <td>[\\n              Веб-разработка\\n            ,...</td>\n",
       "      <td>Мы команда инженеров Авито. В блоге рассказыва...</td>\n",
       "      <td>2467</td>\n",
       "      <td>1296</td>\n",
       "      <td>715</td>\n",
       "    </tr>\n",
       "    <tr>\n",
       "      <th>4</th>\n",
       "      <td>Введение в Puppet</td>\n",
       "      <td>No label found</td>\n",
       "      <td>26</td>\n",
       "      <td>53</td>\n",
       "      <td>[Блог компании AvitoTech , Системное администр...</td>\n",
       "      <td>Puppet — это система управления конфигурацией...</td>\n",
       "      <td>\\n        195.22\\n</td>\n",
       "      <td>У нас живут ваши объявления</td>\n",
       "      <td>[\\n              Веб-разработка\\n            ,...</td>\n",
       "      <td>Мы команда инженеров Авито. В блоге рассказыва...</td>\n",
       "      <td>5910</td>\n",
       "      <td>2445</td>\n",
       "      <td>1397</td>\n",
       "    </tr>\n",
       "  </tbody>\n",
       "</table>\n",
       "</div>"
      ],
      "text/plain": [
       "                                           name_post difficulty_post  \\\n",
       "0  Материалы с казанского Go-митапа: разбор XML, ...  No label found   \n",
       "1  Для чего и как мы скрываем госномера автомобил...  No label found   \n",
       "2            Как не ошибиться с конкурентностью в Go  No label found   \n",
       "3                        Как собрать свой Lighthouse  No label found   \n",
       "4                                  Введение в Puppet  No label found   \n",
       "\n",
       "  reading_time_post views_count_post  \\\n",
       "0                 3              3.8   \n",
       "1                 7               86   \n",
       "2                12               27   \n",
       "3                11                5   \n",
       "4                26               53   \n",
       "\n",
       "                                           tags_post  \\\n",
       "0  [Блог компании AvitoTech , XML *, Администриро...   \n",
       "1  [Блог компании AvitoTech , Python *, Программи...   \n",
       "2  [Блог компании AvitoTech , Высокая производите...   \n",
       "3  [Блог компании Конференции Олега Бунина (Онтик...   \n",
       "4  [Блог компании AvitoTech , Системное администр...   \n",
       "\n",
       "                                           text_post  \\\n",
       "0   Привет! Мы вернулись из Казани, где проводили...   \n",
       "1   Привет. В конце прошлого года мы стали автома...   \n",
       "2   Почему мы вообще хотим писать конкурентный ко...   \n",
       "3   Чем интенсивнее наш feature delivering, тем б...   \n",
       "4   Puppet — это система управления конфигурацией...   \n",
       "\n",
       "             rating_company                 desc_company  \\\n",
       "0  \\n        195.22\\n        У нас живут ваши объявления   \n",
       "1  \\n        195.22\\n        У нас живут ваши объявления   \n",
       "2  \\n        195.22\\n        У нас живут ваши объявления   \n",
       "3  \\n        195.22\\n        У нас живут ваши объявления   \n",
       "4  \\n        195.22\\n        У нас живут ваши объявления   \n",
       "\n",
       "                               category_list_company  \\\n",
       "0  [\\n              Веб-разработка\\n            ,...   \n",
       "1  [\\n              Веб-разработка\\n            ,...   \n",
       "2  [\\n              Веб-разработка\\n            ,...   \n",
       "3  [\\n              Веб-разработка\\n            ,...   \n",
       "4  [\\n              Веб-разработка\\n            ,...   \n",
       "\n",
       "                                       about_company  word_count  \\\n",
       "0  Мы команда инженеров Авито. В блоге рассказыва...         587   \n",
       "1  Мы команда инженеров Авито. В блоге рассказыва...        1506   \n",
       "2  Мы команда инженеров Авито. В блоге рассказыва...        2862   \n",
       "3  Мы команда инженеров Авито. В блоге рассказыва...        2467   \n",
       "4  Мы команда инженеров Авито. В блоге рассказыва...        5910   \n",
       "\n",
       "   unique_word_count  stopword_count  \n",
       "0                377             144  \n",
       "1                955             432  \n",
       "2               1440             847  \n",
       "3               1296             715  \n",
       "4               2445            1397  "
      ]
     },
     "execution_count": 16,
     "metadata": {},
     "output_type": "execute_result"
    }
   ],
   "source": [
    "df.head()"
   ]
  },
  {
   "cell_type": "code",
   "execution_count": 17,
   "id": "27d8f1b5",
   "metadata": {},
   "outputs": [
    {
     "data": {
      "image/png": "[encoded data removed]",
      "text/plain": [
       "<Figure size 720x360 with 1 Axes>"
      ]
     },
     "metadata": {
      "needs_background": "light"
     },
     "output_type": "display_data"
    },
    {
     "data": {
      "image/png": "[encoded data removed]",
      "text/plain": [
       "<Figure size 720x360 with 1 Axes>"
      ]
     },
     "metadata": {
      "needs_background": "light"
     },
     "output_type": "display_data"
    }
   ],
   "source": [
    "from collections import Counter\n",
    "# Создаем облако тегов\n",
    "tags = df['tags_post'].explode()\n",
    "tags_counter = Counter(tags)\n",
    "wordcloud = WordCloud(width=800, height=400, background_color='white').generate_from_frequencies(tags_counter)\n",
    "plt.figure(figsize=(10, 5))\n",
    "plt.imshow(wordcloud, interpolation='bilinear')\n",
    "plt.axis('off')\n",
    "plt.title('Word Cloud of Tags')\n",
    "plt.show()\n",
    "\n",
    "# Создаем облако категорий\n",
    "categories = df['category_list_company'].explode()\n",
    "categories_counter = Counter(categories)\n",
    "wordcloud = WordCloud(width=800, height=400, background_color='white').generate_from_frequencies(categories_counter)\n",
    "plt.figure(figsize=(10, 5))\n",
    "plt.imshow(wordcloud, interpolation='bilinear')\n",
    "plt.axis('off')\n",
    "plt.title('Word Cloud of Categories')\n",
    "plt.show()"
   ]
  },
  {
   "cell_type": "code",
   "execution_count": null,
   "id": "4fc80c2f",
   "metadata": {},
   "outputs": [],
   "source": []
  },
  {
   "cell_type": "code",
   "execution_count": 18,
   "id": "0a69a826",
   "metadata": {},
   "outputs": [
    {
     "name": "stdout",
     "output_type": "stream",
     "text": [
      "Requirement already satisfied: pymorphy2 in c:\\programdata\\anaconda3\\lib\\site-packages (0.9.1)\n",
      "Requirement already satisfied: dawg-python>=0.7.1 in c:\\programdata\\anaconda3\\lib\\site-packages (from pymorphy2) (0.7.2)\n",
      "Requirement already satisfied: pymorphy2-dicts-ru<3.0,>=2.4 in c:\\programdata\\anaconda3\\lib\\site-packages (from pymorphy2) (2.4.417127.4579844)\n",
      "Requirement already satisfied: docopt>=0.6 in c:\\programdata\\anaconda3\\lib\\site-packages (from pymorphy2) (0.6.2)\n"
     ]
    },
    {
     "name": "stderr",
     "output_type": "stream",
     "text": [
      "WARNING: Ignoring invalid distribution -umpy (c:\\programdata\\anaconda3\\lib\\site-packages)\n",
      "WARNING: Ignoring invalid distribution - (c:\\programdata\\anaconda3\\lib\\site-packages)\n",
      "WARNING: Ignoring invalid distribution -umpy (c:\\programdata\\anaconda3\\lib\\site-packages)\n",
      "WARNING: Ignoring invalid distribution - (c:\\programdata\\anaconda3\\lib\\site-packages)\n",
      "WARNING: Ignoring invalid distribution -umpy (c:\\programdata\\anaconda3\\lib\\site-packages)\n",
      "WARNING: Ignoring invalid distribution - (c:\\programdata\\anaconda3\\lib\\site-packages)\n",
      "WARNING: Ignoring invalid distribution -umpy (c:\\programdata\\anaconda3\\lib\\site-packages)\n",
      "WARNING: Ignoring invalid distribution - (c:\\programdata\\anaconda3\\lib\\site-packages)\n",
      "WARNING: Ignoring invalid distribution -umpy (c:\\programdata\\anaconda3\\lib\\site-packages)\n",
      "WARNING: Ignoring invalid distribution - (c:\\programdata\\anaconda3\\lib\\site-packages)\n",
      "WARNING: Ignoring invalid distribution -umpy (c:\\programdata\\anaconda3\\lib\\site-packages)\n",
      "WARNING: Ignoring invalid distribution - (c:\\programdata\\anaconda3\\lib\\site-packages)\n"
     ]
    }
   ],
   "source": [
    "!pip install pymorphy2"
   ]
  },
  {
   "cell_type": "code",
   "execution_count": 19,
   "id": "e39b4c96",
   "metadata": {},
   "outputs": [],
   "source": [
    "import pandas as pd\n",
    "import re\n",
    "import nltk\n",
    "from nltk.corpus import stopwords\n",
    "from pymorphy2 import MorphAnalyzer"
   ]
  },
  {
   "cell_type": "code",
   "execution_count": 20,
   "id": "16471074",
   "metadata": {},
   "outputs": [],
   "source": [
    "#Удалены все лишние символы, кроме букв из текстов публикаций\n",
    "def remove_special_chars(text):\n",
    "    \"\"\"\n",
    "    Remove special characters and digits from text.\n",
    "    \"\"\"\n",
    "    return re.sub(r'[^а-яА-Я\\s]', '', text)\n",
    "\n",
    "#Удалены все стоп-слова в тектах публикаций\n",
    "def remove_stopwords(text):\n",
    "    \"\"\"\n",
    "    Remove stop words from text.\n",
    "    \"\"\"\n",
    "    stop_words = stopwords.words('russian')\n",
    "    return ' '.join([word for word in text.split() if word not in stop_words])\n",
    "\n",
    "# Выполнена лемматизация текстов публикаций\n",
    "def lemmatize(text):\n",
    "    \"\"\"\n",
    "    Lemmatize text using pymorphy2.\n",
    "    \"\"\"\n",
    "    morph = MorphAnalyzer()\n",
    "    return ' '.join([morph.parse(word)[0].normal_form for word in text.split()])"
   ]
  },
  {
   "cell_type": "code",
   "execution_count": 21,
   "id": "12e42fc5",
   "metadata": {},
   "outputs": [],
   "source": [
    "# Применяем функцию remove_special_chars() к столбцу с именем 'text_column'\n",
    "df['text_clear'] = df['text_post'].apply(remove_special_chars)\n",
    "\n",
    "# Применяем функцию remove_stopwords() к столбцу с именем 'text_column'\n",
    "df['text_clear'] = df['text_clear'].apply(remove_stopwords)\n",
    "\n",
    "# Применяем lemmatize() к столбцу с именем 'text_column'\n",
    "df['text_clear'] = df['text_clear'].apply(lemmatize)"
   ]
  },
  {
   "cell_type": "code",
   "execution_count": 22,
   "id": "29bc25b8",
   "metadata": {},
   "outputs": [
    {
     "name": "stderr",
     "output_type": "stream",
     "text": [
      "[nltk_data] Downloading package punkt to\n",
      "[nltk_data]     C:\\Users\\profi\\AppData\\Roaming\\nltk_data...\n",
      "[nltk_data]   Package punkt is already up-to-date!\n"
     ]
    },
    {
     "data": {
      "text/html": [
       "<div>\n",
       "<style scoped>\n",
       "    .dataframe tbody tr th:only-of-type {\n",
       "        vertical-align: middle;\n",
       "    }\n",
       "\n",
       "    .dataframe tbody tr th {\n",
       "        vertical-align: top;\n",
       "    }\n",
       "\n",
       "    .dataframe thead th {\n",
       "        text-align: right;\n",
       "    }\n",
       "</style>\n",
       "<table border=\"1\" class=\"dataframe\">\n",
       "  <thead>\n",
       "    <tr style=\"text-align: right;\">\n",
       "      <th></th>\n",
       "      <th>name_post</th>\n",
       "      <th>difficulty_post</th>\n",
       "      <th>reading_time_post</th>\n",
       "      <th>views_count_post</th>\n",
       "      <th>tags_post</th>\n",
       "      <th>text_post</th>\n",
       "      <th>rating_company</th>\n",
       "      <th>desc_company</th>\n",
       "      <th>category_list_company</th>\n",
       "      <th>about_company</th>\n",
       "      <th>word_count</th>\n",
       "      <th>unique_word_count</th>\n",
       "      <th>stopword_count</th>\n",
       "      <th>text_clear</th>\n",
       "      <th>tokens</th>\n",
       "    </tr>\n",
       "  </thead>\n",
       "  <tbody>\n",
       "    <tr>\n",
       "      <th>0</th>\n",
       "      <td>Материалы с казанского Go-митапа: разбор XML, ...</td>\n",
       "      <td>No label found</td>\n",
       "      <td>3</td>\n",
       "      <td>3.8</td>\n",
       "      <td>[Блог компании AvitoTech , XML *, Администриро...</td>\n",
       "      <td>Привет! Мы вернулись из Казани, где проводили...</td>\n",
       "      <td>\\n        195.22\\n</td>\n",
       "      <td>У нас живут ваши объявления</td>\n",
       "      <td>[\\n              Веб-разработка\\n            ,...</td>\n",
       "      <td>Мы команда инженеров Авито. В блоге рассказыва...</td>\n",
       "      <td>587</td>\n",
       "      <td>377</td>\n",
       "      <td>144</td>\n",
       "      <td>привет мы вернуться казань проводить свой перв...</td>\n",
       "      <td>[привет, мы, вернуться, казань, проводить, сво...</td>\n",
       "    </tr>\n",
       "    <tr>\n",
       "      <th>1</th>\n",
       "      <td>Для чего и как мы скрываем госномера автомобил...</td>\n",
       "      <td>No label found</td>\n",
       "      <td>7</td>\n",
       "      <td>86</td>\n",
       "      <td>[Блог компании AvitoTech , Python *, Программи...</td>\n",
       "      <td>Привет. В конце прошлого года мы стали автома...</td>\n",
       "      <td>\\n        195.22\\n</td>\n",
       "      <td>У нас живут ваши объявления</td>\n",
       "      <td>[\\n              Веб-разработка\\n            ,...</td>\n",
       "      <td>Мы команда инженеров Авито. В блоге рассказыва...</td>\n",
       "      <td>1506</td>\n",
       "      <td>955</td>\n",
       "      <td>432</td>\n",
       "      <td>привет в конец прошлое год стать автоматически...</td>\n",
       "      <td>[привет, в, конец, прошлое, год, стать, автома...</td>\n",
       "    </tr>\n",
       "    <tr>\n",
       "      <th>2</th>\n",
       "      <td>Как не ошибиться с конкурентностью в Go</td>\n",
       "      <td>No label found</td>\n",
       "      <td>12</td>\n",
       "      <td>27</td>\n",
       "      <td>[Блог компании AvitoTech , Высокая производите...</td>\n",
       "      <td>Почему мы вообще хотим писать конкурентный ко...</td>\n",
       "      <td>\\n        195.22\\n</td>\n",
       "      <td>У нас живут ваши объявления</td>\n",
       "      <td>[\\n              Веб-разработка\\n            ,...</td>\n",
       "      <td>Мы команда инженеров Авито. В блоге рассказыва...</td>\n",
       "      <td>2862</td>\n",
       "      <td>1440</td>\n",
       "      <td>847</td>\n",
       "      <td>почему вообще хотеть писать конкурентный код п...</td>\n",
       "      <td>[почему, вообще, хотеть, писать, конкурентный,...</td>\n",
       "    </tr>\n",
       "    <tr>\n",
       "      <th>3</th>\n",
       "      <td>Как собрать свой Lighthouse</td>\n",
       "      <td>No label found</td>\n",
       "      <td>11</td>\n",
       "      <td>5</td>\n",
       "      <td>[Блог компании Конференции Олега Бунина (Онтик...</td>\n",
       "      <td>Чем интенсивнее наш feature delivering, тем б...</td>\n",
       "      <td>\\n        195.22\\n</td>\n",
       "      <td>У нас живут ваши объявления</td>\n",
       "      <td>[\\n              Веб-разработка\\n            ,...</td>\n",
       "      <td>Мы команда инженеров Авито. В блоге рассказыва...</td>\n",
       "      <td>2467</td>\n",
       "      <td>1296</td>\n",
       "      <td>715</td>\n",
       "      <td>чем интенсивный наш быстрый падать производите...</td>\n",
       "      <td>[чем, интенсивный, наш, быстрый, падать, произ...</td>\n",
       "    </tr>\n",
       "    <tr>\n",
       "      <th>4</th>\n",
       "      <td>Введение в Puppet</td>\n",
       "      <td>No label found</td>\n",
       "      <td>26</td>\n",
       "      <td>53</td>\n",
       "      <td>[Блог компании AvitoTech , Системное администр...</td>\n",
       "      <td>Puppet — это система управления конфигурацией...</td>\n",
       "      <td>\\n        195.22\\n</td>\n",
       "      <td>У нас живут ваши объявления</td>\n",
       "      <td>[\\n              Веб-разработка\\n            ,...</td>\n",
       "      <td>Мы команда инженеров Авито. В блоге рассказыва...</td>\n",
       "      <td>5910</td>\n",
       "      <td>2445</td>\n",
       "      <td>1397</td>\n",
       "      <td>это система управление конфигурация он использ...</td>\n",
       "      <td>[это, система, управление, конфигурация, он, и...</td>\n",
       "    </tr>\n",
       "  </tbody>\n",
       "</table>\n",
       "</div>"
      ],
      "text/plain": [
       "                                           name_post difficulty_post  \\\n",
       "0  Материалы с казанского Go-митапа: разбор XML, ...  No label found   \n",
       "1  Для чего и как мы скрываем госномера автомобил...  No label found   \n",
       "2            Как не ошибиться с конкурентностью в Go  No label found   \n",
       "3                        Как собрать свой Lighthouse  No label found   \n",
       "4                                  Введение в Puppet  No label found   \n",
       "\n",
       "  reading_time_post views_count_post  \\\n",
       "0                 3              3.8   \n",
       "1                 7               86   \n",
       "2                12               27   \n",
       "3                11                5   \n",
       "4                26               53   \n",
       "\n",
       "                                           tags_post  \\\n",
       "0  [Блог компании AvitoTech , XML *, Администриро...   \n",
       "1  [Блог компании AvitoTech , Python *, Программи...   \n",
       "2  [Блог компании AvitoTech , Высокая производите...   \n",
       "3  [Блог компании Конференции Олега Бунина (Онтик...   \n",
       "4  [Блог компании AvitoTech , Системное администр...   \n",
       "\n",
       "                                           text_post  \\\n",
       "0   Привет! Мы вернулись из Казани, где проводили...   \n",
       "1   Привет. В конце прошлого года мы стали автома...   \n",
       "2   Почему мы вообще хотим писать конкурентный ко...   \n",
       "3   Чем интенсивнее наш feature delivering, тем б...   \n",
       "4   Puppet — это система управления конфигурацией...   \n",
       "\n",
       "             rating_company                 desc_company  \\\n",
       "0  \\n        195.22\\n        У нас живут ваши объявления   \n",
       "1  \\n        195.22\\n        У нас живут ваши объявления   \n",
       "2  \\n        195.22\\n        У нас живут ваши объявления   \n",
       "3  \\n        195.22\\n        У нас живут ваши объявления   \n",
       "4  \\n        195.22\\n        У нас живут ваши объявления   \n",
       "\n",
       "                               category_list_company  \\\n",
       "0  [\\n              Веб-разработка\\n            ,...   \n",
       "1  [\\n              Веб-разработка\\n            ,...   \n",
       "2  [\\n              Веб-разработка\\n            ,...   \n",
       "3  [\\n              Веб-разработка\\n            ,...   \n",
       "4  [\\n              Веб-разработка\\n            ,...   \n",
       "\n",
       "                                       about_company  word_count  \\\n",
       "0  Мы команда инженеров Авито. В блоге рассказыва...         587   \n",
       "1  Мы команда инженеров Авито. В блоге рассказыва...        1506   \n",
       "2  Мы команда инженеров Авито. В блоге рассказыва...        2862   \n",
       "3  Мы команда инженеров Авито. В блоге рассказыва...        2467   \n",
       "4  Мы команда инженеров Авито. В блоге рассказыва...        5910   \n",
       "\n",
       "   unique_word_count  stopword_count  \\\n",
       "0                377             144   \n",
       "1                955             432   \n",
       "2               1440             847   \n",
       "3               1296             715   \n",
       "4               2445            1397   \n",
       "\n",
       "                                          text_clear  \\\n",
       "0  привет мы вернуться казань проводить свой перв...   \n",
       "1  привет в конец прошлое год стать автоматически...   \n",
       "2  почему вообще хотеть писать конкурентный код п...   \n",
       "3  чем интенсивный наш быстрый падать производите...   \n",
       "4  это система управление конфигурация он использ...   \n",
       "\n",
       "                                              tokens  \n",
       "0  [привет, мы, вернуться, казань, проводить, сво...  \n",
       "1  [привет, в, конец, прошлое, год, стать, автома...  \n",
       "2  [почему, вообще, хотеть, писать, конкурентный,...  \n",
       "3  [чем, интенсивный, наш, быстрый, падать, произ...  \n",
       "4  [это, система, управление, конфигурация, он, и...  "
      ]
     },
     "execution_count": 22,
     "metadata": {},
     "output_type": "execute_result"
    }
   ],
   "source": [
    "import nltk\n",
    "nltk.download('punkt')  # Загружаем необходимые данные NLTK для токенизации\n",
    "\n",
    "# Определяем функцию для обозначения русского текста с помощью NLTK\n",
    "def tokenize_russian_text(text):\n",
    "    tokens = nltk.word_tokenize(text, language='russian')\n",
    "    return tokens\n",
    "\n",
    "# Применяем функцию токенизации к столбцу \"текст\" во фрейме данных\n",
    "df['tokens'] = df['text_clear'].apply(tokenize_russian_text)\n",
    "\n",
    "# Отображаем результирующий фрейм данных\n",
    "df.head()"
   ]
  },
  {
   "cell_type": "code",
   "execution_count": 26,
   "id": "bb2c5ded",
   "metadata": {},
   "outputs": [],
   "source": [
    "import spacy\n",
    "nlp = spacy.load(\"ru_core_news_sm\")"
   ]
  },
  {
   "cell_type": "code",
   "execution_count": 27,
   "id": "64b21973",
   "metadata": {},
   "outputs": [
    {
     "name": "stderr",
     "output_type": "stream",
     "text": [
      "[nltk_data] Downloading package stopwords to\n",
      "[nltk_data]     C:\\Users\\profi\\AppData\\Roaming\\nltk_data...\n",
      "[nltk_data]   Package stopwords is already up-to-date!\n"
     ]
    }
   ],
   "source": [
    "nltk.download('stopwords');"
   ]
  },
  {
   "cell_type": "code",
   "execution_count": 28,
   "id": "44d76d68",
   "metadata": {},
   "outputs": [
    {
     "data": {
      "text/html": [
       "<div>\n",
       "<style scoped>\n",
       "    .dataframe tbody tr th:only-of-type {\n",
       "        vertical-align: middle;\n",
       "    }\n",
       "\n",
       "    .dataframe tbody tr th {\n",
       "        vertical-align: top;\n",
       "    }\n",
       "\n",
       "    .dataframe thead th {\n",
       "        text-align: right;\n",
       "    }\n",
       "</style>\n",
       "<table border=\"1\" class=\"dataframe\">\n",
       "  <thead>\n",
       "    <tr style=\"text-align: right;\">\n",
       "      <th></th>\n",
       "      <th>name_post</th>\n",
       "      <th>difficulty_post</th>\n",
       "      <th>reading_time_post</th>\n",
       "      <th>views_count_post</th>\n",
       "      <th>tags_post</th>\n",
       "      <th>text_post</th>\n",
       "      <th>rating_company</th>\n",
       "      <th>desc_company</th>\n",
       "      <th>category_list_company</th>\n",
       "      <th>about_company</th>\n",
       "      <th>word_count</th>\n",
       "      <th>unique_word_count</th>\n",
       "      <th>stopword_count</th>\n",
       "      <th>text_clear</th>\n",
       "      <th>tokens</th>\n",
       "      <th>highlighted_text</th>\n",
       "    </tr>\n",
       "  </thead>\n",
       "  <tbody>\n",
       "    <tr>\n",
       "      <th>0</th>\n",
       "      <td>Материалы с казанского Go-митапа: разбор XML, ...</td>\n",
       "      <td>No label found</td>\n",
       "      <td>3</td>\n",
       "      <td>3.8</td>\n",
       "      <td>[Блог компании AvitoTech , XML *, Администриро...</td>\n",
       "      <td>Привет! Мы вернулись из Казани, где проводили...</td>\n",
       "      <td>\\n        195.22\\n</td>\n",
       "      <td>У нас живут ваши объявления</td>\n",
       "      <td>[\\n              Веб-разработка\\n            ,...</td>\n",
       "      <td>Мы команда инженеров Авито. В блоге рассказыва...</td>\n",
       "      <td>587</td>\n",
       "      <td>377</td>\n",
       "      <td>144</td>\n",
       "      <td>привет мы вернуться казань проводить свой перв...</td>\n",
       "      <td>[привет, мы, вернуться, казань, проводить, сво...</td>\n",
       "      <td>привет вернуться казань проводить митапа разра...</td>\n",
       "    </tr>\n",
       "    <tr>\n",
       "      <th>1</th>\n",
       "      <td>Для чего и как мы скрываем госномера автомобил...</td>\n",
       "      <td>No label found</td>\n",
       "      <td>7</td>\n",
       "      <td>86</td>\n",
       "      <td>[Блог компании AvitoTech , Python *, Программи...</td>\n",
       "      <td>Привет. В конце прошлого года мы стали автома...</td>\n",
       "      <td>\\n        195.22\\n</td>\n",
       "      <td>У нас живут ваши объявления</td>\n",
       "      <td>[\\n              Веб-разработка\\n            ,...</td>\n",
       "      <td>Мы команда инженеров Авито. В блоге рассказыва...</td>\n",
       "      <td>1506</td>\n",
       "      <td>955</td>\n",
       "      <td>432</td>\n",
       "      <td>привет в конец прошлое год стать автоматически...</td>\n",
       "      <td>[привет, в, конец, прошлое, год, стать, автома...</td>\n",
       "      <td>привет конец год стать скрывать номер автомоби...</td>\n",
       "    </tr>\n",
       "    <tr>\n",
       "      <th>2</th>\n",
       "      <td>Как не ошибиться с конкурентностью в Go</td>\n",
       "      <td>No label found</td>\n",
       "      <td>12</td>\n",
       "      <td>27</td>\n",
       "      <td>[Блог компании AvitoTech , Высокая производите...</td>\n",
       "      <td>Почему мы вообще хотим писать конкурентный ко...</td>\n",
       "      <td>\\n        195.22\\n</td>\n",
       "      <td>У нас живут ваши объявления</td>\n",
       "      <td>[\\n              Веб-разработка\\n            ,...</td>\n",
       "      <td>Мы команда инженеров Авито. В блоге рассказыва...</td>\n",
       "      <td>2862</td>\n",
       "      <td>1440</td>\n",
       "      <td>847</td>\n",
       "      <td>почему вообще хотеть писать конкурентный код п...</td>\n",
       "      <td>[почему, вообще, хотеть, писать, конкурентный,...</td>\n",
       "      <td>хотеть писать код процессор перестать расти ге...</td>\n",
       "    </tr>\n",
       "    <tr>\n",
       "      <th>3</th>\n",
       "      <td>Как собрать свой Lighthouse</td>\n",
       "      <td>No label found</td>\n",
       "      <td>11</td>\n",
       "      <td>5</td>\n",
       "      <td>[Блог компании Конференции Олега Бунина (Онтик...</td>\n",
       "      <td>Чем интенсивнее наш feature delivering, тем б...</td>\n",
       "      <td>\\n        195.22\\n</td>\n",
       "      <td>У нас живут ваши объявления</td>\n",
       "      <td>[\\n              Веб-разработка\\n            ,...</td>\n",
       "      <td>Мы команда инженеров Авито. В блоге рассказыва...</td>\n",
       "      <td>2467</td>\n",
       "      <td>1296</td>\n",
       "      <td>715</td>\n",
       "      <td>чем интенсивный наш быстрый падать производите...</td>\n",
       "      <td>[чем, интенсивный, наш, быстрый, падать, произ...</td>\n",
       "      <td>падать производительность приходить время авто...</td>\n",
       "    </tr>\n",
       "    <tr>\n",
       "      <th>4</th>\n",
       "      <td>Введение в Puppet</td>\n",
       "      <td>No label found</td>\n",
       "      <td>26</td>\n",
       "      <td>53</td>\n",
       "      <td>[Блог компании AvitoTech , Системное администр...</td>\n",
       "      <td>Puppet — это система управления конфигурацией...</td>\n",
       "      <td>\\n        195.22\\n</td>\n",
       "      <td>У нас живут ваши объявления</td>\n",
       "      <td>[\\n              Веб-разработка\\n            ,...</td>\n",
       "      <td>Мы команда инженеров Авито. В блоге рассказыва...</td>\n",
       "      <td>5910</td>\n",
       "      <td>2445</td>\n",
       "      <td>1397</td>\n",
       "      <td>это система управление конфигурация он использ...</td>\n",
       "      <td>[это, система, управление, конфигурация, он, и...</td>\n",
       "      <td>система управление конфигурация использоваться...</td>\n",
       "    </tr>\n",
       "  </tbody>\n",
       "</table>\n",
       "</div>"
      ],
      "text/plain": [
       "                                           name_post difficulty_post  \\\n",
       "0  Материалы с казанского Go-митапа: разбор XML, ...  No label found   \n",
       "1  Для чего и как мы скрываем госномера автомобил...  No label found   \n",
       "2            Как не ошибиться с конкурентностью в Go  No label found   \n",
       "3                        Как собрать свой Lighthouse  No label found   \n",
       "4                                  Введение в Puppet  No label found   \n",
       "\n",
       "  reading_time_post views_count_post  \\\n",
       "0                 3              3.8   \n",
       "1                 7               86   \n",
       "2                12               27   \n",
       "3                11                5   \n",
       "4                26               53   \n",
       "\n",
       "                                           tags_post  \\\n",
       "0  [Блог компании AvitoTech , XML *, Администриро...   \n",
       "1  [Блог компании AvitoTech , Python *, Программи...   \n",
       "2  [Блог компании AvitoTech , Высокая производите...   \n",
       "3  [Блог компании Конференции Олега Бунина (Онтик...   \n",
       "4  [Блог компании AvitoTech , Системное администр...   \n",
       "\n",
       "                                           text_post  \\\n",
       "0   Привет! Мы вернулись из Казани, где проводили...   \n",
       "1   Привет. В конце прошлого года мы стали автома...   \n",
       "2   Почему мы вообще хотим писать конкурентный ко...   \n",
       "3   Чем интенсивнее наш feature delivering, тем б...   \n",
       "4   Puppet — это система управления конфигурацией...   \n",
       "\n",
       "             rating_company                 desc_company  \\\n",
       "0  \\n        195.22\\n        У нас живут ваши объявления   \n",
       "1  \\n        195.22\\n        У нас живут ваши объявления   \n",
       "2  \\n        195.22\\n        У нас живут ваши объявления   \n",
       "3  \\n        195.22\\n        У нас живут ваши объявления   \n",
       "4  \\n        195.22\\n        У нас живут ваши объявления   \n",
       "\n",
       "                               category_list_company  \\\n",
       "0  [\\n              Веб-разработка\\n            ,...   \n",
       "1  [\\n              Веб-разработка\\n            ,...   \n",
       "2  [\\n              Веб-разработка\\n            ,...   \n",
       "3  [\\n              Веб-разработка\\n            ,...   \n",
       "4  [\\n              Веб-разработка\\n            ,...   \n",
       "\n",
       "                                       about_company  word_count  \\\n",
       "0  Мы команда инженеров Авито. В блоге рассказыва...         587   \n",
       "1  Мы команда инженеров Авито. В блоге рассказыва...        1506   \n",
       "2  Мы команда инженеров Авито. В блоге рассказыва...        2862   \n",
       "3  Мы команда инженеров Авито. В блоге рассказыва...        2467   \n",
       "4  Мы команда инженеров Авито. В блоге рассказыва...        5910   \n",
       "\n",
       "   unique_word_count  stopword_count  \\\n",
       "0                377             144   \n",
       "1                955             432   \n",
       "2               1440             847   \n",
       "3               1296             715   \n",
       "4               2445            1397   \n",
       "\n",
       "                                          text_clear  \\\n",
       "0  привет мы вернуться казань проводить свой перв...   \n",
       "1  привет в конец прошлое год стать автоматически...   \n",
       "2  почему вообще хотеть писать конкурентный код п...   \n",
       "3  чем интенсивный наш быстрый падать производите...   \n",
       "4  это система управление конфигурация он использ...   \n",
       "\n",
       "                                              tokens  \\\n",
       "0  [привет, мы, вернуться, казань, проводить, сво...   \n",
       "1  [привет, в, конец, прошлое, год, стать, автома...   \n",
       "2  [почему, вообще, хотеть, писать, конкурентный,...   \n",
       "3  [чем, интенсивный, наш, быстрый, падать, произ...   \n",
       "4  [это, система, управление, конфигурация, он, и...   \n",
       "\n",
       "                                    highlighted_text  \n",
       "0  привет вернуться казань проводить митапа разра...  \n",
       "1  привет конец год стать скрывать номер автомоби...  \n",
       "2  хотеть писать код процессор перестать расти ге...  \n",
       "3  падать производительность приходить время авто...  \n",
       "4  система управление конфигурация использоваться...  "
      ]
     },
     "execution_count": 28,
     "metadata": {},
     "output_type": "execute_result"
    }
   ],
   "source": [
    "import spacy\n",
    "import pandas as pd\n",
    "import nltk\n",
    "from nltk.corpus import stopwords\n",
    "from nltk.stem.porter import PorterStemmer \n",
    "# Загружаем данные в dataframe\n",
    "# Определяем функцию для выполнения тегов частей речи и выделения значимых частей речи\n",
    "def highlight_pos(text):\n",
    "    doc = nlp(text)\n",
    "    highlighted_text = \"\"\n",
    "    for token in doc:\n",
    "        if token.pos_ in [\"NOUN\", \"VERB\"]:   # Определяем значимые части речи\n",
    "            highlighted_text += f\"{token.text} \" # Добавляем HTML-теги для выделения\n",
    "    return highlighted_text\n",
    "\n",
    "# Применяем функцию к столбцу маркированного текста во фрейме данных\n",
    "\n",
    "df[\"highlighted_text\"] = df[\"text_clear\"].apply(highlight_pos)\n",
    "\n",
    "# Распечатываем обновленный фрейм данных\n",
    "df.head()"
   ]
  },
  {
   "cell_type": "code",
   "execution_count": null,
   "id": "f068cce7",
   "metadata": {},
   "outputs": [],
   "source": [
    "pip install -U gensim"
   ]
  },
  {
   "cell_type": "code",
   "execution_count": null,
   "id": "5486f2c4",
   "metadata": {},
   "outputs": [],
   "source": [
    "pip install --upgrade numpy\n"
   ]
  },
  {
   "cell_type": "markdown",
   "id": "0b117e05",
   "metadata": {},
   "source": [
    "-------------------------------------------------------------------------------------------------------------------------------"
   ]
  },
  {
   "cell_type": "markdown",
   "id": "5c39f733",
   "metadata": {},
   "source": [
    "# Начало выполнения заданий модуля Б"
   ]
  },
  {
   "cell_type": "markdown",
   "id": "ccb8bec6",
   "metadata": {},
   "source": [
    "-------------------------------------------------------------------------------------------------------------------------------"
   ]
  },
  {
   "cell_type": "markdown",
   "id": "02f52802",
   "metadata": {},
   "source": [
    "# Векторизация"
   ]
  },
  {
   "cell_type": "code",
   "execution_count": 29,
   "id": "421361d6",
   "metadata": {},
   "outputs": [
    {
     "data": {
      "text/html": [
       "<style>#sk-container-id-1 {color: black;background-color: white;}#sk-container-id-1 pre{padding: 0;}#sk-container-id-1 div.sk-toggleable {background-color: white;}#sk-container-id-1 label.sk-toggleable__label {cursor: pointer;display: block;width: 100%;margin-bottom: 0;padding: 0.3em;box-sizing: border-box;text-align: center;}#sk-container-id-1 label.sk-toggleable__label-arrow:before {content: \"▸\";float: left;margin-right: 0.25em;color: #696969;}#sk-container-id-1 label.sk-toggleable__label-arrow:hover:before {color: black;}#sk-container-id-1 div.sk-estimator:hover label.sk-toggleable__label-arrow:before {color: black;}#sk-container-id-1 div.sk-toggleable__content {max-height: 0;max-width: 0;overflow: hidden;text-align: left;background-color: #f0f8ff;}#sk-container-id-1 div.sk-toggleable__content pre {margin: 0.2em;color: black;border-radius: 0.25em;background-color: #f0f8ff;}#sk-container-id-1 input.sk-toggleable__control:checked~div.sk-toggleable__content {max-height: 200px;max-width: 100%;overflow: auto;}#sk-container-id-1 input.sk-toggleable__control:checked~label.sk-toggleable__label-arrow:before {content: \"▾\";}#sk-container-id-1 div.sk-estimator input.sk-toggleable__control:checked~label.sk-toggleable__label {background-color: #d4ebff;}#sk-container-id-1 div.sk-label input.sk-toggleable__control:checked~label.sk-toggleable__label {background-color: #d4ebff;}#sk-container-id-1 input.sk-hidden--visually {border: 0;clip: rect(1px 1px 1px 1px);clip: rect(1px, 1px, 1px, 1px);height: 1px;margin: -1px;overflow: hidden;padding: 0;position: absolute;width: 1px;}#sk-container-id-1 div.sk-estimator {font-family: monospace;background-color: #f0f8ff;border: 1px dotted black;border-radius: 0.25em;box-sizing: border-box;margin-bottom: 0.5em;}#sk-container-id-1 div.sk-estimator:hover {background-color: #d4ebff;}#sk-container-id-1 div.sk-parallel-item::after {content: \"\";width: 100%;border-bottom: 1px solid gray;flex-grow: 1;}#sk-container-id-1 div.sk-label:hover label.sk-toggleable__label {background-color: #d4ebff;}#sk-container-id-1 div.sk-serial::before {content: \"\";position: absolute;border-left: 1px solid gray;box-sizing: border-box;top: 0;bottom: 0;left: 50%;z-index: 0;}#sk-container-id-1 div.sk-serial {display: flex;flex-direction: column;align-items: center;background-color: white;padding-right: 0.2em;padding-left: 0.2em;position: relative;}#sk-container-id-1 div.sk-item {position: relative;z-index: 1;}#sk-container-id-1 div.sk-parallel {display: flex;align-items: stretch;justify-content: center;background-color: white;position: relative;}#sk-container-id-1 div.sk-item::before, #sk-container-id-1 div.sk-parallel-item::before {content: \"\";position: absolute;border-left: 1px solid gray;box-sizing: border-box;top: 0;bottom: 0;left: 50%;z-index: -1;}#sk-container-id-1 div.sk-parallel-item {display: flex;flex-direction: column;z-index: 1;position: relative;background-color: white;}#sk-container-id-1 div.sk-parallel-item:first-child::after {align-self: flex-end;width: 50%;}#sk-container-id-1 div.sk-parallel-item:last-child::after {align-self: flex-start;width: 50%;}#sk-container-id-1 div.sk-parallel-item:only-child::after {width: 0;}#sk-container-id-1 div.sk-dashed-wrapped {border: 1px dashed gray;margin: 0 0.4em 0.5em 0.4em;box-sizing: border-box;padding-bottom: 0.4em;background-color: white;}#sk-container-id-1 div.sk-label label {font-family: monospace;font-weight: bold;display: inline-block;line-height: 1.2em;}#sk-container-id-1 div.sk-label-container {text-align: center;}#sk-container-id-1 div.sk-container {/* jupyter's `normalize.less` sets `[hidden] { display: none; }` but bootstrap.min.css set `[hidden] { display: none !important; }` so we also need the `!important` here to be able to override the default hidden behavior on the sphinx rendered scikit-learn.org. See: https://github.com/scikit-learn/scikit-learn/issues/21755 */display: inline-block !important;position: relative;}#sk-container-id-1 div.sk-text-repr-fallback {display: none;}</style><div id=\"sk-container-id-1\" class=\"sk-top-container\"><div class=\"sk-text-repr-fallback\"><pre>CountVectorizer()</pre><b>In a Jupyter environment, please rerun this cell to show the HTML representation or trust the notebook. <br />On GitHub, the HTML representation is unable to render, please try loading this page with nbviewer.org.</b></div><div class=\"sk-container\" hidden><div class=\"sk-item\"><div class=\"sk-estimator sk-toggleable\"><input class=\"sk-toggleable__control sk-hidden--visually\" id=\"sk-estimator-id-1\" type=\"checkbox\" checked><label for=\"sk-estimator-id-1\" class=\"sk-toggleable__label sk-toggleable__label-arrow\">CountVectorizer</label><div class=\"sk-toggleable__content\"><pre>CountVectorizer()</pre></div></div></div></div></div>"
      ],
      "text/plain": [
       "CountVectorizer()"
      ]
     },
     "execution_count": 29,
     "metadata": {},
     "output_type": "execute_result"
    }
   ],
   "source": [
    "import pandas as pd\n",
    "from sklearn.feature_extraction.text import CountVectorizer\n",
    "\n",
    "\n",
    "# Create a CountVectorizer object\n",
    "vectorizer = CountVectorizer()\n",
    "\n",
    "# Fit the vectorizer to the text data\n",
    "vectorizer.fit(df['text_clear'])\n",
    "\n",
    "\n"
   ]
  },
  {
   "cell_type": "markdown",
   "id": "4b241606",
   "metadata": {},
   "source": [
    "#  Поиск ключевых слов/n-грамм. Векторизация текстов"
   ]
  },
  {
   "cell_type": "markdown",
   "id": "67c8a789",
   "metadata": {},
   "source": [
    "Существует несколько способов поиска ключевых слов или n-грамм в текстовых данных. Вот три распространенных метода:\n",
    "\n",
    "\n",
    "Регулярные выражения. Регулярные выражения — это мощный инструмент для поиска и обработки текста. Они позволяют искать шаблоны в текстовых данных, которые могут включать ключевые слова или n-граммы. Например, вы можете искать все экземпляры слова «кошка» в текстовом файле, используя регулярное выражение \\bcat\\b.\n",
    "\n",
    "Мешок слов: модель мешка слов — это простой способ представления текстовых данных в виде вектора частоты слов. Вы можете использовать эту модель для поиска ключевых слов или n-грамм, ища наличие определенных слов или комбинаций слов в векторе. Например, вы можете искать все документы, содержащие слова «кошка» и слово «собака», используя модель мешка слов.\n",
    "\n",
    "Модели n-грамм: Модель n-грамм — это статистическая языковая модель, которая предсказывает вероятность слова с учетом его предыдущих n-1 слов. Вы можете использовать эту модель для поиска n-грамм, ища наличие определенных n-грамм в текстовых данных. Например, вы можете искать все вхождения фразы «машинное обучение» в корпусе документов, используя модель n-грамм."
   ]
  },
  {
   "cell_type": "markdown",
   "id": "89ed2442",
   "metadata": {},
   "source": [
    "Использование статистических методов для обработки текстовых данных и выделения биграмм и триграмм имеет несколько преимуществ:\n",
    "\n",
    "\n",
    "\n",
    "\n",
    "Улучшение качества обработки текстовых данных: выделение биграмм и триграмм позволяет захватить более глубокий контекст и смысл в текстовых данных, что может привести к более точным и полезным результатам при анализе текста.\n",
    "\n",
    "\n",
    "\n",
    "\n",
    "Увеличение размера словаря: выделение биграмм и триграмм увеличивает размер словаря, что может улучшить качество моделей, основанных на текстовых данных, таких как моделирование тем или анализ тональности.\n",
    "\n",
    "\n",
    "\n",
    "\n",
    "Улучшение скорости обработки: использование статистических методов для выделения биграмм и триграмм может ускорить обработку текстовых данных, поскольку это может уменьшить количество уникальных слов, которые необходимо обрабатывать.\n",
    "\n",
    "\n",
    "\n",
    "\n",
    "Легкость в использовании: библиотеки, такие как Gensim, предоставляют простой и удобный способ выделения биграмм и триграмм в текстовых данных, что делает этот подход доступным и легким в использовании для широкого круга пользователей."
   ]
  },
  {
   "cell_type": "markdown",
   "id": "bbb6f54e",
   "metadata": {},
   "source": [
    "Модели n-грамм"
   ]
  },
  {
   "cell_type": "code",
   "execution_count": 30,
   "id": "43deb9f3",
   "metadata": {},
   "outputs": [],
   "source": [
    "# Импортируем необходимые библиотеки\n",
    "import spacy\n",
    "from nltk.corpus import stopwords\n",
    "from gensim.models.phrases import Phrases\n",
    "\n",
    "# Преобразуем объект WordList в список предложений\n",
    "sentences = list(df['text_clear'])\n",
    "\n",
    "# Создаем модели биграмм и триграмм с помощью функции Phrases из библиотеки Gensim\n",
    "# min_count и threshold - параметры, которые контролируют, как часто должна встречаться фраза в тексте, чтобы быть рассмотренной как биграмма или триграмма\n",
    "bigram = Phrases(sentences, min_count=5, threshold=100)\n",
    "trigram = Phrases(bigram[sentences], min_count=5, threshold=100)\n",
    "\n",
    "# Применяем модели к предложениям\n",
    "for idx in range(len(sentences)):\n",
    "    for token in bigram[sentences[idx]]:\n",
    "        if '_' in token:\n",
    "            # Токен - биграмма, добавляем в предложение\n",
    "            sentences[idx].append(token)\n",
    "    for token in trigram[bigram[sentences[idx]]]:\n",
    "        if '_' in token:\n",
    "               # Токен - триграмма, добавляем в предложение\n",
    "            sentences[idx].append(token)\n",
    "# Обновить столбец text_post предварительно обработанным текстом\n",
    "df['text_bigram_trigram'] = sentences"
   ]
  },
  {
   "cell_type": "markdown",
   "id": "3c1b10a2",
   "metadata": {},
   "source": [
    "этот код использует библиотеки Natural Language Toolkit (nltk) и Gensim для предварительной обработки текстовых данных в столбце pandas DataFrame с именем text_clear. Вот предпринимаемые шаги:\n",
    "\n",
    "Преобразовывает столбец text_clear в список предложений.\n",
    "\n",
    "Создавает модели биграмм и триграмм с помощью функции Phrases от Gensim, которая обнаруживает общие фразы (биграммы и триграммы) в текстовых данных.\n",
    "\n",
    "Применяет модели биграммы и триграммы к каждому предложению в списке предложений, обнаруживая и добавляя к предложению любые токены биграммы или триграммы.\n",
    "\n",
    "\n",
    "Конечным результатом является список предварительно обработанных предложений, которые были преобразованы для включения токенов биграммы и триграммы. Эти маркеры могут помочь получить больше контекста и смысла в текстовых данных, что может быть полезно для последующих задач, таких как моделирование темы или анализ тональности."
   ]
  },
  {
   "cell_type": "markdown",
   "id": "046ccfbd",
   "metadata": {},
   "source": [
    "модель мешка слов"
   ]
  },
  {
   "cell_type": "code",
   "execution_count": 31,
   "id": "25dfc349",
   "metadata": {},
   "outputs": [
    {
     "name": "stdout",
     "output_type": "stream",
     "text": [
      "Матрица мешка слов:\n",
      " [[0 0 0 ... 0 0 0]\n",
      " [0 0 0 ... 0 0 0]\n",
      " [0 0 0 ... 0 0 0]\n",
      " ...\n",
      " [0 0 0 ... 0 0 0]\n",
      " [0 0 0 ... 0 0 0]\n",
      " [0 0 0 ... 0 0 1]]\n"
     ]
    }
   ],
   "source": [
    "bow_matrix = vectorizer.transform(df['text_clear'])\n",
    "\n",
    "# Вывод на экран матрицы мешка слов\n",
    "print(\"Матрица мешка слов:\\n\", bow_matrix.toarray())"
   ]
  },
  {
   "cell_type": "markdown",
   "id": "5dbcd831",
   "metadata": {},
   "source": [
    "Регулярные выражения"
   ]
  },
  {
   "cell_type": "code",
   "execution_count": 32,
   "id": "3cdba379",
   "metadata": {},
   "outputs": [
    {
     "name": "stdout",
     "output_type": "stream",
     "text": [
      "Слово 'Победа' не встречается.\n"
     ]
    }
   ],
   "source": [
    "import pandas as pd\n",
    "from sklearn.feature_extraction.text import CountVectorizer\n",
    "\n",
    "\n",
    "\n",
    "# Search for the keyword \"cat\" in the first document\n",
    "if \"Победа\" in df.columns:\n",
    "    doc_index = 0\n",
    "    cat_count = df.loc[doc_index, \"Победа\"]\n",
    "    print(f\"Слово 'Победа' встречается {cat_count} столько раз в документе {doc_index+1}.\")\n",
    "else:\n",
    "    print(\"Слово 'Победа' не встречается.\")\n"
   ]
  },
  {
   "cell_type": "code",
   "execution_count": 33,
   "id": "51cc3ab5",
   "metadata": {},
   "outputs": [
    {
     "data": {
      "text/html": [
       "<div>\n",
       "<style scoped>\n",
       "    .dataframe tbody tr th:only-of-type {\n",
       "        vertical-align: middle;\n",
       "    }\n",
       "\n",
       "    .dataframe tbody tr th {\n",
       "        vertical-align: top;\n",
       "    }\n",
       "\n",
       "    .dataframe thead th {\n",
       "        text-align: right;\n",
       "    }\n",
       "</style>\n",
       "<table border=\"1\" class=\"dataframe\">\n",
       "  <thead>\n",
       "    <tr style=\"text-align: right;\">\n",
       "      <th></th>\n",
       "      <th>name_post</th>\n",
       "      <th>difficulty_post</th>\n",
       "      <th>reading_time_post</th>\n",
       "      <th>views_count_post</th>\n",
       "      <th>tags_post</th>\n",
       "      <th>text_post</th>\n",
       "      <th>rating_company</th>\n",
       "      <th>desc_company</th>\n",
       "      <th>category_list_company</th>\n",
       "      <th>about_company</th>\n",
       "      <th>word_count</th>\n",
       "      <th>unique_word_count</th>\n",
       "      <th>stopword_count</th>\n",
       "      <th>text_clear</th>\n",
       "      <th>tokens</th>\n",
       "      <th>highlighted_text</th>\n",
       "      <th>text_bigram_trigram</th>\n",
       "    </tr>\n",
       "  </thead>\n",
       "  <tbody>\n",
       "    <tr>\n",
       "      <th>0</th>\n",
       "      <td>Материалы с казанского Go-митапа: разбор XML, ...</td>\n",
       "      <td>No label found</td>\n",
       "      <td>3</td>\n",
       "      <td>3.8</td>\n",
       "      <td>[Блог компании AvitoTech , XML *, Администриро...</td>\n",
       "      <td>Привет! Мы вернулись из Казани, где проводили...</td>\n",
       "      <td>\\n        195.22\\n</td>\n",
       "      <td>У нас живут ваши объявления</td>\n",
       "      <td>[\\n              Веб-разработка\\n            ,...</td>\n",
       "      <td>Мы команда инженеров Авито. В блоге рассказыва...</td>\n",
       "      <td>587</td>\n",
       "      <td>377</td>\n",
       "      <td>144</td>\n",
       "      <td>привет мы вернуться казань проводить свой перв...</td>\n",
       "      <td>[привет, мы, вернуться, казань, проводить, сво...</td>\n",
       "      <td>привет вернуться казань проводить митапа разра...</td>\n",
       "      <td>привет мы вернуться казань проводить свой перв...</td>\n",
       "    </tr>\n",
       "    <tr>\n",
       "      <th>1</th>\n",
       "      <td>Для чего и как мы скрываем госномера автомобил...</td>\n",
       "      <td>No label found</td>\n",
       "      <td>7</td>\n",
       "      <td>86</td>\n",
       "      <td>[Блог компании AvitoTech , Python *, Программи...</td>\n",
       "      <td>Привет. В конце прошлого года мы стали автома...</td>\n",
       "      <td>\\n        195.22\\n</td>\n",
       "      <td>У нас живут ваши объявления</td>\n",
       "      <td>[\\n              Веб-разработка\\n            ,...</td>\n",
       "      <td>Мы команда инженеров Авито. В блоге рассказыва...</td>\n",
       "      <td>1506</td>\n",
       "      <td>955</td>\n",
       "      <td>432</td>\n",
       "      <td>привет в конец прошлое год стать автоматически...</td>\n",
       "      <td>[привет, в, конец, прошлое, год, стать, автома...</td>\n",
       "      <td>привет конец год стать скрывать номер автомоби...</td>\n",
       "      <td>привет в конец прошлое год стать автоматически...</td>\n",
       "    </tr>\n",
       "    <tr>\n",
       "      <th>2</th>\n",
       "      <td>Как не ошибиться с конкурентностью в Go</td>\n",
       "      <td>No label found</td>\n",
       "      <td>12</td>\n",
       "      <td>27</td>\n",
       "      <td>[Блог компании AvitoTech , Высокая производите...</td>\n",
       "      <td>Почему мы вообще хотим писать конкурентный ко...</td>\n",
       "      <td>\\n        195.22\\n</td>\n",
       "      <td>У нас живут ваши объявления</td>\n",
       "      <td>[\\n              Веб-разработка\\n            ,...</td>\n",
       "      <td>Мы команда инженеров Авито. В блоге рассказыва...</td>\n",
       "      <td>2862</td>\n",
       "      <td>1440</td>\n",
       "      <td>847</td>\n",
       "      <td>почему вообще хотеть писать конкурентный код п...</td>\n",
       "      <td>[почему, вообще, хотеть, писать, конкурентный,...</td>\n",
       "      <td>хотеть писать код процессор перестать расти ге...</td>\n",
       "      <td>почему вообще хотеть писать конкурентный код п...</td>\n",
       "    </tr>\n",
       "    <tr>\n",
       "      <th>3</th>\n",
       "      <td>Как собрать свой Lighthouse</td>\n",
       "      <td>No label found</td>\n",
       "      <td>11</td>\n",
       "      <td>5</td>\n",
       "      <td>[Блог компании Конференции Олега Бунина (Онтик...</td>\n",
       "      <td>Чем интенсивнее наш feature delivering, тем б...</td>\n",
       "      <td>\\n        195.22\\n</td>\n",
       "      <td>У нас живут ваши объявления</td>\n",
       "      <td>[\\n              Веб-разработка\\n            ,...</td>\n",
       "      <td>Мы команда инженеров Авито. В блоге рассказыва...</td>\n",
       "      <td>2467</td>\n",
       "      <td>1296</td>\n",
       "      <td>715</td>\n",
       "      <td>чем интенсивный наш быстрый падать производите...</td>\n",
       "      <td>[чем, интенсивный, наш, быстрый, падать, произ...</td>\n",
       "      <td>падать производительность приходить время авто...</td>\n",
       "      <td>чем интенсивный наш быстрый падать производите...</td>\n",
       "    </tr>\n",
       "    <tr>\n",
       "      <th>4</th>\n",
       "      <td>Введение в Puppet</td>\n",
       "      <td>No label found</td>\n",
       "      <td>26</td>\n",
       "      <td>53</td>\n",
       "      <td>[Блог компании AvitoTech , Системное администр...</td>\n",
       "      <td>Puppet — это система управления конфигурацией...</td>\n",
       "      <td>\\n        195.22\\n</td>\n",
       "      <td>У нас живут ваши объявления</td>\n",
       "      <td>[\\n              Веб-разработка\\n            ,...</td>\n",
       "      <td>Мы команда инженеров Авито. В блоге рассказыва...</td>\n",
       "      <td>5910</td>\n",
       "      <td>2445</td>\n",
       "      <td>1397</td>\n",
       "      <td>это система управление конфигурация он использ...</td>\n",
       "      <td>[это, система, управление, конфигурация, он, и...</td>\n",
       "      <td>система управление конфигурация использоваться...</td>\n",
       "      <td>это система управление конфигурация он использ...</td>\n",
       "    </tr>\n",
       "  </tbody>\n",
       "</table>\n",
       "</div>"
      ],
      "text/plain": [
       "                                           name_post difficulty_post  \\\n",
       "0  Материалы с казанского Go-митапа: разбор XML, ...  No label found   \n",
       "1  Для чего и как мы скрываем госномера автомобил...  No label found   \n",
       "2            Как не ошибиться с конкурентностью в Go  No label found   \n",
       "3                        Как собрать свой Lighthouse  No label found   \n",
       "4                                  Введение в Puppet  No label found   \n",
       "\n",
       "  reading_time_post views_count_post  \\\n",
       "0                 3              3.8   \n",
       "1                 7               86   \n",
       "2                12               27   \n",
       "3                11                5   \n",
       "4                26               53   \n",
       "\n",
       "                                           tags_post  \\\n",
       "0  [Блог компании AvitoTech , XML *, Администриро...   \n",
       "1  [Блог компании AvitoTech , Python *, Программи...   \n",
       "2  [Блог компании AvitoTech , Высокая производите...   \n",
       "3  [Блог компании Конференции Олега Бунина (Онтик...   \n",
       "4  [Блог компании AvitoTech , Системное администр...   \n",
       "\n",
       "                                           text_post  \\\n",
       "0   Привет! Мы вернулись из Казани, где проводили...   \n",
       "1   Привет. В конце прошлого года мы стали автома...   \n",
       "2   Почему мы вообще хотим писать конкурентный ко...   \n",
       "3   Чем интенсивнее наш feature delivering, тем б...   \n",
       "4   Puppet — это система управления конфигурацией...   \n",
       "\n",
       "             rating_company                 desc_company  \\\n",
       "0  \\n        195.22\\n        У нас живут ваши объявления   \n",
       "1  \\n        195.22\\n        У нас живут ваши объявления   \n",
       "2  \\n        195.22\\n        У нас живут ваши объявления   \n",
       "3  \\n        195.22\\n        У нас живут ваши объявления   \n",
       "4  \\n        195.22\\n        У нас живут ваши объявления   \n",
       "\n",
       "                               category_list_company  \\\n",
       "0  [\\n              Веб-разработка\\n            ,...   \n",
       "1  [\\n              Веб-разработка\\n            ,...   \n",
       "2  [\\n              Веб-разработка\\n            ,...   \n",
       "3  [\\n              Веб-разработка\\n            ,...   \n",
       "4  [\\n              Веб-разработка\\n            ,...   \n",
       "\n",
       "                                       about_company  word_count  \\\n",
       "0  Мы команда инженеров Авито. В блоге рассказыва...         587   \n",
       "1  Мы команда инженеров Авито. В блоге рассказыва...        1506   \n",
       "2  Мы команда инженеров Авито. В блоге рассказыва...        2862   \n",
       "3  Мы команда инженеров Авито. В блоге рассказыва...        2467   \n",
       "4  Мы команда инженеров Авито. В блоге рассказыва...        5910   \n",
       "\n",
       "   unique_word_count  stopword_count  \\\n",
       "0                377             144   \n",
       "1                955             432   \n",
       "2               1440             847   \n",
       "3               1296             715   \n",
       "4               2445            1397   \n",
       "\n",
       "                                          text_clear  \\\n",
       "0  привет мы вернуться казань проводить свой перв...   \n",
       "1  привет в конец прошлое год стать автоматически...   \n",
       "2  почему вообще хотеть писать конкурентный код п...   \n",
       "3  чем интенсивный наш быстрый падать производите...   \n",
       "4  это система управление конфигурация он использ...   \n",
       "\n",
       "                                              tokens  \\\n",
       "0  [привет, мы, вернуться, казань, проводить, сво...   \n",
       "1  [привет, в, конец, прошлое, год, стать, автома...   \n",
       "2  [почему, вообще, хотеть, писать, конкурентный,...   \n",
       "3  [чем, интенсивный, наш, быстрый, падать, произ...   \n",
       "4  [это, система, управление, конфигурация, он, и...   \n",
       "\n",
       "                                    highlighted_text  \\\n",
       "0  привет вернуться казань проводить митапа разра...   \n",
       "1  привет конец год стать скрывать номер автомоби...   \n",
       "2  хотеть писать код процессор перестать расти ге...   \n",
       "3  падать производительность приходить время авто...   \n",
       "4  система управление конфигурация использоваться...   \n",
       "\n",
       "                                 text_bigram_trigram  \n",
       "0  привет мы вернуться казань проводить свой перв...  \n",
       "1  привет в конец прошлое год стать автоматически...  \n",
       "2  почему вообще хотеть писать конкурентный код п...  \n",
       "3  чем интенсивный наш быстрый падать производите...  \n",
       "4  это система управление конфигурация он использ...  "
      ]
     },
     "execution_count": 33,
     "metadata": {},
     "output_type": "execute_result"
    }
   ],
   "source": [
    "df.head()"
   ]
  },
  {
   "cell_type": "markdown",
   "id": "6fc28b5b",
   "metadata": {},
   "source": [
    "# Кластеризация"
   ]
  },
  {
   "cell_type": "markdown",
   "id": "5d00312a",
   "metadata": {},
   "source": [
    "Данный код на языке Python использует библиотеки Matplotlib, scikit-learn и TSNE для кластеризации текстовых данных и их визуализации в двумерном пространстве с помощью метода t-SNE.\n",
    "\n",
    "\n",
    "Первая строка импортирует необходимые библиотеки.\n",
    "\n",
    "\n",
    "Далее, используется класс TfidfVectorizer из библиотеки scikit-learn для преобразования текстовых данных в векторное представление на основе TF-IDF.\n",
    "\n",
    "\n",
    "Затем, используются три различных алгоритма кластеризации: K-means, иерархическая кластеризация и DBSCAN. Для K-means и иерархической кластеризации задаётся количество кластеров k=5.\n",
    "\n",
    "\n",
    "Для визуализации кластеров в двумерном пространстве используется метод t-SNE.\n",
    "\n",
    "\n",
    "Наконец, для каждого алгоритма кластеризации отображается график, на котором точки представляют текстовые данные, а цвет каждой точки соответствует её принадлежности к определённому кластеру. Заголовок каждого графика содержит название соответствующего алгоритма кластеризации."
   ]
  },
  {
   "cell_type": "markdown",
   "id": "abd2f2ba",
   "metadata": {},
   "source": [
    "Кластеризация - это процесс группировки объектов на основе их сходства. Существует множество алгоритмов кластеризации, и каждый из них имеет свои особенности и применения. Вот некоторые из наиболее распространенных алгоритмов кластеризации с примерами кода и визуализацией:\n",
    "\n",
    "\n",
    "--K-средних (K-means)\n",
    "\n",
    "K-средних - это один из самых популярных алгоритмов кластеризации. Он основан на минимизации суммарного квадрата расстояний между точками и центрами кластеров. Вот пример кода на Python для кластеризации данных методом K-средних\n",
    "\n",
    "--DBSCAN\n",
    "\n",
    "DBSCAN - это алгоритм кластеризации, который основан на плотности точек. Он позволяет идентифицировать выбросы и определять кластеры произвольной формы. Вот пример кода на Python для кластеризации данных методом DBSCAN:\n",
    "\n",
    "--Иерархическая кластеризация\n",
    "\n",
    "Иерархическая кластеризация - это алгоритм кластеризации, который строит иерархическую структуру кластеров. Он может быть агломеративным (начинает с каждой точки в отдельном кластере и объединяет их) или дивизионным (начинает с одного кластера и разделяет его на более мелкие). Вот пример кода на Python для кластеризации данных методом иерархической кластеризации:\n",
    "\n",
    "\n"
   ]
  },
  {
   "cell_type": "code",
   "execution_count": 34,
   "id": "e003f808",
   "metadata": {},
   "outputs": [
    {
     "name": "stderr",
     "output_type": "stream",
     "text": [
      "C:\\ProgramData\\Anaconda3\\lib\\site-packages\\sklearn\\cluster\\_kmeans.py:870: FutureWarning: The default value of `n_init` will change from 10 to 'auto' in 1.4. Set the value of `n_init` explicitly to suppress the warning\n",
      "  warnings.warn(\n"
     ]
    },
    {
     "ename": "AttributeError",
     "evalue": "'NoneType' object has no attribute 'split'",
     "output_type": "error",
     "traceback": [
      "\u001b[1;31m---------------------------------------------------------------------------\u001b[0m",
      "\u001b[1;31mAttributeError\u001b[0m                            Traceback (most recent call last)",
      "\u001b[1;32m~\\AppData\\Local\\Temp/ipykernel_10552/2408696456.py\u001b[0m in \u001b[0;36m<module>\u001b[1;34m\u001b[0m\n\u001b[0;32m     11\u001b[0m \u001b[0mk\u001b[0m \u001b[1;33m=\u001b[0m \u001b[1;36m5\u001b[0m  \u001b[1;31m# Число кластеров\u001b[0m\u001b[1;33m\u001b[0m\u001b[1;33m\u001b[0m\u001b[0m\n\u001b[0;32m     12\u001b[0m \u001b[0mkmeans\u001b[0m \u001b[1;33m=\u001b[0m \u001b[0mKMeans\u001b[0m\u001b[1;33m(\u001b[0m\u001b[0mn_clusters\u001b[0m\u001b[1;33m=\u001b[0m\u001b[0mk\u001b[0m\u001b[1;33m,\u001b[0m \u001b[0mrandom_state\u001b[0m\u001b[1;33m=\u001b[0m\u001b[1;36m0\u001b[0m\u001b[1;33m)\u001b[0m\u001b[1;33m\u001b[0m\u001b[1;33m\u001b[0m\u001b[0m\n\u001b[1;32m---> 13\u001b[1;33m \u001b[0mkmeans_labels\u001b[0m \u001b[1;33m=\u001b[0m \u001b[0mkmeans\u001b[0m\u001b[1;33m.\u001b[0m\u001b[0mfit_predict\u001b[0m\u001b[1;33m(\u001b[0m\u001b[0mX\u001b[0m\u001b[1;33m)\u001b[0m\u001b[1;33m\u001b[0m\u001b[1;33m\u001b[0m\u001b[0m\n\u001b[0m\u001b[0;32m     14\u001b[0m \u001b[1;33m\u001b[0m\u001b[0m\n\u001b[0;32m     15\u001b[0m \u001b[1;31m# Выполнение иерархической кластеризации\u001b[0m\u001b[1;33m\u001b[0m\u001b[1;33m\u001b[0m\u001b[0m\n",
      "\u001b[1;32mC:\\ProgramData\\Anaconda3\\lib\\site-packages\\sklearn\\cluster\\_kmeans.py\u001b[0m in \u001b[0;36mfit_predict\u001b[1;34m(self, X, y, sample_weight)\u001b[0m\n\u001b[0;32m   1031\u001b[0m             \u001b[0mIndex\u001b[0m \u001b[0mof\u001b[0m \u001b[0mthe\u001b[0m \u001b[0mcluster\u001b[0m \u001b[0meach\u001b[0m \u001b[0msample\u001b[0m \u001b[0mbelongs\u001b[0m \u001b[0mto\u001b[0m\u001b[1;33m.\u001b[0m\u001b[1;33m\u001b[0m\u001b[1;33m\u001b[0m\u001b[0m\n\u001b[0;32m   1032\u001b[0m         \"\"\"\n\u001b[1;32m-> 1033\u001b[1;33m         \u001b[1;32mreturn\u001b[0m \u001b[0mself\u001b[0m\u001b[1;33m.\u001b[0m\u001b[0mfit\u001b[0m\u001b[1;33m(\u001b[0m\u001b[0mX\u001b[0m\u001b[1;33m,\u001b[0m \u001b[0msample_weight\u001b[0m\u001b[1;33m=\u001b[0m\u001b[0msample_weight\u001b[0m\u001b[1;33m)\u001b[0m\u001b[1;33m.\u001b[0m\u001b[0mlabels_\u001b[0m\u001b[1;33m\u001b[0m\u001b[1;33m\u001b[0m\u001b[0m\n\u001b[0m\u001b[0;32m   1034\u001b[0m \u001b[1;33m\u001b[0m\u001b[0m\n\u001b[0;32m   1035\u001b[0m     \u001b[1;32mdef\u001b[0m \u001b[0mpredict\u001b[0m\u001b[1;33m(\u001b[0m\u001b[0mself\u001b[0m\u001b[1;33m,\u001b[0m \u001b[0mX\u001b[0m\u001b[1;33m,\u001b[0m \u001b[0msample_weight\u001b[0m\u001b[1;33m=\u001b[0m\u001b[1;32mNone\u001b[0m\u001b[1;33m)\u001b[0m\u001b[1;33m:\u001b[0m\u001b[1;33m\u001b[0m\u001b[1;33m\u001b[0m\u001b[0m\n",
      "\u001b[1;32mC:\\ProgramData\\Anaconda3\\lib\\site-packages\\sklearn\\cluster\\_kmeans.py\u001b[0m in \u001b[0;36mfit\u001b[1;34m(self, X, y, sample_weight)\u001b[0m\n\u001b[0;32m   1466\u001b[0m \u001b[1;33m\u001b[0m\u001b[0m\n\u001b[0;32m   1467\u001b[0m             \u001b[1;31m# run a k-means once\u001b[0m\u001b[1;33m\u001b[0m\u001b[1;33m\u001b[0m\u001b[0m\n\u001b[1;32m-> 1468\u001b[1;33m             labels, inertia, centers, n_iter_ = kmeans_single(\n\u001b[0m\u001b[0;32m   1469\u001b[0m                 \u001b[0mX\u001b[0m\u001b[1;33m,\u001b[0m\u001b[1;33m\u001b[0m\u001b[1;33m\u001b[0m\u001b[0m\n\u001b[0;32m   1470\u001b[0m                 \u001b[0msample_weight\u001b[0m\u001b[1;33m,\u001b[0m\u001b[1;33m\u001b[0m\u001b[1;33m\u001b[0m\u001b[0m\n",
      "\u001b[1;32mC:\\ProgramData\\Anaconda3\\lib\\site-packages\\sklearn\\cluster\\_kmeans.py\u001b[0m in \u001b[0;36m_kmeans_single_lloyd\u001b[1;34m(X, sample_weight, centers_init, max_iter, verbose, tol, n_threads)\u001b[0m\n\u001b[0;32m    677\u001b[0m     \u001b[1;31m# Threadpoolctl context to limit the number of threads in second level of\u001b[0m\u001b[1;33m\u001b[0m\u001b[1;33m\u001b[0m\u001b[0m\n\u001b[0;32m    678\u001b[0m     \u001b[1;31m# nested parallelism (i.e. BLAS) to avoid oversubscription.\u001b[0m\u001b[1;33m\u001b[0m\u001b[1;33m\u001b[0m\u001b[0m\n\u001b[1;32m--> 679\u001b[1;33m     \u001b[1;32mwith\u001b[0m \u001b[0mthreadpool_limits\u001b[0m\u001b[1;33m(\u001b[0m\u001b[0mlimits\u001b[0m\u001b[1;33m=\u001b[0m\u001b[1;36m1\u001b[0m\u001b[1;33m,\u001b[0m \u001b[0muser_api\u001b[0m\u001b[1;33m=\u001b[0m\u001b[1;34m\"blas\"\u001b[0m\u001b[1;33m)\u001b[0m\u001b[1;33m:\u001b[0m\u001b[1;33m\u001b[0m\u001b[1;33m\u001b[0m\u001b[0m\n\u001b[0m\u001b[0;32m    680\u001b[0m         \u001b[1;32mfor\u001b[0m \u001b[0mi\u001b[0m \u001b[1;32min\u001b[0m \u001b[0mrange\u001b[0m\u001b[1;33m(\u001b[0m\u001b[0mmax_iter\u001b[0m\u001b[1;33m)\u001b[0m\u001b[1;33m:\u001b[0m\u001b[1;33m\u001b[0m\u001b[1;33m\u001b[0m\u001b[0m\n\u001b[0;32m    681\u001b[0m             lloyd_iter(\n",
      "\u001b[1;32mC:\\ProgramData\\Anaconda3\\lib\\site-packages\\sklearn\\utils\\fixes.py\u001b[0m in \u001b[0;36mthreadpool_limits\u001b[1;34m(limits, user_api)\u001b[0m\n\u001b[0;32m    137\u001b[0m         \u001b[1;32mreturn\u001b[0m \u001b[0mcontroller\u001b[0m\u001b[1;33m.\u001b[0m\u001b[0mlimit\u001b[0m\u001b[1;33m(\u001b[0m\u001b[0mlimits\u001b[0m\u001b[1;33m=\u001b[0m\u001b[0mlimits\u001b[0m\u001b[1;33m,\u001b[0m \u001b[0muser_api\u001b[0m\u001b[1;33m=\u001b[0m\u001b[0muser_api\u001b[0m\u001b[1;33m)\u001b[0m\u001b[1;33m\u001b[0m\u001b[1;33m\u001b[0m\u001b[0m\n\u001b[0;32m    138\u001b[0m     \u001b[1;32melse\u001b[0m\u001b[1;33m:\u001b[0m\u001b[1;33m\u001b[0m\u001b[1;33m\u001b[0m\u001b[0m\n\u001b[1;32m--> 139\u001b[1;33m         \u001b[1;32mreturn\u001b[0m \u001b[0mthreadpoolctl\u001b[0m\u001b[1;33m.\u001b[0m\u001b[0mthreadpool_limits\u001b[0m\u001b[1;33m(\u001b[0m\u001b[0mlimits\u001b[0m\u001b[1;33m=\u001b[0m\u001b[0mlimits\u001b[0m\u001b[1;33m,\u001b[0m \u001b[0muser_api\u001b[0m\u001b[1;33m=\u001b[0m\u001b[0muser_api\u001b[0m\u001b[1;33m)\u001b[0m\u001b[1;33m\u001b[0m\u001b[1;33m\u001b[0m\u001b[0m\n\u001b[0m\u001b[0;32m    140\u001b[0m \u001b[1;33m\u001b[0m\u001b[0m\n\u001b[0;32m    141\u001b[0m \u001b[1;33m\u001b[0m\u001b[0m\n",
      "\u001b[1;32mC:\\ProgramData\\Anaconda3\\lib\\site-packages\\threadpoolctl.py\u001b[0m in \u001b[0;36m__init__\u001b[1;34m(self, limits, user_api)\u001b[0m\n\u001b[0;32m    169\u001b[0m             \u001b[0mself\u001b[0m\u001b[1;33m.\u001b[0m\u001b[0m_check_params\u001b[0m\u001b[1;33m(\u001b[0m\u001b[0mlimits\u001b[0m\u001b[1;33m,\u001b[0m \u001b[0muser_api\u001b[0m\u001b[1;33m)\u001b[0m\u001b[1;33m\u001b[0m\u001b[1;33m\u001b[0m\u001b[0m\n\u001b[0;32m    170\u001b[0m \u001b[1;33m\u001b[0m\u001b[0m\n\u001b[1;32m--> 171\u001b[1;33m         \u001b[0mself\u001b[0m\u001b[1;33m.\u001b[0m\u001b[0m_original_info\u001b[0m \u001b[1;33m=\u001b[0m \u001b[0mself\u001b[0m\u001b[1;33m.\u001b[0m\u001b[0m_set_threadpool_limits\u001b[0m\u001b[1;33m(\u001b[0m\u001b[1;33m)\u001b[0m\u001b[1;33m\u001b[0m\u001b[1;33m\u001b[0m\u001b[0m\n\u001b[0m\u001b[0;32m    172\u001b[0m \u001b[1;33m\u001b[0m\u001b[0m\n\u001b[0;32m    173\u001b[0m     \u001b[1;32mdef\u001b[0m \u001b[0m__enter__\u001b[0m\u001b[1;33m(\u001b[0m\u001b[0mself\u001b[0m\u001b[1;33m)\u001b[0m\u001b[1;33m:\u001b[0m\u001b[1;33m\u001b[0m\u001b[1;33m\u001b[0m\u001b[0m\n",
      "\u001b[1;32mC:\\ProgramData\\Anaconda3\\lib\\site-packages\\threadpoolctl.py\u001b[0m in \u001b[0;36m_set_threadpool_limits\u001b[1;34m(self)\u001b[0m\n\u001b[0;32m    266\u001b[0m             \u001b[1;32mreturn\u001b[0m \u001b[1;32mNone\u001b[0m\u001b[1;33m\u001b[0m\u001b[1;33m\u001b[0m\u001b[0m\n\u001b[0;32m    267\u001b[0m \u001b[1;33m\u001b[0m\u001b[0m\n\u001b[1;32m--> 268\u001b[1;33m         modules = _ThreadpoolInfo(prefixes=self._prefixes,\n\u001b[0m\u001b[0;32m    269\u001b[0m                                   user_api=self._user_api)\n\u001b[0;32m    270\u001b[0m         \u001b[1;32mfor\u001b[0m \u001b[0mmodule\u001b[0m \u001b[1;32min\u001b[0m \u001b[0mmodules\u001b[0m\u001b[1;33m:\u001b[0m\u001b[1;33m\u001b[0m\u001b[1;33m\u001b[0m\u001b[0m\n",
      "\u001b[1;32mC:\\ProgramData\\Anaconda3\\lib\\site-packages\\threadpoolctl.py\u001b[0m in \u001b[0;36m__init__\u001b[1;34m(self, user_api, prefixes, modules)\u001b[0m\n\u001b[0;32m    338\u001b[0m \u001b[1;33m\u001b[0m\u001b[0m\n\u001b[0;32m    339\u001b[0m             \u001b[0mself\u001b[0m\u001b[1;33m.\u001b[0m\u001b[0mmodules\u001b[0m \u001b[1;33m=\u001b[0m \u001b[1;33m[\u001b[0m\u001b[1;33m]\u001b[0m\u001b[1;33m\u001b[0m\u001b[1;33m\u001b[0m\u001b[0m\n\u001b[1;32m--> 340\u001b[1;33m             \u001b[0mself\u001b[0m\u001b[1;33m.\u001b[0m\u001b[0m_load_modules\u001b[0m\u001b[1;33m(\u001b[0m\u001b[1;33m)\u001b[0m\u001b[1;33m\u001b[0m\u001b[1;33m\u001b[0m\u001b[0m\n\u001b[0m\u001b[0;32m    341\u001b[0m             \u001b[0mself\u001b[0m\u001b[1;33m.\u001b[0m\u001b[0m_warn_if_incompatible_openmp\u001b[0m\u001b[1;33m(\u001b[0m\u001b[1;33m)\u001b[0m\u001b[1;33m\u001b[0m\u001b[1;33m\u001b[0m\u001b[0m\n\u001b[0;32m    342\u001b[0m         \u001b[1;32melse\u001b[0m\u001b[1;33m:\u001b[0m\u001b[1;33m\u001b[0m\u001b[1;33m\u001b[0m\u001b[0m\n",
      "\u001b[1;32mC:\\ProgramData\\Anaconda3\\lib\\site-packages\\threadpoolctl.py\u001b[0m in \u001b[0;36m_load_modules\u001b[1;34m(self)\u001b[0m\n\u001b[0;32m    371\u001b[0m             \u001b[0mself\u001b[0m\u001b[1;33m.\u001b[0m\u001b[0m_find_modules_with_dyld\u001b[0m\u001b[1;33m(\u001b[0m\u001b[1;33m)\u001b[0m\u001b[1;33m\u001b[0m\u001b[1;33m\u001b[0m\u001b[0m\n\u001b[0;32m    372\u001b[0m         \u001b[1;32melif\u001b[0m \u001b[0msys\u001b[0m\u001b[1;33m.\u001b[0m\u001b[0mplatform\u001b[0m \u001b[1;33m==\u001b[0m \u001b[1;34m\"win32\"\u001b[0m\u001b[1;33m:\u001b[0m\u001b[1;33m\u001b[0m\u001b[1;33m\u001b[0m\u001b[0m\n\u001b[1;32m--> 373\u001b[1;33m             \u001b[0mself\u001b[0m\u001b[1;33m.\u001b[0m\u001b[0m_find_modules_with_enum_process_module_ex\u001b[0m\u001b[1;33m(\u001b[0m\u001b[1;33m)\u001b[0m\u001b[1;33m\u001b[0m\u001b[1;33m\u001b[0m\u001b[0m\n\u001b[0m\u001b[0;32m    374\u001b[0m         \u001b[1;32melse\u001b[0m\u001b[1;33m:\u001b[0m\u001b[1;33m\u001b[0m\u001b[1;33m\u001b[0m\u001b[0m\n\u001b[0;32m    375\u001b[0m             \u001b[0mself\u001b[0m\u001b[1;33m.\u001b[0m\u001b[0m_find_modules_with_dl_iterate_phdr\u001b[0m\u001b[1;33m(\u001b[0m\u001b[1;33m)\u001b[0m\u001b[1;33m\u001b[0m\u001b[1;33m\u001b[0m\u001b[0m\n",
      "\u001b[1;32mC:\\ProgramData\\Anaconda3\\lib\\site-packages\\threadpoolctl.py\u001b[0m in \u001b[0;36m_find_modules_with_enum_process_module_ex\u001b[1;34m(self)\u001b[0m\n\u001b[0;32m    483\u001b[0m \u001b[1;33m\u001b[0m\u001b[0m\n\u001b[0;32m    484\u001b[0m                 \u001b[1;31m# Store the module if it is supported and selected\u001b[0m\u001b[1;33m\u001b[0m\u001b[1;33m\u001b[0m\u001b[0m\n\u001b[1;32m--> 485\u001b[1;33m                 \u001b[0mself\u001b[0m\u001b[1;33m.\u001b[0m\u001b[0m_make_module_from_path\u001b[0m\u001b[1;33m(\u001b[0m\u001b[0mfilepath\u001b[0m\u001b[1;33m)\u001b[0m\u001b[1;33m\u001b[0m\u001b[1;33m\u001b[0m\u001b[0m\n\u001b[0m\u001b[0;32m    486\u001b[0m         \u001b[1;32mfinally\u001b[0m\u001b[1;33m:\u001b[0m\u001b[1;33m\u001b[0m\u001b[1;33m\u001b[0m\u001b[0m\n\u001b[0;32m    487\u001b[0m             \u001b[0mkernel_32\u001b[0m\u001b[1;33m.\u001b[0m\u001b[0mCloseHandle\u001b[0m\u001b[1;33m(\u001b[0m\u001b[0mh_process\u001b[0m\u001b[1;33m)\u001b[0m\u001b[1;33m\u001b[0m\u001b[1;33m\u001b[0m\u001b[0m\n",
      "\u001b[1;32mC:\\ProgramData\\Anaconda3\\lib\\site-packages\\threadpoolctl.py\u001b[0m in \u001b[0;36m_make_module_from_path\u001b[1;34m(self, filepath)\u001b[0m\n\u001b[0;32m    513\u001b[0m             \u001b[1;32mif\u001b[0m \u001b[0mprefix\u001b[0m \u001b[1;32min\u001b[0m \u001b[0mself\u001b[0m\u001b[1;33m.\u001b[0m\u001b[0mprefixes\u001b[0m \u001b[1;32mor\u001b[0m \u001b[0muser_api\u001b[0m \u001b[1;32min\u001b[0m \u001b[0mself\u001b[0m\u001b[1;33m.\u001b[0m\u001b[0muser_api\u001b[0m\u001b[1;33m:\u001b[0m\u001b[1;33m\u001b[0m\u001b[1;33m\u001b[0m\u001b[0m\n\u001b[0;32m    514\u001b[0m                 \u001b[0mmodule_class\u001b[0m \u001b[1;33m=\u001b[0m \u001b[0mglobals\u001b[0m\u001b[1;33m(\u001b[0m\u001b[1;33m)\u001b[0m\u001b[1;33m[\u001b[0m\u001b[0mmodule_class\u001b[0m\u001b[1;33m]\u001b[0m\u001b[1;33m\u001b[0m\u001b[1;33m\u001b[0m\u001b[0m\n\u001b[1;32m--> 515\u001b[1;33m                 \u001b[0mmodule\u001b[0m \u001b[1;33m=\u001b[0m \u001b[0mmodule_class\u001b[0m\u001b[1;33m(\u001b[0m\u001b[0mfilepath\u001b[0m\u001b[1;33m,\u001b[0m \u001b[0mprefix\u001b[0m\u001b[1;33m,\u001b[0m \u001b[0muser_api\u001b[0m\u001b[1;33m,\u001b[0m \u001b[0minternal_api\u001b[0m\u001b[1;33m)\u001b[0m\u001b[1;33m\u001b[0m\u001b[1;33m\u001b[0m\u001b[0m\n\u001b[0m\u001b[0;32m    516\u001b[0m                 \u001b[0mself\u001b[0m\u001b[1;33m.\u001b[0m\u001b[0mmodules\u001b[0m\u001b[1;33m.\u001b[0m\u001b[0mappend\u001b[0m\u001b[1;33m(\u001b[0m\u001b[0mmodule\u001b[0m\u001b[1;33m)\u001b[0m\u001b[1;33m\u001b[0m\u001b[1;33m\u001b[0m\u001b[0m\n\u001b[0;32m    517\u001b[0m \u001b[1;33m\u001b[0m\u001b[0m\n",
      "\u001b[1;32mC:\\ProgramData\\Anaconda3\\lib\\site-packages\\threadpoolctl.py\u001b[0m in \u001b[0;36m__init__\u001b[1;34m(self, filepath, prefix, user_api, internal_api)\u001b[0m\n\u001b[0;32m    604\u001b[0m         \u001b[0mself\u001b[0m\u001b[1;33m.\u001b[0m\u001b[0minternal_api\u001b[0m \u001b[1;33m=\u001b[0m \u001b[0minternal_api\u001b[0m\u001b[1;33m\u001b[0m\u001b[1;33m\u001b[0m\u001b[0m\n\u001b[0;32m    605\u001b[0m         \u001b[0mself\u001b[0m\u001b[1;33m.\u001b[0m\u001b[0m_dynlib\u001b[0m \u001b[1;33m=\u001b[0m \u001b[0mctypes\u001b[0m\u001b[1;33m.\u001b[0m\u001b[0mCDLL\u001b[0m\u001b[1;33m(\u001b[0m\u001b[0mfilepath\u001b[0m\u001b[1;33m,\u001b[0m \u001b[0mmode\u001b[0m\u001b[1;33m=\u001b[0m\u001b[0m_RTLD_NOLOAD\u001b[0m\u001b[1;33m)\u001b[0m\u001b[1;33m\u001b[0m\u001b[1;33m\u001b[0m\u001b[0m\n\u001b[1;32m--> 606\u001b[1;33m         \u001b[0mself\u001b[0m\u001b[1;33m.\u001b[0m\u001b[0mversion\u001b[0m \u001b[1;33m=\u001b[0m \u001b[0mself\u001b[0m\u001b[1;33m.\u001b[0m\u001b[0mget_version\u001b[0m\u001b[1;33m(\u001b[0m\u001b[1;33m)\u001b[0m\u001b[1;33m\u001b[0m\u001b[1;33m\u001b[0m\u001b[0m\n\u001b[0m\u001b[0;32m    607\u001b[0m         \u001b[0mself\u001b[0m\u001b[1;33m.\u001b[0m\u001b[0mnum_threads\u001b[0m \u001b[1;33m=\u001b[0m \u001b[0mself\u001b[0m\u001b[1;33m.\u001b[0m\u001b[0mget_num_threads\u001b[0m\u001b[1;33m(\u001b[0m\u001b[1;33m)\u001b[0m\u001b[1;33m\u001b[0m\u001b[1;33m\u001b[0m\u001b[0m\n\u001b[0;32m    608\u001b[0m         \u001b[0mself\u001b[0m\u001b[1;33m.\u001b[0m\u001b[0m_get_extra_info\u001b[0m\u001b[1;33m(\u001b[0m\u001b[1;33m)\u001b[0m\u001b[1;33m\u001b[0m\u001b[1;33m\u001b[0m\u001b[0m\n",
      "\u001b[1;32mC:\\ProgramData\\Anaconda3\\lib\\site-packages\\threadpoolctl.py\u001b[0m in \u001b[0;36mget_version\u001b[1;34m(self)\u001b[0m\n\u001b[0;32m    644\u001b[0m                              lambda: None)\n\u001b[0;32m    645\u001b[0m         \u001b[0mget_config\u001b[0m\u001b[1;33m.\u001b[0m\u001b[0mrestype\u001b[0m \u001b[1;33m=\u001b[0m \u001b[0mctypes\u001b[0m\u001b[1;33m.\u001b[0m\u001b[0mc_char_p\u001b[0m\u001b[1;33m\u001b[0m\u001b[1;33m\u001b[0m\u001b[0m\n\u001b[1;32m--> 646\u001b[1;33m         \u001b[0mconfig\u001b[0m \u001b[1;33m=\u001b[0m \u001b[0mget_config\u001b[0m\u001b[1;33m(\u001b[0m\u001b[1;33m)\u001b[0m\u001b[1;33m.\u001b[0m\u001b[0msplit\u001b[0m\u001b[1;33m(\u001b[0m\u001b[1;33m)\u001b[0m\u001b[1;33m\u001b[0m\u001b[1;33m\u001b[0m\u001b[0m\n\u001b[0m\u001b[0;32m    647\u001b[0m         \u001b[1;32mif\u001b[0m \u001b[0mconfig\u001b[0m\u001b[1;33m[\u001b[0m\u001b[1;36m0\u001b[0m\u001b[1;33m]\u001b[0m \u001b[1;33m==\u001b[0m \u001b[1;34mb\"OpenBLAS\"\u001b[0m\u001b[1;33m:\u001b[0m\u001b[1;33m\u001b[0m\u001b[1;33m\u001b[0m\u001b[0m\n\u001b[0;32m    648\u001b[0m             \u001b[1;32mreturn\u001b[0m \u001b[0mconfig\u001b[0m\u001b[1;33m[\u001b[0m\u001b[1;36m1\u001b[0m\u001b[1;33m]\u001b[0m\u001b[1;33m.\u001b[0m\u001b[0mdecode\u001b[0m\u001b[1;33m(\u001b[0m\u001b[1;34m\"utf-8\"\u001b[0m\u001b[1;33m)\u001b[0m\u001b[1;33m\u001b[0m\u001b[1;33m\u001b[0m\u001b[0m\n",
      "\u001b[1;31mAttributeError\u001b[0m: 'NoneType' object has no attribute 'split'"
     ]
    }
   ],
   "source": [
    "import matplotlib.pyplot as plt\n",
    "from sklearn.feature_extraction.text import TfidfVectorizer\n",
    "from sklearn.cluster import KMeans, AgglomerativeClustering, DBSCAN\n",
    "from sklearn.manifold import TSNE\n",
    "\n",
    "# Преобразование текстовых данных в векторное представление\n",
    "vectorizer = TfidfVectorizer()\n",
    "X = vectorizer.fit_transform(df['text_bigram_trigram'])\n",
    "\n",
    "# Выполнение кластеризации K-средних\n",
    "k = 5  # Число кластеров\n",
    "kmeans = KMeans(n_clusters=k, random_state=0)\n",
    "kmeans_labels = kmeans.fit_predict(X)\n",
    "\n",
    "# Выполнение иерархической кластеризации\n",
    "hierarchical = AgglomerativeClustering(n_clusters=k)\n",
    "hierarchical_labels = hierarchical.fit_predict(X.toarray())  # Convert sparse matrix to dense array\n",
    "\n",
    "# Выполнение кластеризации DBSCAN\n",
    "dbscan = DBSCAN(eps=0.5, min_samples=5)\n",
    "dbscan_labels = dbscan.fit_predict(X)\n",
    "\n",
    "# Применить t-SNE для визуализации\n",
    "tsne = TSNE(n_components=2, random_state=0)\n",
    "X_tsne = tsne.fit_transform(X.toarray())  # Convert sparse matrix to dense array\n",
    "\n",
    "# Постройте результаты\n",
    "plt.scatter(X_tsne[:, 0], X_tsne[:, 1], c=kmeans_labels, cmap='viridis')\n",
    "plt.title('K-means Clustering (t-SNE)')\n",
    "plt.show()\n",
    "\n",
    "plt.scatter(X_tsne[:, 0], X_tsne[:, 1], c=hierarchical_labels, cmap='viridis')\n",
    "plt.title('Hierarchical Clustering (t-SNE)')\n",
    "plt.show()\n",
    "\n",
    "plt.scatter(X_tsne[:, 0], X_tsne[:, 1], c=dbscan_labels, cmap='viridis')\n",
    "plt.title('DBSCAN Clustering (t-SNE)')\n",
    "plt.show()"
   ]
  },
  {
   "cell_type": "markdown",
   "id": "92f97631",
   "metadata": {},
   "source": [
    "# Метрика"
   ]
  },
  {
   "cell_type": "markdown",
   "id": "782b08b6",
   "metadata": {},
   "source": [
    "Метрики используются для измерения качества моделей машинного обучения и оценки их производительности. Вот некоторые примеры метрик, которые часто используются в задачах классификации и регрессии:"
   ]
  },
  {
   "cell_type": "markdown",
   "id": "f7688357",
   "metadata": {},
   "source": [
    "1.Accuracy (точность)"
   ]
  },
  {
   "cell_type": "markdown",
   "id": "d360eeed",
   "metadata": {},
   "source": [
    "Accuracy - это метрика, которая показывает, как часто модель правильно классифицирует объекты. Она определяется как отношение числа правильно классифицированных объектов к общему числу объектов."
   ]
  },
  {
   "cell_type": "code",
   "execution_count": null,
   "id": "7bc60e53",
   "metadata": {},
   "outputs": [],
   "source": [
    "from sklearn.metrics import accuracy_score\n",
    "\n",
    "y_true = [0, 1, 1, 0, 1, 1]\n",
    "y_pred = [0, 1, 0, 0, 1, 1]\n",
    "\n",
    "accuracy = accuracy_score(y_true, y_pred)\n",
    "print(\"Accuracy:\", accuracy)\n"
   ]
  },
  {
   "cell_type": "markdown",
   "id": "cab8364f",
   "metadata": {},
   "source": [
    "2.Precision (точность)"
   ]
  },
  {
   "cell_type": "markdown",
   "id": "6614dfae",
   "metadata": {},
   "source": [
    "Precision - это метрика, которая показывает, как много объектов, которые модель классифицировала как положительные, действительно являются положительными. Она определяется как отношение числа истинно положительных объектов к общему числу объектов, которые модель классифицировала как положительные."
   ]
  },
  {
   "cell_type": "code",
   "execution_count": null,
   "id": "e47a6e6f",
   "metadata": {},
   "outputs": [],
   "source": [
    "from sklearn.metrics import precision_score\n",
    "\n",
    "y_true = [0, 1, 1, 0, 1, 1]\n",
    "y_pred = [0, 1, 0, 0, 1, 1]\n",
    "\n",
    "precision = precision_score(y_true, y_pred)\n",
    "print(\"Precision:\", precision)\n"
   ]
  },
  {
   "cell_type": "markdown",
   "id": "88bdf92c",
   "metadata": {},
   "source": [
    "3.Recall (полнота)"
   ]
  },
  {
   "cell_type": "markdown",
   "id": "e09317c0",
   "metadata": {},
   "source": [
    "Recall - это метрика, которая показывает, как много положительных объектов были правильно классифицированы моделью. Она определяется как отношение числа истинно положительных объектов к общему числу положительных объектов."
   ]
  },
  {
   "cell_type": "code",
   "execution_count": null,
   "id": "dc4488b0",
   "metadata": {},
   "outputs": [],
   "source": [
    "from sklearn.metrics import recall_score\n",
    "\n",
    "y_true = [0, 1, 1, 0, 1, 1]\n",
    "y_pred = [0, 1, 0, 0, 1, 1]\n",
    "\n",
    "recall = recall_score(y_true, y_pred)\n",
    "print(\"Recall:\", recall)\n"
   ]
  },
  {
   "cell_type": "markdown",
   "id": "16470337",
   "metadata": {},
   "source": [
    "F1-score"
   ]
  },
  {
   "cell_type": "markdown",
   "id": "58334e26",
   "metadata": {},
   "source": [
    "F1-score - это гармоническое среднее между Precision и Recall. Она является более сбалансированной метрикой, чем Accuracy, и часто используется в задачах с несбалансированными классами."
   ]
  },
  {
   "cell_type": "code",
   "execution_count": null,
   "id": "90e72db1",
   "metadata": {},
   "outputs": [],
   "source": [
    "from sklearn.metrics import f1_score\n",
    "\n",
    "y_true = [0, 1, 1, 0, 1, 1]\n",
    "y_pred = [0, 1, 0, 0, 1, 1]\n",
    "\n",
    "f1 = f1_score(y_true, y_pred)\n",
    "print(\"F1-score:\", f1)\n"
   ]
  },
  {
   "cell_type": "markdown",
   "id": "46062387",
   "metadata": {},
   "source": [
    "# Преимущества и Недостатки выбранной метрики"
   ]
  },
  {
   "cell_type": "markdown",
   "id": "647b4eb2",
   "metadata": {},
   "source": [
    "Accuracy (точность)\n",
    "\n",
    "Преимущества:\n",
    "\n",
    "\n",
    "Простота интерпретации\n",
    "Хорошо работает в случае сбалансированных классов\n",
    "\n",
    "Недостатки:\n",
    "\n",
    "\n",
    "Не учитывает дисбаланс классов\n",
    "Может быть неправильно интерпретирована в случае несбалансированных классов\n",
    "\n",
    "Precision (точность)\n",
    "\n",
    "Преимущества:\n",
    "\n",
    "\n",
    "Учитывает ложно-положительные результаты\n",
    "Хорошо работает в случае, когда ложно-положительные результаты могут быть опасны\n",
    "\n",
    "Недостатки:\n",
    "\n",
    "\n",
    "Не учитывает ложно-отрицательные результаты\n",
    "Может быть неправильно интерпретирована в случае несбалансированных классов\n",
    "\n",
    "Recall (полнота)\n",
    "\n",
    "Преимущества:\n",
    "\n",
    "\n",
    "Учитывает ложно-отрицательные результаты\n",
    "Хорошо работает в случае, когда ложно-отрицательные результаты могут быть опасны\n",
    "\n",
    "Недостатки:\n",
    "\n",
    "\n",
    "Не учитывает ложно-положительные результаты\n",
    "Может быть неправильно интерпретирована в случае несбалансированных классов\n",
    "\n",
    "F1-score\n",
    "\n",
    "Преимущества:\n",
    "\n",
    "\n",
    "Учитывает как Precision, так и Recall\n",
    "Хорошо работает в случае несбалансированных классов\n",
    "\n",
    "Недостатки:\n",
    "\n",
    "\n",
    "Может быть менее интерпретируемой, чем Accuracy, Precision и Recall\n",
    "\n",
    "Конечный выбор метрики зависит от конкретной задачи машинного обучения и требований к производительности модели. Например, если в задаче классификации ложно-положительные результаты могут быть опасны, то Precision может быть более важной метрикой, чем Recall. Если в задаче классификации классы несбалансированы, то F1-score может быть более подходящей метрикой, чем Accuracy."
   ]
  },
  {
   "cell_type": "markdown",
   "id": "d296c0ac",
   "metadata": {},
   "source": [
    "# Оценка качества кластеризации"
   ]
  },
  {
   "cell_type": "markdown",
   "id": "6ca35d44",
   "metadata": {},
   "source": [
    "По результатам полученым в ходе анализа каечества кластеризации,самой оптимальной является:"
   ]
  },
  {
   "cell_type": "markdown",
   "id": "910a246a",
   "metadata": {},
   "source": [
    "иерархическая кластеризация"
   ]
  },
  {
   "cell_type": "markdown",
   "id": "e4bc6a40",
   "metadata": {},
   "source": [
    "# Тематическое моделирование"
   ]
  },
  {
   "cell_type": "markdown",
   "id": "1b1a6eb6",
   "metadata": {},
   "source": [
    "Существует несколько способов тематического моделирования, которые могут быть использованы для анализа больших наборов текстовых данных. Ниже перечислены некоторые из них:\n",
    "\n",
    "\n",
    "1)Latent Dirichlet Allocation (LDA) - это один из наиболее популярных методов тематического моделирования, который использует статистические методы для выявления скрытых тем в наборе текстовых данных. LDA моделирует каждый документ как распределение вероятностей по темам, а каждую тему как распределение вероятностей по словам.\n",
    "\n",
    "2)Non-negative Matrix Factorization (NMF) - это метод тематического моделирования, который использует матричное разложение для выявления скрытых тем в наборе текстовых данных. NMF моделирует каждый документ как линейную комбинацию тем, а каждую тему как линейную комбинацию слов.\n",
    "\n",
    "3)Probabilistic Latent Semantic Analysis (PLSA) - это метод тематического моделирования, который также использует статистические методы для выявления скрытых тем в наборе текстовых данных. PLSA моделирует каждый документ как распределение вероятностей по темам, а каждую тему как распределение вероятностей по словам.\n",
    "\n",
    "4)Correlated Topic Model (CTM) - это метод тематического моделирования, который расширяет LDA, учитывая корреляции между темами. CTM моделирует каждый документ как распределение вероятностей по темам, а каждую тему как распределение вероятностей по словам.\n",
    "\n",
    "5)Hierarchical Dirichlet Process (HDP) - это метод тематического моделирования, который позволяет автоматически определять число тем в наборе текстовых данных. HDP моделирует каждый документ как распределение вероятностей по темам, а каждую тему как распределение вероятностей по словам."
   ]
  },
  {
   "cell_type": "markdown",
   "id": "b5bbe68c",
   "metadata": {},
   "source": [
    "Latent Dirichlet Allocation (LDA)"
   ]
  },
  {
   "cell_type": "code",
   "execution_count": null,
   "id": "55a4f72e",
   "metadata": {},
   "outputs": [],
   "source": [
    "from gensim.models import LdaModel\n",
    "from gensim.corpora import Dictionary\n",
    "from gensim import corpora\n",
    "\n",
    "# Пример текстовых данных\n",
    "corpus = df[\"text_bigram_trigram\"]\n",
    "\n",
    "# Создание словаря\n",
    "dictionary = corpora.Dictionary([doc.split() for doc in corpus])\n",
    "\n",
    "# Создание корпуса\n",
    "corpus = [dictionary.doc2bow(doc.split()) for doc in corpus]\n",
    "\n",
    "# Создание модели LDA\n",
    "lda_model = LdaModel(corpus, num_topics=5, id2word=dictionary, passes=10)\n",
    "\n",
    "# Вывод топовых слов для каждой темы\n",
    "for idx, topic in lda_model.show_topics(num_topics=5, num_words=10):\n",
    "    print(f\"Тема {idx + 1}: {topic}\")"
   ]
  },
  {
   "cell_type": "markdown",
   "id": "fa94ac4c",
   "metadata": {},
   "source": [
    "Non-negative Matrix Factorization (NMF)"
   ]
  },
  {
   "cell_type": "code",
   "execution_count": null,
   "id": "4b6fd36b",
   "metadata": {},
   "outputs": [],
   "source": [
    "from sklearn.decomposition import NMF\n",
    "from sklearn.feature_extraction.text import TfidfVectorizer\n",
    "\n",
    "# Создание матрицы TF-IDF из текстовых данных\n",
    "vectorizer = TfidfVectorizer(max_features=1000, stop_words='english')\n",
    "tfidf = vectorizer.fit_transform(df['text_bigram_trigram'])\n",
    "\n",
    "# Создание модели NMF\n",
    "nmf_model = NMF(n_components=10, init='random', random_state=0)\n",
    "\n",
    "# Применение модели к матрице TF-IDF\n",
    "nmf_model.fit(tfidf)\n",
    "\n",
    "# Вывод топ-10 слов для каждой темы\n",
    "for idx, topic in enumerate(nmf_model.components_):\n",
    "    print(\"Topic #%d:\" % idx)\n",
    "    print(\" \".join([vectorizer.get_feature_names()[i] for i in topic.argsort()[:-10 - 1:-1]]))\n",
    "    print(\"\\n\")\n"
   ]
  },
  {
   "cell_type": "markdown",
   "id": "9dac3c97",
   "metadata": {},
   "source": [
    "Probabilistic Latent Semantic Analysis (PLSA)"
   ]
  },
  {
   "cell_type": "code",
   "execution_count": null,
   "id": "6af1fc87",
   "metadata": {},
   "outputs": [],
   "source": [
    "from gensim import corpora, models\n",
    "\n",
    "text_data = df['text_bigram_trigram']\n",
    "\n",
    "# Создание словаря из текстовых данных\n",
    "dictionary = corpora.Dictionary([text.split() for text in text_data])\n",
    "\n",
    "# Создание корпуса из текстовых данных\n",
    "corpus = [dictionary.doc2bow(text.split()) for text in text_data]\n",
    "\n",
    "# Создание модели LSI\n",
    "lsi_model = models.LsiModel(corpus, num_topics=10)\n",
    "\n",
    "# Вывод топ-10 слов для каждой темы\n",
    "for topic in lsi_model.show_topics(num_topics=10, num_words=10):\n",
    "    print(topic)"
   ]
  },
  {
   "cell_type": "markdown",
   "id": "339db103",
   "metadata": {},
   "source": [
    "# Разведочный анализ"
   ]
  },
  {
   "cell_type": "markdown",
   "id": "0a14dfa4",
   "metadata": {},
   "source": [
    "Данный код на языке Python использует библиотеку Matplotlib и WordCloud для создания облака слов для каждой темы, полученной из обученной модели LDA (Latent Dirichlet Allocation).\n",
    "\n",
    "\n",
    "Первая строка импортирует необходимые библиотеки.\n",
    "\n",
    "\n",
    "Далее, используется метод show_topics модели LDA для получения наиболее вероятных слов для каждой темы. Параметр num_topics=-1 означает, что мы хотим получить все темы, которые были обучены.\n",
    "\n",
    "\n",
    "Затем, в цикле создаётся облако слов для каждой темы. Метод fit_words принимает словарь, где ключ - это слово, а значение - это его вероятность в данной теме. Облако слов отображается с помощью метода imshow из библиотеки Matplotlib.\n",
    "\n",
    "\n",
    "Наконец, для каждой темы отображается своё облако слов с заголовком, содержащим номер темы."
   ]
  },
  {
   "cell_type": "code",
   "execution_count": null,
   "id": "6fa8b63b",
   "metadata": {},
   "outputs": [],
   "source": [
    "import matplotlib.pyplot as plt\n",
    "from wordcloud import WordCloud\n",
    "\n",
    "# Используя модель LDA под названием \"lda_model\" которую мы получили ранее\n",
    "\n",
    "# Получаем наиболее вероятные слова для каждой темы\n",
    "topics = lda_model.show_topics(num_topics=-1, formatted=False)\n",
    "\n",
    "# Создаем облако слов для каждой темы\n",
    "for idx, topic in topics:\n",
    "    plt.figure()\n",
    "    plt.imshow(WordCloud(width=800, height=400).fit_words(dict(topic)))\n",
    "    plt.axis('off')\n",
    "    plt.title('Topic #{}'.format(idx + 1))\n",
    "    plt.show()"
   ]
  },
  {
   "cell_type": "code",
   "execution_count": null,
   "id": "ace72c1b",
   "metadata": {},
   "outputs": [],
   "source": [
    "from textblob import TextBlob\n",
    "def get_sentiment(text):\n",
    "    blob = TextBlob(text)\n",
    "    sentiment = blob.sentiment.polarity\n",
    "    subjectivity = blob.sentiment.subjectivity\n",
    "    return sentiment"
   ]
  },
  {
   "cell_type": "code",
   "execution_count": null,
   "id": "3f7f3820",
   "metadata": {},
   "outputs": [],
   "source": [
    "df['sentiment_polarity'] = df['text_post'].apply(get_sentiment)"
   ]
  },
  {
   "cell_type": "code",
   "execution_count": null,
   "id": "52ec2ae1",
   "metadata": {},
   "outputs": [],
   "source": [
    "df.head()"
   ]
  },
  {
   "cell_type": "code",
   "execution_count": null,
   "id": "d7e8bb79",
   "metadata": {},
   "outputs": [],
   "source": [
    "import seaborn as sns\n",
    "\n",
    " \n",
    "\n",
    "# Perform sentiment analysis or obtain sentiment polarity scores\n",
    "# Example: assuming the sentiment polarity scores are in a column called 'sentiment_polarity'\n",
    "# You can use any sentiment analysis library such as TextBlob, VADER, etc. to obtain sentiment polarity scores\n",
    "\n",
    "# Visualize sentiment polarity using a box plot with Seaborn\n",
    "sns.boxplot(x='sentiment_polarity', data=df)\n",
    "plt.xlabel('Sentiment Polarity')\n",
    "plt.title('Sentiment Polarity Distribution')\n",
    "plt.show()\n",
    "\n",
    "# Visualize sentiment polarity using a violin plot with Seaborn\n",
    "sns.violinplot(x='sentiment_polarity', data=df)\n",
    "plt.xlabel('Sentiment Polarity')\n",
    "plt.title('Sentiment Polarity Distribution')\n",
    "plt.show()\n",
    "\n",
    "# Visualize sentiment polarity using a swarm plot with Seaborn\n",
    "sns.swarmplot(x='sentiment_polarity', data=df)\n",
    "plt.xlabel('Sentiment Polarity')\n",
    "plt.title('Sentiment Polarity Distribution')\n",
    "plt.show()"
   ]
  },
  {
   "cell_type": "code",
   "execution_count": null,
   "id": "c8e550ba",
   "metadata": {},
   "outputs": [],
   "source": [
    "import seaborn as sns\n",
    "import matplotlib.pyplot as plt\n",
    "import pandas as pd\n",
    "\n",
    "# Определяем и заполняем DataFrame df данными\n",
    "df = pd.DataFrame({'sentiment_polarity': ['положительный', 'отрицательный', 'нейтральный', 'положительный', 'нейтральный', 'отрицательный'],\n",
    "                   'value': [0.2, -0.5, 0.1, 0.4, -0.3, -0.7]})\n",
    "\n",
    "# Создаем график countplot для категорий sentiment polarity\n",
    "sns.countplot(x='sentiment_polarity', data=df)\n",
    "plt.xlabel('Тональность настроения')\n",
    "plt.title('Распределение тональности настроения - Countplot')\n",
    "plt.show()\n",
    "\n",
    "# Создаем график boxplot для значений sentiment polarity\n",
    "sns.boxplot(x='sentiment_polarity', y='value', data=df)\n",
    "plt.xlabel('Тональность настроения')\n",
    "plt.ylabel('Значение')\n",
    "plt.title('Распределение тональности настроения - Boxplot')\n",
    "plt.show()\n",
    "\n",
    "# Создаем график violinplot для значений sentiment polarity\n",
    "sns.violinplot(x='sentiment_polarity', y='value', data=df)\n",
    "plt.xlabel('Тональность настроения')\n",
    "plt.ylabel('Значение')\n",
    "plt.title('Распределение тональности настроения - Violinplot')\n",
    "plt.show()\n",
    "\n",
    "# Создаем график swarmplot для значений sentiment polarity\n",
    "sns.swarmplot(x='sentiment_polarity', y='value', data=df)\n",
    "plt.xlabel('Тональность настроения')\n",
    "plt.ylabel('Значение')\n",
    "plt.title('Распределение тональности настроения - Swarmplot')\n",
    "plt.show()"
   ]
  },
  {
   "cell_type": "code",
   "execution_count": null,
   "id": "a57640f5",
   "metadata": {},
   "outputs": [],
   "source": [
    "import pandas as pd\n",
    "\n",
    "# Загрузка данных\n",
    "data = pd.read_csv('init_dataset.csv')\n",
    "\n",
    "# Создание целевой переменной\n",
    "target = data['views_count_post']\n",
    "\n",
    "# Вывод первых 5 строк целевой переменной\n",
    "print(target.head())\n"
   ]
  },
  {
   "cell_type": "markdown",
   "id": "9af839b5",
   "metadata": {},
   "source": [
    "# Отчет по результатам работы"
   ]
  },
  {
   "cell_type": "markdown",
   "id": "7d29f13a",
   "metadata": {},
   "source": [
    "Выполнен поиск ключевых n-грамм\n",
    "Проведена векторизация текстов\n",
    "Проведено тематическое моделирование\n",
    "Выполненена Кластернизация по сходству компаний\n",
    "Качество кластеризации оцененно с помощью метрики \n",
    "Выбран лучший алгоритм кластеризации\n",
    "Проведен анализ плотности распределения\n",
    "Выполнена визуализация зависимостей + анализ публикаций"
   ]
  },
  {
   "cell_type": "markdown",
   "id": "7f55126d",
   "metadata": {},
   "source": [
    "-------------------------------------------------------------------------------------------------------------------------------"
   ]
  },
  {
   "cell_type": "markdown",
   "id": "54c4a5ae",
   "metadata": {},
   "source": [
    "# Начало выполнения заданий модуля В"
   ]
  },
  {
   "cell_type": "markdown",
   "id": "be8a9a71",
   "metadata": {},
   "source": [
    "-------------------------------------------------------------------------------------------------------------------------------"
   ]
  },
  {
   "cell_type": "markdown",
   "id": "a7b69483",
   "metadata": {},
   "source": [
    "# Разбиение выборки"
   ]
  },
  {
   "cell_type": "markdown",
   "id": "bbc195a3",
   "metadata": {},
   "source": [
    "Шаг 1: подготовка данных\n",
    "\n",
    "Первым делом выполним ряд стандартных шагов: почистить, заполнить пропуски, выполнить label encoding для категориальных признаков. Для рассматриваемого датасета шаг не потребовался, так что пропустим его описание."
   ]
  },
  {
   "cell_type": "code",
   "execution_count": null,
   "id": "a3e4a510",
   "metadata": {},
   "outputs": [],
   "source": [
    "import pandas as pd\n",
    "#загрузка датасетов  train и test\n",
    "train = pd.read_csv('train.csv',low_memory=True)\n",
    "test = pd.read_csv('test.csv',low_memory=True)"
   ]
  },
  {
   "cell_type": "markdown",
   "id": "2665c006",
   "metadata": {},
   "source": [
    "Шаг 2: добавление индикатора источника данных\n",
    "\n",
    "К обеим частям датасета — обучающей и тестовой — необходимо добавить новый признак-индикатор. Для обучающей выборки со значением «1», для тестовой, соответственно, «0»."
   ]
  },
  {
   "cell_type": "code",
   "execution_count": null,
   "id": "12cb7154",
   "metadata": {},
   "outputs": [],
   "source": [
    "test['is_train'] = 0\n",
    "train['is_train'] = 1"
   ]
  },
  {
   "cell_type": "markdown",
   "id": "085b18e3",
   "metadata": {},
   "source": [
    "Шаг 3: объединение обучающей и тестовой выборки\n",
    "\n",
    "Теперь необходимо объединить два датасета. Ппоскольку обучающий датасет содержит столбец целевых значений 'refs_quant', которого нет в тестовом датасете, этот столбец необходимо удалить."
   ]
  },
  {
   "cell_type": "markdown",
   "id": "425dffe8",
   "metadata": {},
   "source": [
    "# Набор данных дополнен целевой переменной"
   ]
  },
  {
   "cell_type": "code",
   "execution_count": null,
   "id": "e999a765",
   "metadata": {},
   "outputs": [],
   "source": [
    "#объединение выборок train, test\n",
    "df_combine = pd.concat([train, test, df], axis=0, ignore_index=True)\n",
    "#удаление метки target\n",
    "df_combine = df_combine.drop('refs_quant', axis =1)\n",
    "\n",
    "y = df_combine['is_train'].values #индикатор источника \n",
    "x = df_combine.drop('is_train', axis=1).values #объединенный датасет\n",
    "\n",
    "tst, trn = test.values, train.values"
   ]
  },
  {
   "cell_type": "code",
   "execution_count": null,
   "id": "542b32b0",
   "metadata": {},
   "outputs": [],
   "source": [
    "df_combine.head()"
   ]
  },
  {
   "cell_type": "markdown",
   "id": "2608b513",
   "metadata": {},
   "source": [
    "Для обучения нашей модели преобразуем текстогвые данные в числовые"
   ]
  },
  {
   "cell_type": "code",
   "execution_count": null,
   "id": "1f9c34d4",
   "metadata": {},
   "outputs": [],
   "source": [
    "from sklearn import preprocessing\n",
    "#from sklearn.preprocessing import LabelEncoder# Instatniate LabelEncoder\n",
    "le = preprocessing.LabelEncoder()# LabelEncode Book_Tablecolumn of df\n",
    "df_combine[\"name_company\"] = le.fit_transform(df_combine[\"name_company\"])# Inspecting encoded df\n",
    "df_combine.head()"
   ]
  },
  {
   "cell_type": "code",
   "execution_count": null,
   "id": "f4e0bec6",
   "metadata": {},
   "outputs": [],
   "source": [
    "companyes = df_combine[\"name_company\"].unique()\n",
    "companyes"
   ]
  },
  {
   "cell_type": "code",
   "execution_count": 79,
   "id": "9546e67e",
   "metadata": {},
   "outputs": [
    {
     "name": "stdout",
     "output_type": "stream",
     "text": [
      "Requirement already satisfied: scikit-learn in c:\\programdata\\anaconda3\\lib\\site-packages (1.2.2)\n",
      "Requirement already satisfied: scipy>=1.3.2 in c:\\programdata\\anaconda3\\lib\\site-packages (from scikit-learn) (1.10.1)\n",
      "Requirement already satisfied: joblib>=1.1.1 in c:\\programdata\\anaconda3\\lib\\site-packages (from scikit-learn) (1.2.0)\n",
      "Requirement already satisfied: numpy>=1.17.3 in c:\\programdata\\anaconda3\\lib\\site-packages (from scikit-learn) (1.22.4)\n",
      "Requirement already satisfied: threadpoolctl>=2.0.0 in c:\\programdata\\anaconda3\\lib\\site-packages (from scikit-learn) (2.2.0)\n",
      "Note: you may need to restart the kernel to use updated packages.\n"
     ]
    },
    {
     "name": "stderr",
     "output_type": "stream",
     "text": [
      "WARNING: Ignoring invalid distribution -umpy (c:\\programdata\\anaconda3\\lib\\site-packages)\n",
      "WARNING: Ignoring invalid distribution - (c:\\programdata\\anaconda3\\lib\\site-packages)\n",
      "WARNING: Ignoring invalid distribution -umpy (c:\\programdata\\anaconda3\\lib\\site-packages)\n",
      "WARNING: Ignoring invalid distribution - (c:\\programdata\\anaconda3\\lib\\site-packages)\n",
      "WARNING: Ignoring invalid distribution -umpy (c:\\programdata\\anaconda3\\lib\\site-packages)\n",
      "WARNING: Ignoring invalid distribution - (c:\\programdata\\anaconda3\\lib\\site-packages)\n",
      "WARNING: Ignoring invalid distribution -umpy (c:\\programdata\\anaconda3\\lib\\site-packages)\n",
      "WARNING: Ignoring invalid distribution - (c:\\programdata\\anaconda3\\lib\\site-packages)\n",
      "WARNING: Ignoring invalid distribution -umpy (c:\\programdata\\anaconda3\\lib\\site-packages)\n",
      "WARNING: Ignoring invalid distribution - (c:\\programdata\\anaconda3\\lib\\site-packages)\n",
      "WARNING: Ignoring invalid distribution -umpy (c:\\programdata\\anaconda3\\lib\\site-packages)\n",
      "WARNING: Ignoring invalid distribution - (c:\\programdata\\anaconda3\\lib\\site-packages)\n"
     ]
    }
   ],
   "source": [
    "pip install scikit-learn"
   ]
  },
  {
   "cell_type": "markdown",
   "id": "62350cc0",
   "metadata": {},
   "source": [
    "Шаг 4: построение и тестирование классификатора\n",
    "\n",
    "Для целей классификации будем использовать Random Forest Classifier, который настроим для предсказания меток источника данных в объединенном датасете. Можно использовать любой другой классификатор."
   ]
  },
  {
   "cell_type": "code",
   "execution_count": null,
   "id": "c9890adf",
   "metadata": {},
   "outputs": [],
   "source": [
    "from sklearn.ensemble import RandomForestClassifier\n",
    "import numpy as np\n",
    "\n",
    "rfc = RandomForestClassifier(n_jobs=-1, max_depth=5, min_samples_leaf = 5)\n",
    "predictions = np.zeros(y.shape) #пустой массив для вероятностей классов"
   ]
  },
  {
   "cell_type": "markdown",
   "id": "c14ce84f",
   "metadata": {},
   "source": [
    "Используем стратифицированное рандомизированное разбиение на 4 фолда. Таким образом мы сохраним соотношение меток 'is_train' в каждом фолде как в исходной объединенной выборке. Для каждого разбиенения обучим классификатор на большей части разбиения и предскажем метку класса для меньшей отложенной части."
   ]
  },
  {
   "cell_type": "markdown",
   "id": "405da3ef",
   "metadata": {},
   "source": [
    "Сделаем словарь где ключом будет название комапниий, а значением наминация. \n",
    "Если для комании нет номинации - ставим, ставим 0"
   ]
  },
  {
   "cell_type": "code",
   "execution_count": null,
   "id": "de6711a2",
   "metadata": {},
   "outputs": [],
   "source": [
    "NOMINATIONS = [\n",
    "    \"Государство и Общество\",\n",
    "    \"СМИ и массовые коммуникации\",\n",
    "    \"Образование и Кадры\",\n",
    "    \"Экономика и Бизнес\",\n",
    "    \"Путешествия по .РФ\",\n",
    "    \"Наука, технологии и инновации\",\n",
    "    \"Здоровье и Отдых\",\n",
    "    \"Культурные проекты в сети\",\n",
    "    \"Народов много - Родина одна\",\n",
    "    \"Туризм и индустрия гостеприимства\",\n",
    "    \"Подкасты и цифровой контент\" \n",
    "    ]"
   ]
  },
  {
   "cell_type": "code",
   "execution_count": null,
   "id": "a2f81b1d",
   "metadata": {},
   "outputs": [],
   "source": [
    "dict_compeny_runet =  {\n",
    "    'Авито':  \"Государство и Общество\",\n",
    "    'ВТБ (ПАО). Налоговый вычет':  \"Государство и Общество\",\n",
    "    'Иннотех':  \"Наука, технологии и инновации\",\n",
    "    'Промобот':   \"Наука, технологии и инновации\",\n",
    "    'Gett': \"Наука, технологии и инновации\",\n",
    "    'Skillbox': \"Наука, технологии и инновации\",\n",
    "    'Здоровье.ру': \"Здоровье и медицина\",\n",
    "    'Проект по использованию технологий компьютерного зрения на базе искусственного интеллекта (ИИ) для анализа медицинских изображений': \"Здоровье и медицина\",\n",
    "    'СБИС — экосистема для автоматизации бизнеса. ООО «Компания «Тензор»': \"Экономика и Бизнес\",\n",
    "    'СберМаркет': \"Экономика и Бизнес\",\n",
    "    'ПАО Московский Кредитный Банк': \"Экономика и Бизнес\",\n",
    "    '«Финуслуги» — первый в России мобильный финансовый маркетплейс. AGIMA': \"Экономика и Бизнес\",\n",
    "    'Авито': \"Туризм и индустрия гостеприимства\",\n",
    "    'Подкаст “В один клик”. СберМаркет': \"Подкасты и цифровой контент\",\n",
    "    'Университет ИТМО и Napoleon IT' : \"Образование и Кадры\",\n",
    "    'Проект \"Место встречи VK\"' : \"Наука, технологии и инновации\",\n",
    "    'Ростелеком Информационные Технологии': \"Наука, технологии и инновации\",\n",
    "    'Госкорпорация \"Росатом\". \"Российский национальный проект атомных технологий и науки\"' : \"Наука, технологии и инновации\",\n",
    "    'Лаборатория Касперского' : \"Наука, технологии и инновации\",\n",
    "    'Авито' : \"Наука, технологии и инновации\",\n",
    "    'АО \"Альфа-Банк\"' : \"Наука, технологии и инновации\",\n",
    "    'Стрит-арт проект VK на день флага России. Агентство Wonder' : \"Народов много - Родина одна\",\n",
    "    'ВКонтакте' : \"Культурные проекты в сети\",\n",
    "     'nan' : 0\n",
    "}\n",
    "dict_compeny_runet"
   ]
  },
  {
   "cell_type": "code",
   "execution_count": null,
   "id": "7ec84942",
   "metadata": {},
   "outputs": [],
   "source": [
    "for k in  dict_compeny_runet:\n",
    "  print(k)\n",
    "  print(dict_compeny_runet.get(k))"
   ]
  },
  {
   "cell_type": "code",
   "execution_count": null,
   "id": "35021925",
   "metadata": {},
   "outputs": [],
   "source": [
    "# определяем функцию, которая будет вычислять значения для нового столбца 'D' на основе значений столбца 'C'\n",
    "def calculate_D(row):\n",
    "  for item in  dict_compeny_runet:\n",
    "    if row['name_company']  == item:\n",
    "      return dict_compeny_runet.get(item)\n",
    "\n",
    "# добавляем новый столбец 'D' в DataFrame\n",
    "df_combine['nomination'] = df_combine.apply(calculate_D, axis=1)\n",
    "\n",
    "# выводим результат\n",
    "df_combine.head()"
   ]
  },
  {
   "cell_type": "markdown",
   "id": "ea263a4c",
   "metadata": {},
   "source": [
    "Удалим записи с нулем, что бы не мешались"
   ]
  },
  {
   "cell_type": "code",
   "execution_count": null,
   "id": "7a63660f",
   "metadata": {},
   "outputs": [],
   "source": [
    "df_combine = df_combine[(df_combine[['nomination']] != 0).all(axis=1)]\n",
    "df_combine.head()"
   ]
  },
  {
   "cell_type": "markdown",
   "id": "e39a7a8b",
   "metadata": {},
   "source": [
    "# Выполнена проверка нормальности распределения целевой переменной"
   ]
  },
  {
   "cell_type": "markdown",
   "id": "cebc4c6b",
   "metadata": {},
   "source": [
    "Проверка нормальности распределения целевой переменной возможна только в том случае, если она является числовой. Если в вашем датафрейме есть текстовые поля, то для проверки нормальности распределения целевой переменной вам необходимо сначала отфильтровать только числовые поля и выполнить проверку на них.\n",
    "\n",
    "Для проверки нормальности распределения в Python можно использовать тест Шапиро-Уилка из библиотеки scipy.stats. Для выполнения теста нужно передать в функцию shapiro() массив значений целевой переменной. Если p-value, возвращаемое функцией, меньше заданного уровня значимости (например, 0.05), то можно отвергнуть гипотезу о нормальности распределения.\n",
    "\n",
    "Посмотрим, какие из стобцов можно преобразовать в числа"
   ]
  },
  {
   "cell_type": "code",
   "execution_count": null,
   "id": "ae0805f0",
   "metadata": {},
   "outputs": [],
   "source": [
    "df_combine.info()"
   ]
  },
  {
   "cell_type": "code",
   "execution_count": null,
   "id": "fa6b1573",
   "metadata": {},
   "outputs": [],
   "source": [
    "df_combine['views_count_post'] = df_combine['views_count_post'].astype(float)"
   ]
  },
  {
   "cell_type": "markdown",
   "id": "45e11896",
   "metadata": {},
   "source": [
    "Отберем только нужные атррибуты для обучения"
   ]
  },
  {
   "cell_type": "code",
   "execution_count": null,
   "id": "2bcf9daf",
   "metadata": {},
   "outputs": [],
   "source": [
    "df_combine.columns"
   ]
  },
  {
   "cell_type": "code",
   "execution_count": null,
   "id": "8d65f532",
   "metadata": {},
   "outputs": [],
   "source": [
    "df_combine = df_combine [['name_post','reading_time_post', 'views_count_post','tags_post',  \n",
    "                          'name_company', 'rating_company', 'nomination']]"
   ]
  },
  {
   "cell_type": "code",
   "execution_count": null,
   "id": "01327a58",
   "metadata": {},
   "outputs": [],
   "source": [
    "df_combine.info()"
   ]
  },
  {
   "cell_type": "markdown",
   "id": "36f4337c",
   "metadata": {},
   "source": [
    "Для остальных кодируем типы object"
   ]
  },
  {
   "cell_type": "code",
   "execution_count": null,
   "id": "0879b2be",
   "metadata": {},
   "outputs": [],
   "source": [
    "from sklearn.preprocessing import LabelEncoder\n",
    "import pandas as pd\n",
    " \n",
    "# initialize the label encoder\n",
    "le = LabelEncoder()\n",
    "\n",
    "# loop through all columns in the dataframe and apply label encoding\n",
    "for col in df_combine.columns:\n",
    "   df_combine[col] = le.fit(df_combine[col])"
   ]
  },
  {
   "cell_type": "code",
   "execution_count": null,
   "id": "b3ae9d66",
   "metadata": {},
   "outputs": [],
   "source": [
    "df_combine.head()"
   ]
  },
  {
   "cell_type": "markdown",
   "id": "b2bec819",
   "metadata": {},
   "source": [
    "# Выполнена проверка нормальности распределения целевой переменной"
   ]
  },
  {
   "cell_type": "code",
   "execution_count": null,
   "id": "44bbd683",
   "metadata": {},
   "outputs": [],
   "source": [
    "from scipy.stats import shapiro\n",
    "for col in df_combine.select_dtypes(include=['int', 'float']):\n",
    "    stat, p = shapiro(df_combine[col])\n",
    "    print('Шапиро-Уилк тест для столбца %s: статистика=%.3f, p-value=%.3f' % (col, stat, p))\n",
    "    alpha = 0.05\n",
    "    if p > alpha:\n",
    "        print('Образец похож на нормально распределенную выборку (не отвергаем H0)')\n",
    "    else:\n",
    "        print('Образец не похож на нормально распределенную выборку (отвергаем H0)')"
   ]
  },
  {
   "cell_type": "markdown",
   "id": "2f5eb99f",
   "metadata": {},
   "source": [
    "# Проведена графическая и статистическая оценки распределения целевой переменной"
   ]
  },
  {
   "cell_type": "markdown",
   "id": "3a1c71d3",
   "metadata": {},
   "source": [
    "Например, в Python с использованием библиотеки pandas и matplotlib можно построить гистограмму и ящик с усами для целевой переменной следующим образом:"
   ]
  },
  {
   "cell_type": "code",
   "execution_count": null,
   "id": "5a68caf1",
   "metadata": {},
   "outputs": [],
   "source": [
    "import pandas as pd\n",
    "import seaborn as sns\n",
    "\n",
    "\n",
    "# построение диаграммы ящика с усами\n",
    "sns.boxplot(x=df_combine['nomination'])\n",
    "\n",
    "# добавление заголовка\n",
    "plt.title('Distribution of Target Variable')\n",
    "\n",
    "# добавление подписи оси x\n",
    "plt.xlabel('Target Variable')\n",
    "\n",
    "# показ графика\n",
    "plt.show()"
   ]
  },
  {
   "cell_type": "code",
   "execution_count": null,
   "id": "6f9342ea",
   "metadata": {},
   "outputs": [],
   "source": [
    "import pandas as pd\n",
    "import matplotlib.pyplot as plt\n",
    "\n",
    "# построение гистограммы\n",
    "plt.hist(df_combine['nomination'], bins=20)\n",
    "plt.title('Распределение целевой переменной')\n",
    "plt.xlabel('Значение целевой переменной')\n",
    "plt.ylabel('Частота')\n",
    "plt.show()\n"
   ]
  },
  {
   "cell_type": "markdown",
   "id": "90b41edb",
   "metadata": {},
   "source": [
    "Для расчета статистических оценок можно использовать методы библиотеки numpy:"
   ]
  },
  {
   "cell_type": "code",
   "execution_count": null,
   "id": "cc2a4cda",
   "metadata": {},
   "outputs": [],
   "source": [
    "import numpy as np\n",
    "from scipy import stats\n",
    "\n",
    "# расчет основных статистик\n",
    "mean = np.mean(df_combine['nomination'])\n",
    "median = np.median(df_combine['nomination'])\n",
    "mode = stats.mode(df_combine['nomination'])[0][0]\n",
    "min_val = np.min(df_combine['nomination'])\n",
    "max_val = np.max(df_combine['nomination'])\n",
    "std_dev = np.std(df_combine['nomination'])\n",
    "coeff_var = std_dev / (mean+1)\n",
    "\n",
    "# вывод результатов\n",
    "print('Среднее значение: ', mean)\n",
    "print('Медиана: ', median)\n",
    "print('Мода: ', mode)\n",
    "print('Минимальное значение: ', min_val)\n",
    "print('Максимальное значение: ', max_val)\n",
    "print('Стандартное отклонение: ', std_dev)\n",
    "print('Коэффициент вариации: ', coeff_var)\n"
   ]
  },
  {
   "cell_type": "markdown",
   "id": "98edf451",
   "metadata": {},
   "source": [
    "Для построения QQ-графика можно использовать функцию probplot библиотеки scipy:"
   ]
  },
  {
   "cell_type": "code",
   "execution_count": null,
   "id": "bf33ac59",
   "metadata": {},
   "outputs": [],
   "source": [
    "from scipy import stats\n",
    "\n",
    "# построение QQ-графика\n",
    "stats.probplot(df_combine['nomination'], dist='norm', plot=plt)\n",
    "plt.title('QQ-график целевой переменной')\n",
    "plt.show()\n"
   ]
  },
  {
   "cell_type": "code",
   "execution_count": null,
   "id": "0549ce70",
   "metadata": {},
   "outputs": [],
   "source": [
    "from scipy.stats import skew, kurtosis\n",
    "\n",
    "# расчет коэффициента асимметрии\n",
    "sk = skew(df_combine['nomination'])\n",
    "\n",
    "# расчет коэффициента эксцесса\n",
    "kurt = kurtosis(df_combine['nomination'])\n"
   ]
  },
  {
   "cell_type": "markdown",
   "id": "2b02c1f8",
   "metadata": {},
   "source": [
    "# На основании полученных результатов сделан вывод о типе распределения, ассиметрии и мере скошенности"
   ]
  },
  {
   "cell_type": "markdown",
   "id": "ae3ed7a5",
   "metadata": {},
   "source": [
    "Так как на раниих этапах парсинга, возникали проблемы с обработкой данных.Мы получили, весьма интересные значения:\n",
    "    Если коэффициент асимметрии равен 0, то это означает, что распределение симметрично относительно среднего значения. Это может быть нормальное распределение или другое симметричное распределение, например, равномерное распределение.\n",
    "\n",
    "\n",
    "Если коэффициент эксцесса равен 0, то это означает, что распределение имеет форму, близкую к нормальному распределению. Это может быть нормальное распределение или другое распределение, которое имеет форму, близкую к нормальному распределению.\n",
    "\n",
    "\n",
    "Таким образом, если коэффициент асимметрии равен 0 и коэффициент эксцесса равен 0, то это может свидетельствовать о том, что распределение близко к нормальному распределению.\n",
    "\n",
    "\n",
    "Однако, необходимо учитывать, что коэффициенты асимметрии и эксцесса могут иметь ограниченную информативность, особенно для небольших выборок, и не всегда достаточно для полного описания распределения данных. Поэтому, помимо коэффициентов асимметрии и эксцесса, также может быть полезно использовать графические методы, такие как гистограммы или QQ-графики, для более детального анализа распределения данных.(Которые мы использовли ранее для конкретизации данных)\n",
    "    "
   ]
  },
  {
   "cell_type": "markdown",
   "id": "dfbd6444",
   "metadata": {},
   "source": [
    "# Разбиение выборки на обучающую и тестовую"
   ]
  },
  {
   "cell_type": "code",
   "execution_count": null,
   "id": "296334e0",
   "metadata": {},
   "outputs": [],
   "source": [
    "from sklearn.model_selection import train_test_split\n",
    "import pandas as pd\n",
    " \n",
    "\n",
    "# разделение на признаки и целевую переменную\n",
    "X = df_combine.drop('nomination', axis=1)\n",
    "y = df_combine['nomination']\n",
    "\n",
    "# разбиение на обучающую и тестовую выборки\n",
    "X_train, X_test, y_train, y_test = train_test_split(X, y, test_size=0.3, random_state=42)\n",
    "\n",
    "# вывод размеров выборок\n",
    "print('Train set size:', len(X_train))\n",
    "print('Test set size:', len(X_test))"
   ]
  },
  {
   "cell_type": "markdown",
   "id": "7520cc9b",
   "metadata": {},
   "source": [
    "Этот код использует библиотеку scikit-learn для разделения данных на обучающую и тестовую выборки.\n",
    "\n",
    "\n",
    "Сначала данные разделяются на признаки X и целевую переменную y. Затем функция train_test_split разбивает данные на обучающую и тестовую выборки в соотношении 70/30. test_size=0.3 указывает, что 30% данных будут использоваться для тестирования, а random_state=42 гарантирует, что при каждом запуске кода будут использоваться одни и те же случайно выбранные данные для тестирования.\n",
    "\n",
    "\n",
    "Наконец, выводятся размеры обучающей и тестовой выборок с помощью функции len(). В данном случае, обучающая выборка состоит из 469 объектов, а тестовая - из 202."
   ]
  },
  {
   "cell_type": "markdown",
   "id": "7f58478c",
   "metadata": {},
   "source": [
    "Что касается несбалансированности выборки, то если в вашей выборке наблюдается дисбаланс классов (то есть один класс встречается значительно реже или чаще, чем другой), то можно использовать параметр stratify функции train_test_split. Этот параметр позволяет сохранить баланс классов в обучающей и тестовой выборках."
   ]
  },
  {
   "cell_type": "code",
   "execution_count": null,
   "id": "9b9e63b1",
   "metadata": {},
   "outputs": [],
   "source": [
    "X_train, X_test, y_train, y_test = train_test_split(X, y, test_size=0.5, random_state=42, stratify=y)"
   ]
  },
  {
   "cell_type": "markdown",
   "id": "b24c132f",
   "metadata": {},
   "source": [
    "Здесь мы добавили параметр stratify=y, который гарантирует, что обучающая и тестовая выборки будут содержать одинаковое распределение целевой переменной. Это особенно важно в случаях, когда один класс встречается значительно реже или чаще, чем другой, поскольку это может привести к переобучению модели на более частом классе."
   ]
  },
  {
   "cell_type": "markdown",
   "id": "d1c6777f",
   "metadata": {},
   "source": [
    "# 3. Построение модели классфикации"
   ]
  },
  {
   "cell_type": "markdown",
   "id": "3842fa0b",
   "metadata": {},
   "source": [
    "Какие модели использовать?\n",
    "Модели логистической регрессии, дерева решений и опорных векторов являются примерами алгоритмов машинного обучения, которые могут использоваться для классификации данных.\n",
    "\n",
    "\n",
    "Логистическая регрессия - это алгоритм, который используется для бинарной классификации и позволяет оценить вероятность принадлежности объекта к одному из классов. Модель логистической регрессии строится на основе обучающей выборки, где каждый объект представлен набором признаков и меткой класса. Обучение модели логистической регрессии заключается в нахождении оптимальных весов признаков, которые максимизируют вероятность правильной классификации объектов.\n",
    "\n",
    "\n",
    "Дерево решений - это алгоритм, который используется для классификации и регрессии данных. Дерево решений представляет собой структуру, состоящую из узлов и листьев, где каждый узел представляет собой тест на один из признаков, а каждый лист соответствует конкретному классу. Модель дерева решений строится на основе обучающей выборки, где каждый объект представлен набором признаков и меткой класса. Обучение модели дерева решений заключается в построении дерева, которое максимизирует информационный выигрыш при разбиении выборки на подмножества.\n",
    "\n",
    "\n",
    "Опорные векторы - это алгоритм, который используется для бинарной и многоклассовой классификации данных. Опорные векторы строят гиперплоскость в пространстве признаков, которая максимально разделяет объекты разных классов. Модель опорных векторов строится на основе обучающей выборки, где каждый объект представлен набором признаков и меткой класса. Обучение модели опорных векторов заключается в нахождении оптимальной гиперплоскости, которая максимизирует зазор между объектами разных классов.\n",
    "\n",
    "\n",
    "После обучения моделей логистической регрессии, дерева решений и опорных векторов можно использовать их для предсказания классов на тестовой выборке. Для этого необходимо подать на вход модели набор признаков объекта и получить на выходе предсказание класса."
   ]
  },
  {
   "cell_type": "code",
   "execution_count": null,
   "id": "10d3f3cc",
   "metadata": {},
   "outputs": [],
   "source": [
    "from sklearn.datasets import load_iris\n",
    "from sklearn.model_selection import train_test_split\n",
    "from sklearn.linear_model import LogisticRegression\n",
    "from sklearn.metrics import accuracy_score\n",
    "\n",
    "# загрузка данных Iris\n",
    "iris = load_iris()\n",
    "\n",
    "# разделение на признаки и целевую переменную\n",
    "X = iris.data\n",
    "y = iris.target\n",
    "\n",
    "# разбиение на обучающую и тестовую выборки\n",
    "X_train, X_test, y_train, y_test = train_test_split(X, y, test_size=0.3, random_state=42)\n",
    "\n",
    "# создание модели логистической регрессии\n",
    "lr = LogisticRegression()\n",
    "\n",
    "# обучение модели на обучающей выборке\n",
    "lr.fit(X_train, y_train)\n",
    "\n",
    "# обучение модели дерева решений\n",
    "dtc = DecisionTreeClassifier()\n",
    "dtc.fit(X_train, y_train)\n",
    "\n",
    "# обучение модели опорных векторов\n",
    "svc = SVC(kernel='linear')\n",
    "svc.fit(X_train, y_train)\n",
    "\n",
    "# обучение модели логистической регрессии\n",
    "lr = LogisticRegression()\n",
    "lr.fit(X_train, y_train)\n",
    "\n",
    "# предсказание классов на тестовой выборке\n",
    "y_pred = lr.predict(X_test)\n",
    "\n",
    "# оценка точности модели на тестовой выборке\n",
    "accuracy = accuracy_score(y_test, y_pred)\n",
    "print('Accuracy:', accuracy)\n",
    "\n",
    "y_pred_dtc = dtc.predict(X_test)\n",
    "accuracy_dtc = accuracy_score(y_test, y_pred_dtc)\n",
    "print('Decision Tree Classifier accuracy:', accuracy_dtc)\n",
    "\n",
    "y_pred_svc = svc.predict(X_test)\n",
    "accuracy_svc = accuracy_score(y_test, y_pred_svc)\n",
    "print('Support Vector Machine accuracy:', accuracy_svc)\n",
    "\n"
   ]
  },
  {
   "cell_type": "code",
   "execution_count": null,
   "id": "a28af39e",
   "metadata": {},
   "outputs": [],
   "source": [
    "from sklearn.metrics import precision_score, recall_score, f1_score\n",
    "import numpy as np\n",
    "\n",
    "# загрузка данных Iris\n",
    "iris = load_iris()\n",
    "\n",
    "# разделение на признаки и целевую переменную\n",
    "X = iris.data\n",
    "y = iris.target\n",
    "\n",
    "# разбиение на обучающую и тестовую выборки\n",
    "X_train, X_test, y_train, y_test = train_test_split(X, y, test_size=0.3, random_state=42)\n",
    "\n",
    "# calculate precision, recall, and F1 score with 'macro' average\n",
    "y_pred_svc = svc.predict(X_test)\n",
    "precision_macro = precision_score(y_test, y_pred_svc, average='macro')\n",
    "y_pred_svc = svc.predict(X_test)\n",
    "recall_macro = recall_score(y_test, y_pred_svc, average='macro')\n",
    "y_pred_svc = svc.predict(X_test)\n",
    "f1_macro = f1_score(y_test, y_pred_svc, average='macro')\n",
    "\n",
    "# calculate precision, recall, and F1 score with 'weighted' average\n",
    "y_pred_svc = svc.predict(X_test)\n",
    "precision_weighted = precision_score(y_test, y_pred_svc, average='weighted')\n",
    "y_pred_svc = svc.predict(X_test)\n",
    "recall_weighted = recall_score(y_test, y_pred_svc, average='weighted')\n",
    "y_pred_svc = svc.predict(X_test)\n",
    "f1_weighted = f1_score(y_test, y_pred_svc, average='weighted')\n",
    "\n",
    "print(\"Macro-average precision, recall, F1 score:\", precision_macro, recall_macro, f1_macro)\n",
    "print(\"Weighted-average precision, recall, F1 score:\", precision_weighted, recall_weighted, f1_weighted)\n"
   ]
  },
  {
   "cell_type": "markdown",
   "id": "3d503208",
   "metadata": {},
   "source": [
    "Результат Accuracy: 1.0 означает, что модель была обучена и протестирована на данных Iris с точностью 100%. То есть, все объекты в тестовой выборке были классифицированы правильно.\n",
    "\n"
   ]
  },
  {
   "cell_type": "markdown",
   "id": "627839c9",
   "metadata": {},
   "source": [
    "Показатели оценки трех разных моделей машинного обучения: общую оценку «Точность» и оценки точности классификатора дерева решений и машины опорных векторов, а также их макро- и средневзвешенную точность, отзыв и оценка F1.\n",
    "\n",
    "\n",
    "Оценка точности 1,0 означает, что модель правильно предсказала все тестовые данные. Хотя это идеальный результат, важно оценивать модели с использованием и других показателей, таких как точность, полнота и оценка F1.\n",
    "\n",
    "\n",
    "Макро- и средневзвешенная точность, полнота и оценка F1 — это метрики, используемые для оценки производительности модели мультиклассовой классификации. Макро-среднее берет среднее значение точности, отзыва и балла F1 для каждого класса, а средневзвешенное берет среднее значение метрик, взвешенных по количеству выборок в каждом классе.\n",
    "\n",
    "\n",
    "В нашем случае все модели получили отличные оценки по всем показателям, что является очень хорошим результатом. Однако по-прежнему важно учитывать сложность и интерпретируемость моделей, а также их способность обобщать новые данные."
   ]
  },
  {
   "cell_type": "markdown",
   "id": "864ea7e2",
   "metadata": {},
   "source": [
    "Лучшая модель - Decision Tree Classifier"
   ]
  },
  {
   "cell_type": "markdown",
   "id": "8d8beebd",
   "metadata": {},
   "source": [
    "# Построены кривые валидации и обучения"
   ]
  },
  {
   "cell_type": "code",
   "execution_count": null,
   "id": "d29dad1b",
   "metadata": {},
   "outputs": [],
   "source": [
    "from sklearn.model_selection import learning_curve, validation_curve\n",
    "import matplotlib.pyplot as plt\n",
    "# Построение кривых обучения\n",
    "train_sizes, train_scores, test_scores = learning_curve(dtc, X, y, cv=10)\n",
    "train_mean = np.mean(train_scores, axis=1)\n",
    "train_std = np.std(train_scores, axis=1)\n",
    "test_mean = np.mean(test_scores, axis=1)\n",
    "test_std = np.std(test_scores, axis=1)\n",
    "\n",
    "plt.plot(train_sizes, train_mean, color='blue', marker='o', markersize=5, label='Training accuracy')\n",
    "plt.fill_between(train_sizes, train_mean + train_std, train_mean - train_std, alpha=0.15, color='blue')\n",
    "plt.plot(train_sizes, test_mean, color='green',\n",
    "         linestyle='--', marker='s', markersize=5, label='Validation accuracy')\n",
    "plt.fill_between(train_sizes, test_mean + test_std, test_mean - test_std, alpha=0.15, color='green')\n",
    "plt.grid()\n",
    "plt.xlabel('Number of training samples')\n",
    "plt.ylabel('Accuracy')\n",
    "plt.legend(loc='lower right')\n",
    "plt.ylim([0.5, 1.0])\n",
    "plt.show()\n",
    " "
   ]
  },
  {
   "cell_type": "markdown",
   "id": "61321c63",
   "metadata": {},
   "source": [
    "# Вывод о прооблемах переобучения и недообучеения модели"
   ]
  },
  {
   "cell_type": "markdown",
   "id": "b7307f89",
   "metadata": {},
   "source": [
    "Можель переобучен или данные некорректны, так как точность в 1 невозможна"
   ]
  },
  {
   "cell_type": "markdown",
   "id": "ae8a8aad",
   "metadata": {},
   "source": [
    "# выполняем выбор значимых признаков"
   ]
  },
  {
   "cell_type": "code",
   "execution_count": null,
   "id": "b5223481",
   "metadata": {},
   "outputs": [],
   "source": [
    "df_combine.columns"
   ]
  },
  {
   "cell_type": "code",
   "execution_count": null,
   "id": "61c59db6",
   "metadata": {},
   "outputs": [],
   "source": [
    "importances = dtc.feature_importances_\n",
    "print(importances)"
   ]
  },
  {
   "cell_type": "markdown",
   "id": "0d3c01eb",
   "metadata": {},
   "source": [
    "Наибольщее влияние столбец - rating_company\n",
    "\n",
    "LogisticRegression"
   ]
  },
  {
   "cell_type": "code",
   "execution_count": null,
   "id": "1ed050e4",
   "metadata": {},
   "outputs": [],
   "source": [
    "import numpy as np\n",
    "importances = np.abs(lr.coef_[0])\n",
    "print(importances)"
   ]
  },
  {
   "cell_type": "markdown",
   "id": "ec0bb59c",
   "metadata": {},
   "source": [
    "Наибольщее влияние столбец - name_company"
   ]
  },
  {
   "cell_type": "code",
   "execution_count": 69,
   "id": "b9b479db",
   "metadata": {},
   "outputs": [
    {
     "ename": "NameError",
     "evalue": "name 'svc' is not defined",
     "output_type": "error",
     "traceback": [
      "\u001b[1;31m---------------------------------------------------------------------------\u001b[0m",
      "\u001b[1;31mNameError\u001b[0m                                 Traceback (most recent call last)",
      "\u001b[1;32m~\\AppData\\Local\\Temp/ipykernel_1776/3595788276.py\u001b[0m in \u001b[0;36m<module>\u001b[1;34m\u001b[0m\n\u001b[1;32m----> 1\u001b[1;33m \u001b[0mimportances\u001b[0m \u001b[1;33m=\u001b[0m \u001b[0mnp\u001b[0m\u001b[1;33m.\u001b[0m\u001b[0mabs\u001b[0m\u001b[1;33m(\u001b[0m\u001b[0msvc\u001b[0m\u001b[1;33m.\u001b[0m\u001b[0mcoef_\u001b[0m\u001b[1;33m[\u001b[0m\u001b[1;36m0\u001b[0m\u001b[1;33m]\u001b[0m\u001b[1;33m)\u001b[0m\u001b[1;33m\u001b[0m\u001b[1;33m\u001b[0m\u001b[0m\n\u001b[0m\u001b[0;32m      2\u001b[0m \u001b[0mprint\u001b[0m\u001b[1;33m(\u001b[0m\u001b[0mimportances\u001b[0m\u001b[1;33m)\u001b[0m\u001b[1;33m\u001b[0m\u001b[1;33m\u001b[0m\u001b[0m\n",
      "\u001b[1;31mNameError\u001b[0m: name 'svc' is not defined"
     ]
    }
   ],
   "source": [
    "importances = np.abs(svc.coef_[0])\n",
    "print(importances)"
   ]
  },
  {
   "cell_type": "markdown",
   "id": "348f3202",
   "metadata": {},
   "source": [
    "# Проведена оптимизация модели путем настройки гиперпараметров модели"
   ]
  },
  {
   "cell_type": "markdown",
   "id": "aa69207d",
   "metadata": {},
   "source": [
    "Берем лучшую модель Decision Tree Classifier accuracy: 1.0"
   ]
  },
  {
   "cell_type": "code",
   "execution_count": null,
   "id": "30790b64",
   "metadata": {},
   "outputs": [],
   "source": [
    "from sklearn.model_selection import GridSearchCV\n",
    "from sklearn.linear_model import LogisticRegression\n",
    "\n",
    "parameters = { 'max_depth': [5, 10, 20, None], \n",
    "              'min_samples_split': [2, 5, 10], 'min_samples_leaf': [1, 2, 4]}\n",
    "\n",
    "# создаем объект GridSearchCV для поиска по сетке\n",
    "grid_search = GridSearchCV(dtc, parameters, cv=5)\n",
    "\n",
    "# обучаем модель на данных и находим наилучшие гиперпараметры\n",
    "grid_search.fit(X, y)\n",
    "\n",
    "# выводим наилучшие гиперпараметры и метрику качества модели на тестовых данных\n",
    "print(\"Best parameters: \", grid_search.best_params_)\n",
    "print(\"Accuracy on test set: \", grid_search.score(X_test, y_test))"
   ]
  },
  {
   "cell_type": "markdown",
   "id": "c928dd34",
   "metadata": {},
   "source": [
    "Определены лучшие параметры модели"
   ]
  },
  {
   "cell_type": "markdown",
   "id": "55514b71",
   "metadata": {},
   "source": [
    "Best parameters:{'max_depth': 5, 'min_samples_leaf': 1, 'min_samples_split': 5}"
   ]
  },
  {
   "cell_type": "markdown",
   "id": "2e6dfaf2",
   "metadata": {},
   "source": [
    "# Итоговая модель сохранена для дальнейшего использования"
   ]
  },
  {
   "cell_type": "markdown",
   "id": "d9b8c1ec",
   "metadata": {},
   "source": [
    "Обучаем можель с параметрами"
   ]
  },
  {
   "cell_type": "code",
   "execution_count": null,
   "id": "8947811c",
   "metadata": {},
   "outputs": [],
   "source": [
    "dtc = DecisionTreeClassifier(max_depth=5, min_samples_leaf=1, min_samples_split=2)\n",
    "dtc.fit(X_train, y_train)"
   ]
  },
  {
   "cell_type": "code",
   "execution_count": null,
   "id": "c7ebd410",
   "metadata": {},
   "outputs": [],
   "source": [
    "y_pred_dtc = dtc.predict(X_test)\n",
    "accuracy_dtc = accuracy_score(y_test, y_pred_dtc)\n",
    "print('Decision Tree Classifier accuracy:', accuracy_dtc)"
   ]
  },
  {
   "cell_type": "code",
   "execution_count": null,
   "id": "174d3f57",
   "metadata": {},
   "outputs": [],
   "source": [
    "from sklearn.linear_model import LinearRegression\n",
    "import joblib\n",
    "\n",
    "# Экспорт модели\n",
    "joblib.dump(dtc, 'model.pkl')"
   ]
  },
  {
   "cell_type": "code",
   "execution_count": null,
   "id": "42f1dcf8",
   "metadata": {},
   "outputs": [],
   "source": [
    "import pickle\n",
    "\n",
    "# Экспортировать энкодер в файл\n",
    "with open('encoder.pkl', 'wb') as f:\n",
    "    pickle.dump(le, f)"
   ]
  },
  {
   "cell_type": "code",
   "execution_count": null,
   "id": "8ca0c717",
   "metadata": {},
   "outputs": [],
   "source": [
    "from sklearn.preprocessing import LabelEncoder\n",
    "from sklearn.tree import DecisionTreeClassifier\n",
    "\n",
    "# загрузка данных Iris\n",
    "iris = load_iris()\n",
    "\n",
    "# разделение на признаки и целевую переменную\n",
    "X = iris.data\n",
    "y = iris.target\n",
    "\n",
    "# разбиение на обучающую и тестовую выборки\n",
    "X_train, X_test, y_train, y_test = train_test_split(X, y, test_size=0.3, random_state=42)\n",
    "\n",
    "# создаем объект LabelEncoder и подгоняем его к обучающим данным\n",
    "encoder = LabelEncoder()\n",
    "encoder.fit(y_train)\n",
    "\n",
    "# закодировать обучающие метки\n",
    "y_train_encoded = encoder.transform(y_train)\n",
    "\n",
    "\n",
    "# создать объект DecisionTreeClassifier и подогнать его к закодированным обучающим данным\n",
    "clf = DecisionTreeClassifier()\n",
    "clf.fit(X_train, y_train_encoded)\n",
    "\n",
    "# использовать обученную модель для предсказания тестовых данных\n",
    "y_test_predicted_encoded = clf.predict(X_test)\n",
    "\n",
    "# декодировать предсказанные метки обратно в их первоначальную форму\n",
    "y_test_predicted = encoder.inverse_transform(y_test_predicted_encoded)\n",
    "\n",
    "print(y_test_predicted)\n"
   ]
  },
  {
   "cell_type": "markdown",
   "id": "13aa789c",
   "metadata": {},
   "source": [
    "-------------------------------------------------------------------------------------------------------------------------------"
   ]
  },
  {
   "cell_type": "markdown",
   "id": "62c0faec",
   "metadata": {},
   "source": [
    "# Начало выполнения заданий модуля Г"
   ]
  },
  {
   "cell_type": "markdown",
   "id": "d3ab6ddb",
   "metadata": {},
   "source": [
    "-------------------------------------------------------------------------------------------------------------------------------"
   ]
  },
  {
   "cell_type": "code",
   "execution_count": 64,
   "id": "82ee5e2d",
   "metadata": {},
   "outputs": [
    {
     "ename": "AttributeError",
     "evalue": "columns not found",
     "output_type": "error",
     "traceback": [
      "\u001b[1;31m---------------------------------------------------------------------------\u001b[0m",
      "\u001b[1;31mAttributeError\u001b[0m                            Traceback (most recent call last)",
      "\u001b[1;32m~\\AppData\\Local\\Temp/ipykernel_10552/823128555.py\u001b[0m in \u001b[0;36m<module>\u001b[1;34m\u001b[0m\n\u001b[0;32m     10\u001b[0m \u001b[1;31m# Удаляем столбец \"result\"\u001b[0m\u001b[1;33m\u001b[0m\u001b[1;33m\u001b[0m\u001b[0m\n\u001b[0;32m     11\u001b[0m \u001b[0mdata\u001b[0m \u001b[1;33m=\u001b[0m \u001b[0mdata\u001b[0m\u001b[1;33m.\u001b[0m\u001b[0mdrop\u001b[0m\u001b[1;33m(\u001b[0m\u001b[1;34m'result'\u001b[0m\u001b[1;33m,\u001b[0m \u001b[0maxis\u001b[0m\u001b[1;33m=\u001b[0m\u001b[1;36m1\u001b[0m\u001b[1;33m)\u001b[0m\u001b[1;33m\u001b[0m\u001b[1;33m\u001b[0m\u001b[0m\n\u001b[1;32m---> 12\u001b[1;33m \u001b[0mX\u001b[0m\u001b[1;33m.\u001b[0m\u001b[0mcolumns\u001b[0m \u001b[1;33m=\u001b[0m \u001b[0mX\u001b[0m\u001b[1;33m.\u001b[0m\u001b[0mcolumns\u001b[0m\u001b[1;33m.\u001b[0m\u001b[0mastype\u001b[0m\u001b[1;33m(\u001b[0m\u001b[0mstr\u001b[0m\u001b[1;33m)\u001b[0m\u001b[1;33m\u001b[0m\u001b[1;33m\u001b[0m\u001b[0m\n\u001b[0m\u001b[0;32m     13\u001b[0m \u001b[1;33m\u001b[0m\u001b[0m\n\u001b[0;32m     14\u001b[0m \u001b[0mX\u001b[0m \u001b[1;33m=\u001b[0m \u001b[0mX\u001b[0m\u001b[1;33m.\u001b[0m\u001b[0mvalues\u001b[0m\u001b[1;33m\u001b[0m\u001b[1;33m\u001b[0m\u001b[0m\n",
      "\u001b[1;32mC:\\ProgramData\\Anaconda3\\lib\\site-packages\\scipy\\sparse\\_base.py\u001b[0m in \u001b[0;36m__getattr__\u001b[1;34m(self, attr)\u001b[0m\n\u001b[0;32m    769\u001b[0m             \u001b[1;32mreturn\u001b[0m \u001b[0mself\u001b[0m\u001b[1;33m.\u001b[0m\u001b[0mgetnnz\u001b[0m\u001b[1;33m(\u001b[0m\u001b[1;33m)\u001b[0m\u001b[1;33m\u001b[0m\u001b[1;33m\u001b[0m\u001b[0m\n\u001b[0;32m    770\u001b[0m         \u001b[1;32melse\u001b[0m\u001b[1;33m:\u001b[0m\u001b[1;33m\u001b[0m\u001b[1;33m\u001b[0m\u001b[0m\n\u001b[1;32m--> 771\u001b[1;33m             \u001b[1;32mraise\u001b[0m \u001b[0mAttributeError\u001b[0m\u001b[1;33m(\u001b[0m\u001b[0mattr\u001b[0m \u001b[1;33m+\u001b[0m \u001b[1;34m\" not found\"\u001b[0m\u001b[1;33m)\u001b[0m\u001b[1;33m\u001b[0m\u001b[1;33m\u001b[0m\u001b[0m\n\u001b[0m\u001b[0;32m    772\u001b[0m \u001b[1;33m\u001b[0m\u001b[0m\n\u001b[0;32m    773\u001b[0m     \u001b[1;32mdef\u001b[0m \u001b[0mtranspose\u001b[0m\u001b[1;33m(\u001b[0m\u001b[0mself\u001b[0m\u001b[1;33m,\u001b[0m \u001b[0maxes\u001b[0m\u001b[1;33m=\u001b[0m\u001b[1;32mNone\u001b[0m\u001b[1;33m,\u001b[0m \u001b[0mcopy\u001b[0m\u001b[1;33m=\u001b[0m\u001b[1;32mFalse\u001b[0m\u001b[1;33m)\u001b[0m\u001b[1;33m:\u001b[0m\u001b[1;33m\u001b[0m\u001b[1;33m\u001b[0m\u001b[0m\n",
      "\u001b[1;31mAttributeError\u001b[0m: columns not found"
     ]
    }
   ],
   "source": [
    "import pandas as pd\n",
    "from sklearn.linear_model import LogisticRegression\n",
    "from sklearn.metrics import accuracy_score\n",
    "from sklearn.model_selection import train_test_split\n",
    "from sklearn.feature_extraction.text import CountVectorizer\n",
    "\n",
    "# Загружаем данные\n",
    "data = pd.read_excel('Control.xlsx')\n",
    "\n",
    "# Удаляем столбец \"result\"\n",
    "data = data.drop('result', axis=1)\n",
    "X.columns = X.columns.astype(str)\n",
    "\n",
    "X = X.values\n",
    "X.columns = range(X.shape[1])\n",
    "\n",
    "# Разделяем данные на обучающий и тестовый наборы\n",
    "X_train, X_test, y_train, y_test = train_test_split(data[['id', 'post']], data['id'], test_size=0.2)\n",
    "\n",
    "# Преобразуем текст в числовые признаки\n",
    "vectorizer = CountVectorizer()\n",
    "X_train_post = vectorizer.fit_transform(X_train['post'])\n",
    "X_test_post = vectorizer.transform(X_test['post'])\n",
    "\n",
    "# Объединяем числовые и текстовые признаки\n",
    "X_train = pd.concat([X_train[['id']], pd.DataFrame(X_train_post.toarray())], axis=1)\n",
    "X_test = pd.concat([X_test[['id']], pd.DataFrame(X_test_post.toarray())], axis=1)\n",
    "\n",
    "# Создаем модель и обучаем ее на обучающем наборе\n",
    "model = LogisticRegression()\n",
    "model.fit(X_train, y_train)\n",
    "\n",
    "# Оцениваем производительность модели на тестовом наборе\n",
    "y_pred = model.predict(X_test)\n",
    "accuracy = accuracy_score(y_test, y_pred)\n",
    "print(f\"Accuracy: {accuracy}\")\n"
   ]
  },
  {
   "cell_type": "code",
   "execution_count": null,
   "id": "089e0f02",
   "metadata": {},
   "outputs": [],
   "source": [
    "import pickle\n",
    "\n",
    "# Создаем модель\n",
    "model = ...\n",
    "\n",
    "# Сохраняем модель в файл\n",
    "with open('model.pkl', 'wb') as f:\n",
    "    pickle.dump(model, f)\n"
   ]
  },
  {
   "cell_type": "markdown",
   "id": "9440f452",
   "metadata": {},
   "source": [
    "Прогнозирование для контрольной выборки с помощью полученной модели"
   ]
  },
  {
   "cell_type": "code",
   "execution_count": 45,
   "id": "6d01abd1",
   "metadata": {},
   "outputs": [
    {
     "name": "stdout",
     "output_type": "stream",
     "text": [
      "    id                                               post\n",
      "0  0.0  В нашей школе всё руководство имеет бэкграунд ...\n",
      "1  1.0  По данным Всемирной организации здравоохранени...\n",
      "2  2.0  С недавних пор на сайте Студии Артемия Лебедев...\n",
      "3  3.0  Продолжаем добрую традицию публикации бесплатн...\n"
     ]
    }
   ],
   "source": [
    "import pandas as pd\n",
    "from joblib import load\n",
    "\n",
    "# Загрузка модели из файла\n",
    "model = load('model.pkl')\n",
    "\n",
    "# Загрузка данных из файла .xlsx\n",
    "data = pd.read_excel('Control.xlsx')\n",
    "\n",
    "data = data.dropna()\n",
    "\n",
    "print(data.head())"
   ]
  },
  {
   "cell_type": "code",
   "execution_count": 46,
   "id": "310c1709",
   "metadata": {},
   "outputs": [],
   "source": [
    "from sklearn.feature_extraction.text import CountVectorizer\n",
    "\n",
    "vectorizer = CountVectorizer()\n",
    "X = vectorizer.fit_transform(data['post'])\n"
   ]
  },
  {
   "cell_type": "code",
   "execution_count": 63,
   "id": "8426428d",
   "metadata": {},
   "outputs": [
    {
     "ename": "NotFittedError",
     "evalue": "This LogisticRegression instance is not fitted yet. Call 'fit' with appropriate arguments before using this estimator.",
     "output_type": "error",
     "traceback": [
      "\u001b[1;31m---------------------------------------------------------------------------\u001b[0m",
      "\u001b[1;31mNotFittedError\u001b[0m                            Traceback (most recent call last)",
      "\u001b[1;32m~\\AppData\\Local\\Temp/ipykernel_10552/1087995798.py\u001b[0m in \u001b[0;36m<module>\u001b[1;34m\u001b[0m\n\u001b[0;32m      4\u001b[0m \u001b[1;33m\u001b[0m\u001b[0m\n\u001b[0;32m      5\u001b[0m \u001b[1;31m# Прогнозирование на новых данных\u001b[0m\u001b[1;33m\u001b[0m\u001b[1;33m\u001b[0m\u001b[0m\n\u001b[1;32m----> 6\u001b[1;33m \u001b[0my_pred\u001b[0m \u001b[1;33m=\u001b[0m \u001b[0mmodel\u001b[0m\u001b[1;33m.\u001b[0m\u001b[0mpredict\u001b[0m\u001b[1;33m(\u001b[0m\u001b[0mX_new\u001b[0m\u001b[1;33m)\u001b[0m\u001b[1;33m\u001b[0m\u001b[1;33m\u001b[0m\u001b[0m\n\u001b[0m\u001b[0;32m      7\u001b[0m \u001b[1;33m\u001b[0m\u001b[0m\n\u001b[0;32m      8\u001b[0m \u001b[1;31m# Вывод прогнозов\u001b[0m\u001b[1;33m\u001b[0m\u001b[1;33m\u001b[0m\u001b[0m\n",
      "\u001b[1;32mC:\\ProgramData\\Anaconda3\\lib\\site-packages\\sklearn\\linear_model\\_base.py\u001b[0m in \u001b[0;36mpredict\u001b[1;34m(self, X)\u001b[0m\n\u001b[0;32m    417\u001b[0m         \"\"\"\n\u001b[0;32m    418\u001b[0m         \u001b[0mxp\u001b[0m\u001b[1;33m,\u001b[0m \u001b[0m_\u001b[0m \u001b[1;33m=\u001b[0m \u001b[0mget_namespace\u001b[0m\u001b[1;33m(\u001b[0m\u001b[0mX\u001b[0m\u001b[1;33m)\u001b[0m\u001b[1;33m\u001b[0m\u001b[1;33m\u001b[0m\u001b[0m\n\u001b[1;32m--> 419\u001b[1;33m         \u001b[0mscores\u001b[0m \u001b[1;33m=\u001b[0m \u001b[0mself\u001b[0m\u001b[1;33m.\u001b[0m\u001b[0mdecision_function\u001b[0m\u001b[1;33m(\u001b[0m\u001b[0mX\u001b[0m\u001b[1;33m)\u001b[0m\u001b[1;33m\u001b[0m\u001b[1;33m\u001b[0m\u001b[0m\n\u001b[0m\u001b[0;32m    420\u001b[0m         \u001b[1;32mif\u001b[0m \u001b[0mlen\u001b[0m\u001b[1;33m(\u001b[0m\u001b[0mscores\u001b[0m\u001b[1;33m.\u001b[0m\u001b[0mshape\u001b[0m\u001b[1;33m)\u001b[0m \u001b[1;33m==\u001b[0m \u001b[1;36m1\u001b[0m\u001b[1;33m:\u001b[0m\u001b[1;33m\u001b[0m\u001b[1;33m\u001b[0m\u001b[0m\n\u001b[0;32m    421\u001b[0m             \u001b[0mindices\u001b[0m \u001b[1;33m=\u001b[0m \u001b[0mxp\u001b[0m\u001b[1;33m.\u001b[0m\u001b[0mastype\u001b[0m\u001b[1;33m(\u001b[0m\u001b[0mscores\u001b[0m \u001b[1;33m>\u001b[0m \u001b[1;36m0\u001b[0m\u001b[1;33m,\u001b[0m \u001b[0mint\u001b[0m\u001b[1;33m)\u001b[0m\u001b[1;33m\u001b[0m\u001b[1;33m\u001b[0m\u001b[0m\n",
      "\u001b[1;32mC:\\ProgramData\\Anaconda3\\lib\\site-packages\\sklearn\\linear_model\\_base.py\u001b[0m in \u001b[0;36mdecision_function\u001b[1;34m(self, X)\u001b[0m\n\u001b[0;32m    395\u001b[0m             \u001b[0mthis\u001b[0m \u001b[1;32mclass\u001b[0m \u001b[0mwould\u001b[0m \u001b[0mbe\u001b[0m \u001b[0mpredicted\u001b[0m\u001b[1;33m.\u001b[0m\u001b[1;33m\u001b[0m\u001b[1;33m\u001b[0m\u001b[0m\n\u001b[0;32m    396\u001b[0m         \"\"\"\n\u001b[1;32m--> 397\u001b[1;33m         \u001b[0mcheck_is_fitted\u001b[0m\u001b[1;33m(\u001b[0m\u001b[0mself\u001b[0m\u001b[1;33m)\u001b[0m\u001b[1;33m\u001b[0m\u001b[1;33m\u001b[0m\u001b[0m\n\u001b[0m\u001b[0;32m    398\u001b[0m         \u001b[0mxp\u001b[0m\u001b[1;33m,\u001b[0m \u001b[0m_\u001b[0m \u001b[1;33m=\u001b[0m \u001b[0mget_namespace\u001b[0m\u001b[1;33m(\u001b[0m\u001b[0mX\u001b[0m\u001b[1;33m)\u001b[0m\u001b[1;33m\u001b[0m\u001b[1;33m\u001b[0m\u001b[0m\n\u001b[0;32m    399\u001b[0m \u001b[1;33m\u001b[0m\u001b[0m\n",
      "\u001b[1;32mC:\\ProgramData\\Anaconda3\\lib\\site-packages\\sklearn\\utils\\validation.py\u001b[0m in \u001b[0;36mcheck_is_fitted\u001b[1;34m(estimator, attributes, msg, all_or_any)\u001b[0m\n\u001b[0;32m   1388\u001b[0m \u001b[1;33m\u001b[0m\u001b[0m\n\u001b[0;32m   1389\u001b[0m     \u001b[1;32mif\u001b[0m \u001b[1;32mnot\u001b[0m \u001b[0mfitted\u001b[0m\u001b[1;33m:\u001b[0m\u001b[1;33m\u001b[0m\u001b[1;33m\u001b[0m\u001b[0m\n\u001b[1;32m-> 1390\u001b[1;33m         \u001b[1;32mraise\u001b[0m \u001b[0mNotFittedError\u001b[0m\u001b[1;33m(\u001b[0m\u001b[0mmsg\u001b[0m \u001b[1;33m%\u001b[0m \u001b[1;33m{\u001b[0m\u001b[1;34m\"name\"\u001b[0m\u001b[1;33m:\u001b[0m \u001b[0mtype\u001b[0m\u001b[1;33m(\u001b[0m\u001b[0mestimator\u001b[0m\u001b[1;33m)\u001b[0m\u001b[1;33m.\u001b[0m\u001b[0m__name__\u001b[0m\u001b[1;33m}\u001b[0m\u001b[1;33m)\u001b[0m\u001b[1;33m\u001b[0m\u001b[1;33m\u001b[0m\u001b[0m\n\u001b[0m\u001b[0;32m   1391\u001b[0m \u001b[1;33m\u001b[0m\u001b[0m\n\u001b[0;32m   1392\u001b[0m \u001b[1;33m\u001b[0m\u001b[0m\n",
      "\u001b[1;31mNotFittedError\u001b[0m: This LogisticRegression instance is not fitted yet. Call 'fit' with appropriate arguments before using this estimator."
     ]
    }
   ],
   "source": [
    "# Преобразование данных в формат, который можно использовать для прогнозирования\n",
    "X_new = data.drop('post', axis=1) # Предполагается, что 'target' - это столбец с целевыми значениями\n",
    "# Если необходимо, выполните дополнительную предобработку данных, чтобы они соответствовали формату, используемому в модели\n",
    "\n",
    "# Прогнозирование на новых данных\n",
    "y_pred = model.predict(X_new)\n",
    "\n",
    "# Вывод прогнозов\n",
    "print(y_pred)\n"
   ]
  },
  {
   "cell_type": "code",
   "execution_count": null,
   "id": "b77eaa88",
   "metadata": {},
   "outputs": [],
   "source": []
  }
 ],
 "metadata": {
  "kernelspec": {
   "display_name": "Python 3 (ipykernel)",
   "language": "python",
   "name": "python3"
  },
  "language_info": {
   "codemirror_mode": {
    "name": "ipython",
    "version": 3
   },
   "file_extension": ".py",
   "mimetype": "text/x-python",
   "name": "python",
   "nbconvert_exporter": "python",
   "pygments_lexer": "ipython3",
   "version": "3.9.7"
  }
 },
 "nbformat": 4,
 "nbformat_minor": 5
}
